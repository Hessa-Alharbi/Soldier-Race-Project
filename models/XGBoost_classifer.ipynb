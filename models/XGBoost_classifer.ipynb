{
 "cells": [
  {
   "cell_type": "code",
   "execution_count": 15,
   "metadata": {},
   "outputs": [],
   "source": [
    "%store -r  X\n",
    "%store -r  y\n",
    "\n",
    "%store -r  x_train\n",
    "%store -r  x_test\n",
    "\n",
    "%store -r  y_train\n",
    "%store  -r y_test\n",
    "\n",
    "%store -r col_trans\n",
    "\n",
    "%store -r scoring"
   ]
  },
  {
   "cell_type": "code",
   "execution_count": 16,
   "metadata": {},
   "outputs": [],
   "source": [
    "\n",
    "from sklearn.metrics import classification_report, confusion_matrix\n",
    "\n",
    "\n",
    "def eval_matric (model, x_train, y_train,x_test, y_test):\n",
    "    y_train_pred = model.predict(x_train)\n",
    "    y_pred = model.predict(x_test)\n",
    "\n",
    "    print(\"Test_Set\")\n",
    "    print(confusion_matrix(y_test, y_pred))\n",
    "    print(classification_report(y_test, y_pred))\n",
    "    print()\n",
    "    print(\"Train_Set\")\n",
    "    print(confusion_matrix(y_train, y_train_pred))\n",
    "    print(classification_report(y_train, y_train_pred))\n"
   ]
  },
  {
   "cell_type": "markdown",
   "metadata": {},
   "source": [
    "## XGBoost Model"
   ]
  },
  {
   "cell_type": "code",
   "execution_count": 17,
   "metadata": {},
   "outputs": [
    {
     "name": "stderr",
     "output_type": "stream",
     "text": [
      "c:\\Python310\\lib\\site-packages\\sklearn\\preprocessing\\_encoders.py:868: FutureWarning: `sparse` was renamed to `sparse_output` in version 1.2 and will be removed in 1.4. `sparse_output` is ignored unless you leave `sparse` to its default value.\n",
      "  warnings.warn(\n"
     ]
    },
    {
     "data": {
      "text/html": [
       "<style>#sk-container-id-2 {color: black;background-color: white;}#sk-container-id-2 pre{padding: 0;}#sk-container-id-2 div.sk-toggleable {background-color: white;}#sk-container-id-2 label.sk-toggleable__label {cursor: pointer;display: block;width: 100%;margin-bottom: 0;padding: 0.3em;box-sizing: border-box;text-align: center;}#sk-container-id-2 label.sk-toggleable__label-arrow:before {content: \"▸\";float: left;margin-right: 0.25em;color: #696969;}#sk-container-id-2 label.sk-toggleable__label-arrow:hover:before {color: black;}#sk-container-id-2 div.sk-estimator:hover label.sk-toggleable__label-arrow:before {color: black;}#sk-container-id-2 div.sk-toggleable__content {max-height: 0;max-width: 0;overflow: hidden;text-align: left;background-color: #f0f8ff;}#sk-container-id-2 div.sk-toggleable__content pre {margin: 0.2em;color: black;border-radius: 0.25em;background-color: #f0f8ff;}#sk-container-id-2 input.sk-toggleable__control:checked~div.sk-toggleable__content {max-height: 200px;max-width: 100%;overflow: auto;}#sk-container-id-2 input.sk-toggleable__control:checked~label.sk-toggleable__label-arrow:before {content: \"▾\";}#sk-container-id-2 div.sk-estimator input.sk-toggleable__control:checked~label.sk-toggleable__label {background-color: #d4ebff;}#sk-container-id-2 div.sk-label input.sk-toggleable__control:checked~label.sk-toggleable__label {background-color: #d4ebff;}#sk-container-id-2 input.sk-hidden--visually {border: 0;clip: rect(1px 1px 1px 1px);clip: rect(1px, 1px, 1px, 1px);height: 1px;margin: -1px;overflow: hidden;padding: 0;position: absolute;width: 1px;}#sk-container-id-2 div.sk-estimator {font-family: monospace;background-color: #f0f8ff;border: 1px dotted black;border-radius: 0.25em;box-sizing: border-box;margin-bottom: 0.5em;}#sk-container-id-2 div.sk-estimator:hover {background-color: #d4ebff;}#sk-container-id-2 div.sk-parallel-item::after {content: \"\";width: 100%;border-bottom: 1px solid gray;flex-grow: 1;}#sk-container-id-2 div.sk-label:hover label.sk-toggleable__label {background-color: #d4ebff;}#sk-container-id-2 div.sk-serial::before {content: \"\";position: absolute;border-left: 1px solid gray;box-sizing: border-box;top: 0;bottom: 0;left: 50%;z-index: 0;}#sk-container-id-2 div.sk-serial {display: flex;flex-direction: column;align-items: center;background-color: white;padding-right: 0.2em;padding-left: 0.2em;position: relative;}#sk-container-id-2 div.sk-item {position: relative;z-index: 1;}#sk-container-id-2 div.sk-parallel {display: flex;align-items: stretch;justify-content: center;background-color: white;position: relative;}#sk-container-id-2 div.sk-item::before, #sk-container-id-2 div.sk-parallel-item::before {content: \"\";position: absolute;border-left: 1px solid gray;box-sizing: border-box;top: 0;bottom: 0;left: 50%;z-index: -1;}#sk-container-id-2 div.sk-parallel-item {display: flex;flex-direction: column;z-index: 1;position: relative;background-color: white;}#sk-container-id-2 div.sk-parallel-item:first-child::after {align-self: flex-end;width: 50%;}#sk-container-id-2 div.sk-parallel-item:last-child::after {align-self: flex-start;width: 50%;}#sk-container-id-2 div.sk-parallel-item:only-child::after {width: 0;}#sk-container-id-2 div.sk-dashed-wrapped {border: 1px dashed gray;margin: 0 0.4em 0.5em 0.4em;box-sizing: border-box;padding-bottom: 0.4em;background-color: white;}#sk-container-id-2 div.sk-label label {font-family: monospace;font-weight: bold;display: inline-block;line-height: 1.2em;}#sk-container-id-2 div.sk-label-container {text-align: center;}#sk-container-id-2 div.sk-container {/* jupyter's `normalize.less` sets `[hidden] { display: none; }` but bootstrap.min.css set `[hidden] { display: none !important; }` so we also need the `!important` here to be able to override the default hidden behavior on the sphinx rendered scikit-learn.org. See: https://github.com/scikit-learn/scikit-learn/issues/21755 */display: inline-block !important;position: relative;}#sk-container-id-2 div.sk-text-repr-fallback {display: none;}</style><div id=\"sk-container-id-2\" class=\"sk-top-container\"><div class=\"sk-text-repr-fallback\"><pre>Pipeline(steps=[(&#x27;Oridnalencoder&#x27;,\n",
       "                 ColumnTransformer(remainder=MinMaxScaler(),\n",
       "                                   transformers=[(&#x27;onehotencoder&#x27;,\n",
       "                                                  OneHotEncoder(handle_unknown=&#x27;ignore&#x27;,\n",
       "                                                                sparse=False),\n",
       "                                                  Index([&#x27;Gender&#x27;, &#x27;WritingPreference&#x27;], dtype=&#x27;object&#x27;))])),\n",
       "                (&#x27;xgb_model&#x27;,\n",
       "                 XGBClassifier(base_score=None, booster=None, callbacks=None,\n",
       "                               colsample_bylevel=None, colsample_bynode=None,\n",
       "                               colsample_bytree=...\n",
       "                               grow_policy=None, importance_type=None,\n",
       "                               interaction_constraints=None, learning_rate=None,\n",
       "                               max_bin=None, max_cat_threshold=None,\n",
       "                               max_cat_to_onehot=None, max_delta_step=None,\n",
       "                               max_depth=None, max_leaves=None,\n",
       "                               min_child_weight=None, missing=nan,\n",
       "                               monotone_constraints=None, n_estimators=100,\n",
       "                               n_jobs=None, num_parallel_tree=None,\n",
       "                               objective=&#x27;multi:softprob&#x27;, predictor=None, ...))])</pre><b>In a Jupyter environment, please rerun this cell to show the HTML representation or trust the notebook. <br />On GitHub, the HTML representation is unable to render, please try loading this page with nbviewer.org.</b></div><div class=\"sk-container\" hidden><div class=\"sk-item sk-dashed-wrapped\"><div class=\"sk-label-container\"><div class=\"sk-label sk-toggleable\"><input class=\"sk-toggleable__control sk-hidden--visually\" id=\"sk-estimator-id-8\" type=\"checkbox\" ><label for=\"sk-estimator-id-8\" class=\"sk-toggleable__label sk-toggleable__label-arrow\">Pipeline</label><div class=\"sk-toggleable__content\"><pre>Pipeline(steps=[(&#x27;Oridnalencoder&#x27;,\n",
       "                 ColumnTransformer(remainder=MinMaxScaler(),\n",
       "                                   transformers=[(&#x27;onehotencoder&#x27;,\n",
       "                                                  OneHotEncoder(handle_unknown=&#x27;ignore&#x27;,\n",
       "                                                                sparse=False),\n",
       "                                                  Index([&#x27;Gender&#x27;, &#x27;WritingPreference&#x27;], dtype=&#x27;object&#x27;))])),\n",
       "                (&#x27;xgb_model&#x27;,\n",
       "                 XGBClassifier(base_score=None, booster=None, callbacks=None,\n",
       "                               colsample_bylevel=None, colsample_bynode=None,\n",
       "                               colsample_bytree=...\n",
       "                               grow_policy=None, importance_type=None,\n",
       "                               interaction_constraints=None, learning_rate=None,\n",
       "                               max_bin=None, max_cat_threshold=None,\n",
       "                               max_cat_to_onehot=None, max_delta_step=None,\n",
       "                               max_depth=None, max_leaves=None,\n",
       "                               min_child_weight=None, missing=nan,\n",
       "                               monotone_constraints=None, n_estimators=100,\n",
       "                               n_jobs=None, num_parallel_tree=None,\n",
       "                               objective=&#x27;multi:softprob&#x27;, predictor=None, ...))])</pre></div></div></div><div class=\"sk-serial\"><div class=\"sk-item sk-dashed-wrapped\"><div class=\"sk-label-container\"><div class=\"sk-label sk-toggleable\"><input class=\"sk-toggleable__control sk-hidden--visually\" id=\"sk-estimator-id-9\" type=\"checkbox\" ><label for=\"sk-estimator-id-9\" class=\"sk-toggleable__label sk-toggleable__label-arrow\">Oridnalencoder: ColumnTransformer</label><div class=\"sk-toggleable__content\"><pre>ColumnTransformer(remainder=MinMaxScaler(),\n",
       "                  transformers=[(&#x27;onehotencoder&#x27;,\n",
       "                                 OneHotEncoder(handle_unknown=&#x27;ignore&#x27;,\n",
       "                                               sparse=False),\n",
       "                                 Index([&#x27;Gender&#x27;, &#x27;WritingPreference&#x27;], dtype=&#x27;object&#x27;))])</pre></div></div></div><div class=\"sk-parallel\"><div class=\"sk-parallel-item\"><div class=\"sk-item\"><div class=\"sk-label-container\"><div class=\"sk-label sk-toggleable\"><input class=\"sk-toggleable__control sk-hidden--visually\" id=\"sk-estimator-id-10\" type=\"checkbox\" ><label for=\"sk-estimator-id-10\" class=\"sk-toggleable__label sk-toggleable__label-arrow\">onehotencoder</label><div class=\"sk-toggleable__content\"><pre>Index([&#x27;Gender&#x27;, &#x27;WritingPreference&#x27;], dtype=&#x27;object&#x27;)</pre></div></div></div><div class=\"sk-serial\"><div class=\"sk-item\"><div class=\"sk-estimator sk-toggleable\"><input class=\"sk-toggleable__control sk-hidden--visually\" id=\"sk-estimator-id-11\" type=\"checkbox\" ><label for=\"sk-estimator-id-11\" class=\"sk-toggleable__label sk-toggleable__label-arrow\">OneHotEncoder</label><div class=\"sk-toggleable__content\"><pre>OneHotEncoder(handle_unknown=&#x27;ignore&#x27;, sparse=False)</pre></div></div></div></div></div></div><div class=\"sk-parallel-item\"><div class=\"sk-item\"><div class=\"sk-label-container\"><div class=\"sk-label sk-toggleable\"><input class=\"sk-toggleable__control sk-hidden--visually\" id=\"sk-estimator-id-12\" type=\"checkbox\" ><label for=\"sk-estimator-id-12\" class=\"sk-toggleable__label sk-toggleable__label-arrow\">remainder</label><div class=\"sk-toggleable__content\"><pre>[&#x27;abdominalextensiondepthsitting&#x27;, &#x27;acromialheight&#x27;, &#x27;acromionradialelength&#x27;, &#x27;anklecircumference&#x27;, &#x27;axillaheight&#x27;, &#x27;balloffootcircumference&#x27;, &#x27;balloffootlength&#x27;, &#x27;biacromialbreadth&#x27;, &#x27;bicepscircumferenceflexed&#x27;, &#x27;bicristalbreadth&#x27;, &#x27;bideltoidbreadth&#x27;, &#x27;bimalleolarbreadth&#x27;, &#x27;bitragionchinarc&#x27;, &#x27;bitragionsubmandibulararc&#x27;, &#x27;bizygomaticbreadth&#x27;, &#x27;buttockcircumference&#x27;, &#x27;buttockdepth&#x27;, &#x27;buttockheight&#x27;, &#x27;buttockkneelength&#x27;, &#x27;buttockpopliteallength&#x27;, &#x27;calfcircumference&#x27;, &#x27;cervicaleheight&#x27;, &#x27;chestbreadth&#x27;, &#x27;chestcircumference&#x27;, &#x27;chestdepth&#x27;, &#x27;chestheight&#x27;, &#x27;crotchheight&#x27;, &#x27;crotchlengthomphalion&#x27;, &#x27;crotchlengthposterioromphalion&#x27;, &#x27;earbreadth&#x27;, &#x27;earlength&#x27;, &#x27;earprotrusion&#x27;, &#x27;elbowrestheight&#x27;, &#x27;eyeheightsitting&#x27;, &#x27;footbreadthhorizontal&#x27;, &#x27;footlength&#x27;, &#x27;forearmcenterofgriplength&#x27;, &#x27;forearmcircumferenceflexed&#x27;, &#x27;forearmforearmbreadth&#x27;, &#x27;forearmhandlength&#x27;, &#x27;functionalleglength&#x27;, &#x27;handbreadth&#x27;, &#x27;handcircumference&#x27;, &#x27;handlength&#x27;, &#x27;headbreadth&#x27;, &#x27;headcircumference&#x27;, &#x27;headlength&#x27;, &#x27;heelanklecircumference&#x27;, &#x27;heelbreadth&#x27;, &#x27;hipbreadth&#x27;, &#x27;hipbreadthsitting&#x27;, &#x27;iliocristaleheight&#x27;, &#x27;interpupillarybreadth&#x27;, &#x27;interscyei&#x27;, &#x27;interscyeii&#x27;, &#x27;kneeheightmidpatella&#x27;, &#x27;kneeheightsitting&#x27;, &#x27;lateralfemoralepicondyleheight&#x27;, &#x27;lateralmalleolusheight&#x27;, &#x27;lowerthighcircumference&#x27;, &#x27;mentonsellionlength&#x27;, &#x27;neckcircumference&#x27;, &#x27;neckcircumferencebase&#x27;, &#x27;overheadfingertipreachsitting&#x27;, &#x27;palmlength&#x27;, &#x27;poplitealheight&#x27;, &#x27;radialestylionlength&#x27;, &#x27;shouldercircumference&#x27;, &#x27;shoulderelbowlength&#x27;, &#x27;shoulderlength&#x27;, &#x27;sittingheight&#x27;, &#x27;sleevelengthspinewrist&#x27;, &#x27;sleeveoutseam&#x27;, &#x27;span&#x27;, &#x27;stature&#x27;, &#x27;suprasternaleheight&#x27;, &#x27;tenthribheight&#x27;, &#x27;thighcircumference&#x27;, &#x27;thighclearance&#x27;, &#x27;thumbtipreach&#x27;, &#x27;tibialheight&#x27;, &#x27;tragiontopofhead&#x27;, &#x27;trochanterionheight&#x27;, &#x27;verticaltrunkcircumferenceusa&#x27;, &#x27;waistbacklength&#x27;, &#x27;waistbreadth&#x27;, &#x27;waistcircumference&#x27;, &#x27;waistdepth&#x27;, &#x27;waistfrontlengthsitting&#x27;, &#x27;waistheightomphalion&#x27;, &#x27;weightkg&#x27;, &#x27;wristcircumference&#x27;, &#x27;wristheight&#x27;, &#x27;Age&#x27;, &#x27;Heightin&#x27;, &#x27;Weightlbs&#x27;]</pre></div></div></div><div class=\"sk-serial\"><div class=\"sk-item\"><div class=\"sk-estimator sk-toggleable\"><input class=\"sk-toggleable__control sk-hidden--visually\" id=\"sk-estimator-id-13\" type=\"checkbox\" ><label for=\"sk-estimator-id-13\" class=\"sk-toggleable__label sk-toggleable__label-arrow\">MinMaxScaler</label><div class=\"sk-toggleable__content\"><pre>MinMaxScaler()</pre></div></div></div></div></div></div></div></div><div class=\"sk-item\"><div class=\"sk-estimator sk-toggleable\"><input class=\"sk-toggleable__control sk-hidden--visually\" id=\"sk-estimator-id-14\" type=\"checkbox\" ><label for=\"sk-estimator-id-14\" class=\"sk-toggleable__label sk-toggleable__label-arrow\">XGBClassifier</label><div class=\"sk-toggleable__content\"><pre>XGBClassifier(base_score=None, booster=None, callbacks=None,\n",
       "              colsample_bylevel=None, colsample_bynode=None,\n",
       "              colsample_bytree=None, early_stopping_rounds=None,\n",
       "              enable_categorical=False, eval_metric=None, feature_types=None,\n",
       "              gamma=None, gpu_id=None, grow_policy=None, importance_type=None,\n",
       "              interaction_constraints=None, learning_rate=None, max_bin=None,\n",
       "              max_cat_threshold=None, max_cat_to_onehot=None,\n",
       "              max_delta_step=None, max_depth=None, max_leaves=None,\n",
       "              min_child_weight=None, missing=nan, monotone_constraints=None,\n",
       "              n_estimators=100, n_jobs=None, num_parallel_tree=None,\n",
       "              objective=&#x27;multi:softprob&#x27;, predictor=None, ...)</pre></div></div></div></div></div></div></div>"
      ],
      "text/plain": [
       "Pipeline(steps=[('Oridnalencoder',\n",
       "                 ColumnTransformer(remainder=MinMaxScaler(),\n",
       "                                   transformers=[('onehotencoder',\n",
       "                                                  OneHotEncoder(handle_unknown='ignore',\n",
       "                                                                sparse=False),\n",
       "                                                  Index(['Gender', 'WritingPreference'], dtype='object'))])),\n",
       "                ('xgb_model',\n",
       "                 XGBClassifier(base_score=None, booster=None, callbacks=None,\n",
       "                               colsample_bylevel=None, colsample_bynode=None,\n",
       "                               colsample_bytree=...\n",
       "                               grow_policy=None, importance_type=None,\n",
       "                               interaction_constraints=None, learning_rate=None,\n",
       "                               max_bin=None, max_cat_threshold=None,\n",
       "                               max_cat_to_onehot=None, max_delta_step=None,\n",
       "                               max_depth=None, max_leaves=None,\n",
       "                               min_child_weight=None, missing=nan,\n",
       "                               monotone_constraints=None, n_estimators=100,\n",
       "                               n_jobs=None, num_parallel_tree=None,\n",
       "                               objective='multi:softprob', predictor=None, ...))])"
      ]
     },
     "execution_count": 17,
     "metadata": {},
     "output_type": "execute_result"
    }
   ],
   "source": [
    "from sklearn.pipeline import Pipeline\n",
    "from xgboost import XGBClassifier\n",
    "\n",
    "\n",
    "ops_xgb = [(\"Oridnalencoder\", col_trans),\n",
    "           (\"xgb_model\", XGBClassifier(random_state = 101))\n",
    "           ]\n",
    "\n",
    "\n",
    "pipe_xgb_model = Pipeline(steps=ops_xgb)\n",
    "\n",
    "\n",
    "y_train_xgb = y_train.map({\"Black\": 0, \"Hispanic\": 1, \"White\": 2})\n",
    "y_test_xgb = y_test.map({\"Black\": 0, \"Hispanic\": 1, \"White\": 2})\n",
    "# If the target is not numeric in xgb 1.6 and higher versions, it returns an error.\n",
    "# That's why we do the conversion manually.\n",
    "\n",
    "pipe_xgb_model.fit(x_train,y_train_xgb)\n"
   ]
  },
  {
   "cell_type": "code",
   "execution_count": 18,
   "metadata": {},
   "outputs": [
    {
     "name": "stdout",
     "output_type": "stream",
     "text": [
      "Test_Set\n",
      "[[214  13  33]\n",
      " [  8  32  96]\n",
      " [  9  13 736]]\n",
      "              precision    recall  f1-score   support\n",
      "\n",
      "           0       0.93      0.82      0.87       260\n",
      "           1       0.55      0.24      0.33       136\n",
      "           2       0.85      0.97      0.91       758\n",
      "\n",
      "    accuracy                           0.85      1154\n",
      "   macro avg       0.78      0.68      0.70      1154\n",
      "weighted avg       0.83      0.85      0.83      1154\n",
      "\n",
      "\n",
      "Train_Set\n",
      "[[1038    0    0]\n",
      " [   0  543    0]\n",
      " [   0    0 3034]]\n",
      "              precision    recall  f1-score   support\n",
      "\n",
      "           0       1.00      1.00      1.00      1038\n",
      "           1       1.00      1.00      1.00       543\n",
      "           2       1.00      1.00      1.00      3034\n",
      "\n",
      "    accuracy                           1.00      4615\n",
      "   macro avg       1.00      1.00      1.00      4615\n",
      "weighted avg       1.00      1.00      1.00      4615\n",
      "\n"
     ]
    }
   ],
   "source": [
    "eval_matric(pipe_xgb_model, x_train,y_train_xgb,x_test, y_test_xgb)\n",
    "\n",
    "\n"
   ]
  },
  {
   "cell_type": "code",
   "execution_count": 19,
   "metadata": {},
   "outputs": [
    {
     "data": {
      "text/plain": [
       "array([0.50703142, 0.50703142, 0.50703142, ..., 0.50703142, 0.50703142,\n",
       "       0.50703142])"
      ]
     },
     "execution_count": 19,
     "metadata": {},
     "output_type": "execute_result"
    }
   ],
   "source": [
    "from sklearn.utils import class_weight\n",
    "\n",
    "classes_weights = class_weight.compute_sample_weight(\n",
    "    class_weight=\"balanced\", y=y_train_xgb\n",
    ")\n",
    "classes_weights\n",
    "\n",
    "# XGboost algorithm has no class_weight hyperparameter for multiclass.\n",
    "# We can use the sample_weight hyperparameter within the fit function."
   ]
  },
  {
   "cell_type": "code",
   "execution_count": 20,
   "metadata": {},
   "outputs": [
    {
     "data": {
      "text/html": [
       "<div>\n",
       "<style scoped>\n",
       "    .dataframe tbody tr th:only-of-type {\n",
       "        vertical-align: middle;\n",
       "    }\n",
       "\n",
       "    .dataframe tbody tr th {\n",
       "        vertical-align: top;\n",
       "    }\n",
       "\n",
       "    .dataframe thead th {\n",
       "        text-align: right;\n",
       "    }\n",
       "</style>\n",
       "<table border=\"1\" class=\"dataframe\">\n",
       "  <thead>\n",
       "    <tr style=\"text-align: right;\">\n",
       "      <th></th>\n",
       "      <th>weights</th>\n",
       "      <th>label</th>\n",
       "    </tr>\n",
       "  </thead>\n",
       "  <tbody>\n",
       "    <tr>\n",
       "      <th>5165</th>\n",
       "      <td>0.507031</td>\n",
       "      <td>2</td>\n",
       "    </tr>\n",
       "    <tr>\n",
       "      <th>5393</th>\n",
       "      <td>0.507031</td>\n",
       "      <td>2</td>\n",
       "    </tr>\n",
       "    <tr>\n",
       "      <th>5659</th>\n",
       "      <td>0.507031</td>\n",
       "      <td>2</td>\n",
       "    </tr>\n",
       "    <tr>\n",
       "      <th>3628</th>\n",
       "      <td>0.507031</td>\n",
       "      <td>2</td>\n",
       "    </tr>\n",
       "    <tr>\n",
       "      <th>2914</th>\n",
       "      <td>0.507031</td>\n",
       "      <td>2</td>\n",
       "    </tr>\n",
       "  </tbody>\n",
       "</table>\n",
       "</div>"
      ],
      "text/plain": [
       "       weights  label\n",
       "5165  0.507031      2\n",
       "5393  0.507031      2\n",
       "5659  0.507031      2\n",
       "3628  0.507031      2\n",
       "2914  0.507031      2"
      ]
     },
     "execution_count": 20,
     "metadata": {},
     "output_type": "execute_result"
    }
   ],
   "source": [
    "import pandas as pd\n",
    "\n",
    "\n",
    "my_dict = {\"weights\": classes_weights, \"label\": y_train_xgb}\n",
    "\n",
    "comp = pd.DataFrame(my_dict)\n",
    "\n",
    "comp.head()"
   ]
  },
  {
   "cell_type": "code",
   "execution_count": 21,
   "metadata": {},
   "outputs": [
    {
     "data": {
      "text/plain": [
       "label  weights \n",
       "0      1.482017    1038\n",
       "1      2.833026     543\n",
       "2      0.507031    3034\n",
       "Name: count, dtype: int64"
      ]
     },
     "execution_count": 21,
     "metadata": {},
     "output_type": "execute_result"
    }
   ],
   "source": [
    "comp.groupby(\"label\").value_counts()\n"
   ]
  },
  {
   "cell_type": "code",
   "execution_count": 23,
   "metadata": {},
   "outputs": [
    {
     "name": "stderr",
     "output_type": "stream",
     "text": [
      "c:\\Python310\\lib\\site-packages\\sklearn\\preprocessing\\_encoders.py:868: FutureWarning: `sparse` was renamed to `sparse_output` in version 1.2 and will be removed in 1.4. `sparse_output` is ignored unless you leave `sparse` to its default value.\n",
      "  warnings.warn(\n"
     ]
    },
    {
     "data": {
      "text/html": [
       "<style>#sk-container-id-3 {color: black;background-color: white;}#sk-container-id-3 pre{padding: 0;}#sk-container-id-3 div.sk-toggleable {background-color: white;}#sk-container-id-3 label.sk-toggleable__label {cursor: pointer;display: block;width: 100%;margin-bottom: 0;padding: 0.3em;box-sizing: border-box;text-align: center;}#sk-container-id-3 label.sk-toggleable__label-arrow:before {content: \"▸\";float: left;margin-right: 0.25em;color: #696969;}#sk-container-id-3 label.sk-toggleable__label-arrow:hover:before {color: black;}#sk-container-id-3 div.sk-estimator:hover label.sk-toggleable__label-arrow:before {color: black;}#sk-container-id-3 div.sk-toggleable__content {max-height: 0;max-width: 0;overflow: hidden;text-align: left;background-color: #f0f8ff;}#sk-container-id-3 div.sk-toggleable__content pre {margin: 0.2em;color: black;border-radius: 0.25em;background-color: #f0f8ff;}#sk-container-id-3 input.sk-toggleable__control:checked~div.sk-toggleable__content {max-height: 200px;max-width: 100%;overflow: auto;}#sk-container-id-3 input.sk-toggleable__control:checked~label.sk-toggleable__label-arrow:before {content: \"▾\";}#sk-container-id-3 div.sk-estimator input.sk-toggleable__control:checked~label.sk-toggleable__label {background-color: #d4ebff;}#sk-container-id-3 div.sk-label input.sk-toggleable__control:checked~label.sk-toggleable__label {background-color: #d4ebff;}#sk-container-id-3 input.sk-hidden--visually {border: 0;clip: rect(1px 1px 1px 1px);clip: rect(1px, 1px, 1px, 1px);height: 1px;margin: -1px;overflow: hidden;padding: 0;position: absolute;width: 1px;}#sk-container-id-3 div.sk-estimator {font-family: monospace;background-color: #f0f8ff;border: 1px dotted black;border-radius: 0.25em;box-sizing: border-box;margin-bottom: 0.5em;}#sk-container-id-3 div.sk-estimator:hover {background-color: #d4ebff;}#sk-container-id-3 div.sk-parallel-item::after {content: \"\";width: 100%;border-bottom: 1px solid gray;flex-grow: 1;}#sk-container-id-3 div.sk-label:hover label.sk-toggleable__label {background-color: #d4ebff;}#sk-container-id-3 div.sk-serial::before {content: \"\";position: absolute;border-left: 1px solid gray;box-sizing: border-box;top: 0;bottom: 0;left: 50%;z-index: 0;}#sk-container-id-3 div.sk-serial {display: flex;flex-direction: column;align-items: center;background-color: white;padding-right: 0.2em;padding-left: 0.2em;position: relative;}#sk-container-id-3 div.sk-item {position: relative;z-index: 1;}#sk-container-id-3 div.sk-parallel {display: flex;align-items: stretch;justify-content: center;background-color: white;position: relative;}#sk-container-id-3 div.sk-item::before, #sk-container-id-3 div.sk-parallel-item::before {content: \"\";position: absolute;border-left: 1px solid gray;box-sizing: border-box;top: 0;bottom: 0;left: 50%;z-index: -1;}#sk-container-id-3 div.sk-parallel-item {display: flex;flex-direction: column;z-index: 1;position: relative;background-color: white;}#sk-container-id-3 div.sk-parallel-item:first-child::after {align-self: flex-end;width: 50%;}#sk-container-id-3 div.sk-parallel-item:last-child::after {align-self: flex-start;width: 50%;}#sk-container-id-3 div.sk-parallel-item:only-child::after {width: 0;}#sk-container-id-3 div.sk-dashed-wrapped {border: 1px dashed gray;margin: 0 0.4em 0.5em 0.4em;box-sizing: border-box;padding-bottom: 0.4em;background-color: white;}#sk-container-id-3 div.sk-label label {font-family: monospace;font-weight: bold;display: inline-block;line-height: 1.2em;}#sk-container-id-3 div.sk-label-container {text-align: center;}#sk-container-id-3 div.sk-container {/* jupyter's `normalize.less` sets `[hidden] { display: none; }` but bootstrap.min.css set `[hidden] { display: none !important; }` so we also need the `!important` here to be able to override the default hidden behavior on the sphinx rendered scikit-learn.org. See: https://github.com/scikit-learn/scikit-learn/issues/21755 */display: inline-block !important;position: relative;}#sk-container-id-3 div.sk-text-repr-fallback {display: none;}</style><div id=\"sk-container-id-3\" class=\"sk-top-container\"><div class=\"sk-text-repr-fallback\"><pre>Pipeline(steps=[(&#x27;Oridnalencoder&#x27;,\n",
       "                 ColumnTransformer(remainder=MinMaxScaler(),\n",
       "                                   transformers=[(&#x27;onehotencoder&#x27;,\n",
       "                                                  OneHotEncoder(handle_unknown=&#x27;ignore&#x27;,\n",
       "                                                                sparse=False),\n",
       "                                                  Index([&#x27;Gender&#x27;, &#x27;WritingPreference&#x27;], dtype=&#x27;object&#x27;))])),\n",
       "                (&#x27;xgb_model&#x27;,\n",
       "                 XGBClassifier(base_score=None, booster=None, callbacks=None,\n",
       "                               colsample_bylevel=None, colsample_bynode=None,\n",
       "                               colsample_bytree=...\n",
       "                               grow_policy=None, importance_type=None,\n",
       "                               interaction_constraints=None, learning_rate=None,\n",
       "                               max_bin=None, max_cat_threshold=None,\n",
       "                               max_cat_to_onehot=None, max_delta_step=None,\n",
       "                               max_depth=None, max_leaves=None,\n",
       "                               min_child_weight=None, missing=nan,\n",
       "                               monotone_constraints=None, n_estimators=100,\n",
       "                               n_jobs=None, num_parallel_tree=None,\n",
       "                               objective=&#x27;multi:softprob&#x27;, predictor=None, ...))])</pre><b>In a Jupyter environment, please rerun this cell to show the HTML representation or trust the notebook. <br />On GitHub, the HTML representation is unable to render, please try loading this page with nbviewer.org.</b></div><div class=\"sk-container\" hidden><div class=\"sk-item sk-dashed-wrapped\"><div class=\"sk-label-container\"><div class=\"sk-label sk-toggleable\"><input class=\"sk-toggleable__control sk-hidden--visually\" id=\"sk-estimator-id-15\" type=\"checkbox\" ><label for=\"sk-estimator-id-15\" class=\"sk-toggleable__label sk-toggleable__label-arrow\">Pipeline</label><div class=\"sk-toggleable__content\"><pre>Pipeline(steps=[(&#x27;Oridnalencoder&#x27;,\n",
       "                 ColumnTransformer(remainder=MinMaxScaler(),\n",
       "                                   transformers=[(&#x27;onehotencoder&#x27;,\n",
       "                                                  OneHotEncoder(handle_unknown=&#x27;ignore&#x27;,\n",
       "                                                                sparse=False),\n",
       "                                                  Index([&#x27;Gender&#x27;, &#x27;WritingPreference&#x27;], dtype=&#x27;object&#x27;))])),\n",
       "                (&#x27;xgb_model&#x27;,\n",
       "                 XGBClassifier(base_score=None, booster=None, callbacks=None,\n",
       "                               colsample_bylevel=None, colsample_bynode=None,\n",
       "                               colsample_bytree=...\n",
       "                               grow_policy=None, importance_type=None,\n",
       "                               interaction_constraints=None, learning_rate=None,\n",
       "                               max_bin=None, max_cat_threshold=None,\n",
       "                               max_cat_to_onehot=None, max_delta_step=None,\n",
       "                               max_depth=None, max_leaves=None,\n",
       "                               min_child_weight=None, missing=nan,\n",
       "                               monotone_constraints=None, n_estimators=100,\n",
       "                               n_jobs=None, num_parallel_tree=None,\n",
       "                               objective=&#x27;multi:softprob&#x27;, predictor=None, ...))])</pre></div></div></div><div class=\"sk-serial\"><div class=\"sk-item sk-dashed-wrapped\"><div class=\"sk-label-container\"><div class=\"sk-label sk-toggleable\"><input class=\"sk-toggleable__control sk-hidden--visually\" id=\"sk-estimator-id-16\" type=\"checkbox\" ><label for=\"sk-estimator-id-16\" class=\"sk-toggleable__label sk-toggleable__label-arrow\">Oridnalencoder: ColumnTransformer</label><div class=\"sk-toggleable__content\"><pre>ColumnTransformer(remainder=MinMaxScaler(),\n",
       "                  transformers=[(&#x27;onehotencoder&#x27;,\n",
       "                                 OneHotEncoder(handle_unknown=&#x27;ignore&#x27;,\n",
       "                                               sparse=False),\n",
       "                                 Index([&#x27;Gender&#x27;, &#x27;WritingPreference&#x27;], dtype=&#x27;object&#x27;))])</pre></div></div></div><div class=\"sk-parallel\"><div class=\"sk-parallel-item\"><div class=\"sk-item\"><div class=\"sk-label-container\"><div class=\"sk-label sk-toggleable\"><input class=\"sk-toggleable__control sk-hidden--visually\" id=\"sk-estimator-id-17\" type=\"checkbox\" ><label for=\"sk-estimator-id-17\" class=\"sk-toggleable__label sk-toggleable__label-arrow\">onehotencoder</label><div class=\"sk-toggleable__content\"><pre>Index([&#x27;Gender&#x27;, &#x27;WritingPreference&#x27;], dtype=&#x27;object&#x27;)</pre></div></div></div><div class=\"sk-serial\"><div class=\"sk-item\"><div class=\"sk-estimator sk-toggleable\"><input class=\"sk-toggleable__control sk-hidden--visually\" id=\"sk-estimator-id-18\" type=\"checkbox\" ><label for=\"sk-estimator-id-18\" class=\"sk-toggleable__label sk-toggleable__label-arrow\">OneHotEncoder</label><div class=\"sk-toggleable__content\"><pre>OneHotEncoder(handle_unknown=&#x27;ignore&#x27;, sparse=False)</pre></div></div></div></div></div></div><div class=\"sk-parallel-item\"><div class=\"sk-item\"><div class=\"sk-label-container\"><div class=\"sk-label sk-toggleable\"><input class=\"sk-toggleable__control sk-hidden--visually\" id=\"sk-estimator-id-19\" type=\"checkbox\" ><label for=\"sk-estimator-id-19\" class=\"sk-toggleable__label sk-toggleable__label-arrow\">remainder</label><div class=\"sk-toggleable__content\"><pre>[&#x27;abdominalextensiondepthsitting&#x27;, &#x27;acromialheight&#x27;, &#x27;acromionradialelength&#x27;, &#x27;anklecircumference&#x27;, &#x27;axillaheight&#x27;, &#x27;balloffootcircumference&#x27;, &#x27;balloffootlength&#x27;, &#x27;biacromialbreadth&#x27;, &#x27;bicepscircumferenceflexed&#x27;, &#x27;bicristalbreadth&#x27;, &#x27;bideltoidbreadth&#x27;, &#x27;bimalleolarbreadth&#x27;, &#x27;bitragionchinarc&#x27;, &#x27;bitragionsubmandibulararc&#x27;, &#x27;bizygomaticbreadth&#x27;, &#x27;buttockcircumference&#x27;, &#x27;buttockdepth&#x27;, &#x27;buttockheight&#x27;, &#x27;buttockkneelength&#x27;, &#x27;buttockpopliteallength&#x27;, &#x27;calfcircumference&#x27;, &#x27;cervicaleheight&#x27;, &#x27;chestbreadth&#x27;, &#x27;chestcircumference&#x27;, &#x27;chestdepth&#x27;, &#x27;chestheight&#x27;, &#x27;crotchheight&#x27;, &#x27;crotchlengthomphalion&#x27;, &#x27;crotchlengthposterioromphalion&#x27;, &#x27;earbreadth&#x27;, &#x27;earlength&#x27;, &#x27;earprotrusion&#x27;, &#x27;elbowrestheight&#x27;, &#x27;eyeheightsitting&#x27;, &#x27;footbreadthhorizontal&#x27;, &#x27;footlength&#x27;, &#x27;forearmcenterofgriplength&#x27;, &#x27;forearmcircumferenceflexed&#x27;, &#x27;forearmforearmbreadth&#x27;, &#x27;forearmhandlength&#x27;, &#x27;functionalleglength&#x27;, &#x27;handbreadth&#x27;, &#x27;handcircumference&#x27;, &#x27;handlength&#x27;, &#x27;headbreadth&#x27;, &#x27;headcircumference&#x27;, &#x27;headlength&#x27;, &#x27;heelanklecircumference&#x27;, &#x27;heelbreadth&#x27;, &#x27;hipbreadth&#x27;, &#x27;hipbreadthsitting&#x27;, &#x27;iliocristaleheight&#x27;, &#x27;interpupillarybreadth&#x27;, &#x27;interscyei&#x27;, &#x27;interscyeii&#x27;, &#x27;kneeheightmidpatella&#x27;, &#x27;kneeheightsitting&#x27;, &#x27;lateralfemoralepicondyleheight&#x27;, &#x27;lateralmalleolusheight&#x27;, &#x27;lowerthighcircumference&#x27;, &#x27;mentonsellionlength&#x27;, &#x27;neckcircumference&#x27;, &#x27;neckcircumferencebase&#x27;, &#x27;overheadfingertipreachsitting&#x27;, &#x27;palmlength&#x27;, &#x27;poplitealheight&#x27;, &#x27;radialestylionlength&#x27;, &#x27;shouldercircumference&#x27;, &#x27;shoulderelbowlength&#x27;, &#x27;shoulderlength&#x27;, &#x27;sittingheight&#x27;, &#x27;sleevelengthspinewrist&#x27;, &#x27;sleeveoutseam&#x27;, &#x27;span&#x27;, &#x27;stature&#x27;, &#x27;suprasternaleheight&#x27;, &#x27;tenthribheight&#x27;, &#x27;thighcircumference&#x27;, &#x27;thighclearance&#x27;, &#x27;thumbtipreach&#x27;, &#x27;tibialheight&#x27;, &#x27;tragiontopofhead&#x27;, &#x27;trochanterionheight&#x27;, &#x27;verticaltrunkcircumferenceusa&#x27;, &#x27;waistbacklength&#x27;, &#x27;waistbreadth&#x27;, &#x27;waistcircumference&#x27;, &#x27;waistdepth&#x27;, &#x27;waistfrontlengthsitting&#x27;, &#x27;waistheightomphalion&#x27;, &#x27;weightkg&#x27;, &#x27;wristcircumference&#x27;, &#x27;wristheight&#x27;, &#x27;Age&#x27;, &#x27;Heightin&#x27;, &#x27;Weightlbs&#x27;]</pre></div></div></div><div class=\"sk-serial\"><div class=\"sk-item\"><div class=\"sk-estimator sk-toggleable\"><input class=\"sk-toggleable__control sk-hidden--visually\" id=\"sk-estimator-id-20\" type=\"checkbox\" ><label for=\"sk-estimator-id-20\" class=\"sk-toggleable__label sk-toggleable__label-arrow\">MinMaxScaler</label><div class=\"sk-toggleable__content\"><pre>MinMaxScaler()</pre></div></div></div></div></div></div></div></div><div class=\"sk-item\"><div class=\"sk-estimator sk-toggleable\"><input class=\"sk-toggleable__control sk-hidden--visually\" id=\"sk-estimator-id-21\" type=\"checkbox\" ><label for=\"sk-estimator-id-21\" class=\"sk-toggleable__label sk-toggleable__label-arrow\">XGBClassifier</label><div class=\"sk-toggleable__content\"><pre>XGBClassifier(base_score=None, booster=None, callbacks=None,\n",
       "              colsample_bylevel=None, colsample_bynode=None,\n",
       "              colsample_bytree=None, early_stopping_rounds=None,\n",
       "              enable_categorical=False, eval_metric=None, feature_types=None,\n",
       "              gamma=None, gpu_id=None, grow_policy=None, importance_type=None,\n",
       "              interaction_constraints=None, learning_rate=None, max_bin=None,\n",
       "              max_cat_threshold=None, max_cat_to_onehot=None,\n",
       "              max_delta_step=None, max_depth=None, max_leaves=None,\n",
       "              min_child_weight=None, missing=nan, monotone_constraints=None,\n",
       "              n_estimators=100, n_jobs=None, num_parallel_tree=None,\n",
       "              objective=&#x27;multi:softprob&#x27;, predictor=None, ...)</pre></div></div></div></div></div></div></div>"
      ],
      "text/plain": [
       "Pipeline(steps=[('Oridnalencoder',\n",
       "                 ColumnTransformer(remainder=MinMaxScaler(),\n",
       "                                   transformers=[('onehotencoder',\n",
       "                                                  OneHotEncoder(handle_unknown='ignore',\n",
       "                                                                sparse=False),\n",
       "                                                  Index(['Gender', 'WritingPreference'], dtype='object'))])),\n",
       "                ('xgb_model',\n",
       "                 XGBClassifier(base_score=None, booster=None, callbacks=None,\n",
       "                               colsample_bylevel=None, colsample_bynode=None,\n",
       "                               colsample_bytree=...\n",
       "                               grow_policy=None, importance_type=None,\n",
       "                               interaction_constraints=None, learning_rate=None,\n",
       "                               max_bin=None, max_cat_threshold=None,\n",
       "                               max_cat_to_onehot=None, max_delta_step=None,\n",
       "                               max_depth=None, max_leaves=None,\n",
       "                               min_child_weight=None, missing=nan,\n",
       "                               monotone_constraints=None, n_estimators=100,\n",
       "                               n_jobs=None, num_parallel_tree=None,\n",
       "                               objective='multi:softprob', predictor=None, ...))])"
      ]
     },
     "execution_count": 23,
     "metadata": {},
     "output_type": "execute_result"
    }
   ],
   "source": [
    "pipe_xgb_model.fit(x_train, y_train_xgb, xgb_model__sample_weight=classes_weights)\n",
    "# weight parameter in XGBoost is per instance not per class. Therefore,\n",
    "# we need to assign the weight of each class to its instances,\n",
    "# which is the same thing."
   ]
  },
  {
   "cell_type": "code",
   "execution_count": 24,
   "metadata": {},
   "outputs": [
    {
     "name": "stdout",
     "output_type": "stream",
     "text": [
      "Test_Set\n",
      "[[222  14  24]\n",
      " [  9  49  78]\n",
      " [ 15  36 707]]\n",
      "              precision    recall  f1-score   support\n",
      "\n",
      "           0       0.90      0.85      0.88       260\n",
      "           1       0.49      0.36      0.42       136\n",
      "           2       0.87      0.93      0.90       758\n",
      "\n",
      "    accuracy                           0.85      1154\n",
      "   macro avg       0.76      0.72      0.73      1154\n",
      "weighted avg       0.84      0.85      0.84      1154\n",
      "\n",
      "\n",
      "Train_Set\n",
      "[[1038    0    0]\n",
      " [   0  543    0]\n",
      " [   0    0 3034]]\n",
      "              precision    recall  f1-score   support\n",
      "\n",
      "           0       1.00      1.00      1.00      1038\n",
      "           1       1.00      1.00      1.00       543\n",
      "           2       1.00      1.00      1.00      3034\n",
      "\n",
      "    accuracy                           1.00      4615\n",
      "   macro avg       1.00      1.00      1.00      4615\n",
      "weighted avg       1.00      1.00      1.00      4615\n",
      "\n"
     ]
    }
   ],
   "source": [
    "eval_matric(pipe_xgb_model, x_train, y_train_xgb, x_test, y_test_xgb)"
   ]
  },
  {
   "cell_type": "code",
   "execution_count": 25,
   "metadata": {},
   "outputs": [],
   "source": [
    "from sklearn.metrics import f1_score, make_scorer, precision_score, recall_score\n",
    "\n",
    "# Since xgb does not accept non-encoded targets, we arrange the scoring_xgb\n",
    "# according to the 1 numeric class corresponding to hispanics.\n",
    "\n",
    "scoring_xgb = {\n",
    "    \"precision_Hispanic\": make_scorer(precision_score, average=None, labels=[1]),\n",
    "    \"recall_Hispanic\": make_scorer(recall_score, average=None, labels=[1]),\n",
    "    \"f1_Hispanic\": make_scorer(f1_score, average=None, labels=[1]),\n",
    "}\n"
   ]
  },
  {
   "cell_type": "code",
   "execution_count": 27,
   "metadata": {},
   "outputs": [
    {
     "data": {
      "text/plain": [
       "test_precision_Hispanic     0.523398\n",
       "train_precision_Hispanic    1.000000\n",
       "test_recall_Hispanic        0.279969\n",
       "train_recall_Hispanic       1.000000\n",
       "test_f1_Hispanic            0.364119\n",
       "train_f1_Hispanic           1.000000\n",
       "dtype: float64"
      ]
     },
     "execution_count": 27,
     "metadata": {},
     "output_type": "execute_result"
    }
   ],
   "source": [
    "from sklearn.model_selection import cross_validate\n",
    "\n",
    "\n",
    "operations = [\n",
    "    (\"ordinalEncoder\", col_trans),\n",
    "    (\"xgb_model\", XGBClassifier(random_state=101))\n",
    "]\n",
    "\n",
    "\n",
    "model = Pipeline(steps=operations)\n",
    "\n",
    "\n",
    "scores = cross_validate(model, \n",
    "                        x_train,\n",
    "                        y_train_xgb,\n",
    "                        scoring=scoring_xgb,\n",
    "                        n_jobs=-1,\n",
    "                        return_train_score=True,\n",
    "                        fit_params={\"xgb_model__sample_weight\":classes_weights})\n",
    "\n",
    "df_scores = pd.DataFrame(scores, index=range(1, 6))\n",
    "df_scores.mean()[2:]"
   ]
  },
  {
   "cell_type": "code",
   "execution_count": 28,
   "metadata": {},
   "outputs": [],
   "source": [
    "## GridSearchCV\n",
    "\n",
    "param_grid = {\n",
    "    \"xgb_model__n_estimators\": [20, 40],\n",
    "    \"xgb_model__max_depth\": [1, 2],\n",
    "    \"xgb_model__learning_rate\": [0.03, 0.05],\n",
    "    \"xgb_model__subsample\": [0.8, 1],\n",
    "    \"xgb_model__colsample_bytree\": [0.8, 1],\n",
    "}"
   ]
  },
  {
   "cell_type": "code",
   "execution_count": 30,
   "metadata": {},
   "outputs": [],
   "source": [
    "from sklearn.model_selection import GridSearchCV\n",
    "\n",
    "\n",
    "operations_xgb = [\n",
    "    (\"OrdinalEncoder\", col_trans),\n",
    "    (\"xgb_model\", XGBClassifier(random_state=101)),\n",
    "]\n",
    "\n",
    "model = Pipeline(steps=operations_xgb)\n",
    "\n",
    "xgb_grid_model = GridSearchCV(\n",
    "    model,\n",
    "    param_grid,\n",
    "    scoring=make_scorer(recall_score, average=None, labels=[1]),\n",
    "    cv=5,\n",
    "    n_jobs=-1,\n",
    "    return_train_score=True,\n",
    ")"
   ]
  },
  {
   "cell_type": "code",
   "execution_count": 31,
   "metadata": {},
   "outputs": [
    {
     "name": "stderr",
     "output_type": "stream",
     "text": [
      "c:\\Python310\\lib\\site-packages\\sklearn\\preprocessing\\_encoders.py:868: FutureWarning: `sparse` was renamed to `sparse_output` in version 1.2 and will be removed in 1.4. `sparse_output` is ignored unless you leave `sparse` to its default value.\n",
      "  warnings.warn(\n"
     ]
    },
    {
     "data": {
      "text/html": [
       "<style>#sk-container-id-4 {color: black;background-color: white;}#sk-container-id-4 pre{padding: 0;}#sk-container-id-4 div.sk-toggleable {background-color: white;}#sk-container-id-4 label.sk-toggleable__label {cursor: pointer;display: block;width: 100%;margin-bottom: 0;padding: 0.3em;box-sizing: border-box;text-align: center;}#sk-container-id-4 label.sk-toggleable__label-arrow:before {content: \"▸\";float: left;margin-right: 0.25em;color: #696969;}#sk-container-id-4 label.sk-toggleable__label-arrow:hover:before {color: black;}#sk-container-id-4 div.sk-estimator:hover label.sk-toggleable__label-arrow:before {color: black;}#sk-container-id-4 div.sk-toggleable__content {max-height: 0;max-width: 0;overflow: hidden;text-align: left;background-color: #f0f8ff;}#sk-container-id-4 div.sk-toggleable__content pre {margin: 0.2em;color: black;border-radius: 0.25em;background-color: #f0f8ff;}#sk-container-id-4 input.sk-toggleable__control:checked~div.sk-toggleable__content {max-height: 200px;max-width: 100%;overflow: auto;}#sk-container-id-4 input.sk-toggleable__control:checked~label.sk-toggleable__label-arrow:before {content: \"▾\";}#sk-container-id-4 div.sk-estimator input.sk-toggleable__control:checked~label.sk-toggleable__label {background-color: #d4ebff;}#sk-container-id-4 div.sk-label input.sk-toggleable__control:checked~label.sk-toggleable__label {background-color: #d4ebff;}#sk-container-id-4 input.sk-hidden--visually {border: 0;clip: rect(1px 1px 1px 1px);clip: rect(1px, 1px, 1px, 1px);height: 1px;margin: -1px;overflow: hidden;padding: 0;position: absolute;width: 1px;}#sk-container-id-4 div.sk-estimator {font-family: monospace;background-color: #f0f8ff;border: 1px dotted black;border-radius: 0.25em;box-sizing: border-box;margin-bottom: 0.5em;}#sk-container-id-4 div.sk-estimator:hover {background-color: #d4ebff;}#sk-container-id-4 div.sk-parallel-item::after {content: \"\";width: 100%;border-bottom: 1px solid gray;flex-grow: 1;}#sk-container-id-4 div.sk-label:hover label.sk-toggleable__label {background-color: #d4ebff;}#sk-container-id-4 div.sk-serial::before {content: \"\";position: absolute;border-left: 1px solid gray;box-sizing: border-box;top: 0;bottom: 0;left: 50%;z-index: 0;}#sk-container-id-4 div.sk-serial {display: flex;flex-direction: column;align-items: center;background-color: white;padding-right: 0.2em;padding-left: 0.2em;position: relative;}#sk-container-id-4 div.sk-item {position: relative;z-index: 1;}#sk-container-id-4 div.sk-parallel {display: flex;align-items: stretch;justify-content: center;background-color: white;position: relative;}#sk-container-id-4 div.sk-item::before, #sk-container-id-4 div.sk-parallel-item::before {content: \"\";position: absolute;border-left: 1px solid gray;box-sizing: border-box;top: 0;bottom: 0;left: 50%;z-index: -1;}#sk-container-id-4 div.sk-parallel-item {display: flex;flex-direction: column;z-index: 1;position: relative;background-color: white;}#sk-container-id-4 div.sk-parallel-item:first-child::after {align-self: flex-end;width: 50%;}#sk-container-id-4 div.sk-parallel-item:last-child::after {align-self: flex-start;width: 50%;}#sk-container-id-4 div.sk-parallel-item:only-child::after {width: 0;}#sk-container-id-4 div.sk-dashed-wrapped {border: 1px dashed gray;margin: 0 0.4em 0.5em 0.4em;box-sizing: border-box;padding-bottom: 0.4em;background-color: white;}#sk-container-id-4 div.sk-label label {font-family: monospace;font-weight: bold;display: inline-block;line-height: 1.2em;}#sk-container-id-4 div.sk-label-container {text-align: center;}#sk-container-id-4 div.sk-container {/* jupyter's `normalize.less` sets `[hidden] { display: none; }` but bootstrap.min.css set `[hidden] { display: none !important; }` so we also need the `!important` here to be able to override the default hidden behavior on the sphinx rendered scikit-learn.org. See: https://github.com/scikit-learn/scikit-learn/issues/21755 */display: inline-block !important;position: relative;}#sk-container-id-4 div.sk-text-repr-fallback {display: none;}</style><div id=\"sk-container-id-4\" class=\"sk-top-container\"><div class=\"sk-text-repr-fallback\"><pre>GridSearchCV(cv=5,\n",
       "             estimator=Pipeline(steps=[(&#x27;OrdinalEncoder&#x27;,\n",
       "                                        ColumnTransformer(remainder=MinMaxScaler(),\n",
       "                                                          transformers=[(&#x27;onehotencoder&#x27;,\n",
       "                                                                         OneHotEncoder(handle_unknown=&#x27;ignore&#x27;,\n",
       "                                                                                       sparse=False),\n",
       "                                                                         Index([&#x27;Gender&#x27;, &#x27;WritingPreference&#x27;], dtype=&#x27;object&#x27;))])),\n",
       "                                       (&#x27;xgb_model&#x27;,\n",
       "                                        XGBClassifier(base_score=None,\n",
       "                                                      booster=None,\n",
       "                                                      callbacks=None,\n",
       "                                                      colsample_bylevel=None,\n",
       "                                                      colsample_b...\n",
       "                                                      n_jobs=None,\n",
       "                                                      num_parallel_tree=None,\n",
       "                                                      predictor=None,\n",
       "                                                      random_state=101, ...))]),\n",
       "             n_jobs=-1,\n",
       "             param_grid={&#x27;xgb_model__colsample_bytree&#x27;: [0.8, 1],\n",
       "                         &#x27;xgb_model__learning_rate&#x27;: [0.03, 0.05],\n",
       "                         &#x27;xgb_model__max_depth&#x27;: [1, 2],\n",
       "                         &#x27;xgb_model__n_estimators&#x27;: [20, 40],\n",
       "                         &#x27;xgb_model__subsample&#x27;: [0.8, 1]},\n",
       "             return_train_score=True,\n",
       "             scoring=make_scorer(recall_score, average=None, labels=[1]))</pre><b>In a Jupyter environment, please rerun this cell to show the HTML representation or trust the notebook. <br />On GitHub, the HTML representation is unable to render, please try loading this page with nbviewer.org.</b></div><div class=\"sk-container\" hidden><div class=\"sk-item sk-dashed-wrapped\"><div class=\"sk-label-container\"><div class=\"sk-label sk-toggleable\"><input class=\"sk-toggleable__control sk-hidden--visually\" id=\"sk-estimator-id-22\" type=\"checkbox\" ><label for=\"sk-estimator-id-22\" class=\"sk-toggleable__label sk-toggleable__label-arrow\">GridSearchCV</label><div class=\"sk-toggleable__content\"><pre>GridSearchCV(cv=5,\n",
       "             estimator=Pipeline(steps=[(&#x27;OrdinalEncoder&#x27;,\n",
       "                                        ColumnTransformer(remainder=MinMaxScaler(),\n",
       "                                                          transformers=[(&#x27;onehotencoder&#x27;,\n",
       "                                                                         OneHotEncoder(handle_unknown=&#x27;ignore&#x27;,\n",
       "                                                                                       sparse=False),\n",
       "                                                                         Index([&#x27;Gender&#x27;, &#x27;WritingPreference&#x27;], dtype=&#x27;object&#x27;))])),\n",
       "                                       (&#x27;xgb_model&#x27;,\n",
       "                                        XGBClassifier(base_score=None,\n",
       "                                                      booster=None,\n",
       "                                                      callbacks=None,\n",
       "                                                      colsample_bylevel=None,\n",
       "                                                      colsample_b...\n",
       "                                                      n_jobs=None,\n",
       "                                                      num_parallel_tree=None,\n",
       "                                                      predictor=None,\n",
       "                                                      random_state=101, ...))]),\n",
       "             n_jobs=-1,\n",
       "             param_grid={&#x27;xgb_model__colsample_bytree&#x27;: [0.8, 1],\n",
       "                         &#x27;xgb_model__learning_rate&#x27;: [0.03, 0.05],\n",
       "                         &#x27;xgb_model__max_depth&#x27;: [1, 2],\n",
       "                         &#x27;xgb_model__n_estimators&#x27;: [20, 40],\n",
       "                         &#x27;xgb_model__subsample&#x27;: [0.8, 1]},\n",
       "             return_train_score=True,\n",
       "             scoring=make_scorer(recall_score, average=None, labels=[1]))</pre></div></div></div><div class=\"sk-parallel\"><div class=\"sk-parallel-item\"><div class=\"sk-item\"><div class=\"sk-label-container\"><div class=\"sk-label sk-toggleable\"><input class=\"sk-toggleable__control sk-hidden--visually\" id=\"sk-estimator-id-23\" type=\"checkbox\" ><label for=\"sk-estimator-id-23\" class=\"sk-toggleable__label sk-toggleable__label-arrow\">estimator: Pipeline</label><div class=\"sk-toggleable__content\"><pre>Pipeline(steps=[(&#x27;OrdinalEncoder&#x27;,\n",
       "                 ColumnTransformer(remainder=MinMaxScaler(),\n",
       "                                   transformers=[(&#x27;onehotencoder&#x27;,\n",
       "                                                  OneHotEncoder(handle_unknown=&#x27;ignore&#x27;,\n",
       "                                                                sparse=False),\n",
       "                                                  Index([&#x27;Gender&#x27;, &#x27;WritingPreference&#x27;], dtype=&#x27;object&#x27;))])),\n",
       "                (&#x27;xgb_model&#x27;,\n",
       "                 XGBClassifier(base_score=None, booster=None, callbacks=None,\n",
       "                               colsample_bylevel=None, colsample_bynode=None,\n",
       "                               colsample_bytree=...\n",
       "                               feature_types=None, gamma=None, gpu_id=None,\n",
       "                               grow_policy=None, importance_type=None,\n",
       "                               interaction_constraints=None, learning_rate=None,\n",
       "                               max_bin=None, max_cat_threshold=None,\n",
       "                               max_cat_to_onehot=None, max_delta_step=None,\n",
       "                               max_depth=None, max_leaves=None,\n",
       "                               min_child_weight=None, missing=nan,\n",
       "                               monotone_constraints=None, n_estimators=100,\n",
       "                               n_jobs=None, num_parallel_tree=None,\n",
       "                               predictor=None, random_state=101, ...))])</pre></div></div></div><div class=\"sk-serial\"><div class=\"sk-item\"><div class=\"sk-serial\"><div class=\"sk-item sk-dashed-wrapped\"><div class=\"sk-label-container\"><div class=\"sk-label sk-toggleable\"><input class=\"sk-toggleable__control sk-hidden--visually\" id=\"sk-estimator-id-24\" type=\"checkbox\" ><label for=\"sk-estimator-id-24\" class=\"sk-toggleable__label sk-toggleable__label-arrow\">OrdinalEncoder: ColumnTransformer</label><div class=\"sk-toggleable__content\"><pre>ColumnTransformer(remainder=MinMaxScaler(),\n",
       "                  transformers=[(&#x27;onehotencoder&#x27;,\n",
       "                                 OneHotEncoder(handle_unknown=&#x27;ignore&#x27;,\n",
       "                                               sparse=False),\n",
       "                                 Index([&#x27;Gender&#x27;, &#x27;WritingPreference&#x27;], dtype=&#x27;object&#x27;))])</pre></div></div></div><div class=\"sk-parallel\"><div class=\"sk-parallel-item\"><div class=\"sk-item\"><div class=\"sk-label-container\"><div class=\"sk-label sk-toggleable\"><input class=\"sk-toggleable__control sk-hidden--visually\" id=\"sk-estimator-id-25\" type=\"checkbox\" ><label for=\"sk-estimator-id-25\" class=\"sk-toggleable__label sk-toggleable__label-arrow\">onehotencoder</label><div class=\"sk-toggleable__content\"><pre>Index([&#x27;Gender&#x27;, &#x27;WritingPreference&#x27;], dtype=&#x27;object&#x27;)</pre></div></div></div><div class=\"sk-serial\"><div class=\"sk-item\"><div class=\"sk-estimator sk-toggleable\"><input class=\"sk-toggleable__control sk-hidden--visually\" id=\"sk-estimator-id-26\" type=\"checkbox\" ><label for=\"sk-estimator-id-26\" class=\"sk-toggleable__label sk-toggleable__label-arrow\">OneHotEncoder</label><div class=\"sk-toggleable__content\"><pre>OneHotEncoder(handle_unknown=&#x27;ignore&#x27;, sparse=False)</pre></div></div></div></div></div></div><div class=\"sk-parallel-item\"><div class=\"sk-item\"><div class=\"sk-label-container\"><div class=\"sk-label sk-toggleable\"><input class=\"sk-toggleable__control sk-hidden--visually\" id=\"sk-estimator-id-27\" type=\"checkbox\" ><label for=\"sk-estimator-id-27\" class=\"sk-toggleable__label sk-toggleable__label-arrow\">remainder</label><div class=\"sk-toggleable__content\"><pre>[&#x27;abdominalextensiondepthsitting&#x27;, &#x27;acromialheight&#x27;, &#x27;acromionradialelength&#x27;, &#x27;anklecircumference&#x27;, &#x27;axillaheight&#x27;, &#x27;balloffootcircumference&#x27;, &#x27;balloffootlength&#x27;, &#x27;biacromialbreadth&#x27;, &#x27;bicepscircumferenceflexed&#x27;, &#x27;bicristalbreadth&#x27;, &#x27;bideltoidbreadth&#x27;, &#x27;bimalleolarbreadth&#x27;, &#x27;bitragionchinarc&#x27;, &#x27;bitragionsubmandibulararc&#x27;, &#x27;bizygomaticbreadth&#x27;, &#x27;buttockcircumference&#x27;, &#x27;buttockdepth&#x27;, &#x27;buttockheight&#x27;, &#x27;buttockkneelength&#x27;, &#x27;buttockpopliteallength&#x27;, &#x27;calfcircumference&#x27;, &#x27;cervicaleheight&#x27;, &#x27;chestbreadth&#x27;, &#x27;chestcircumference&#x27;, &#x27;chestdepth&#x27;, &#x27;chestheight&#x27;, &#x27;crotchheight&#x27;, &#x27;crotchlengthomphalion&#x27;, &#x27;crotchlengthposterioromphalion&#x27;, &#x27;earbreadth&#x27;, &#x27;earlength&#x27;, &#x27;earprotrusion&#x27;, &#x27;elbowrestheight&#x27;, &#x27;eyeheightsitting&#x27;, &#x27;footbreadthhorizontal&#x27;, &#x27;footlength&#x27;, &#x27;forearmcenterofgriplength&#x27;, &#x27;forearmcircumferenceflexed&#x27;, &#x27;forearmforearmbreadth&#x27;, &#x27;forearmhandlength&#x27;, &#x27;functionalleglength&#x27;, &#x27;handbreadth&#x27;, &#x27;handcircumference&#x27;, &#x27;handlength&#x27;, &#x27;headbreadth&#x27;, &#x27;headcircumference&#x27;, &#x27;headlength&#x27;, &#x27;heelanklecircumference&#x27;, &#x27;heelbreadth&#x27;, &#x27;hipbreadth&#x27;, &#x27;hipbreadthsitting&#x27;, &#x27;iliocristaleheight&#x27;, &#x27;interpupillarybreadth&#x27;, &#x27;interscyei&#x27;, &#x27;interscyeii&#x27;, &#x27;kneeheightmidpatella&#x27;, &#x27;kneeheightsitting&#x27;, &#x27;lateralfemoralepicondyleheight&#x27;, &#x27;lateralmalleolusheight&#x27;, &#x27;lowerthighcircumference&#x27;, &#x27;mentonsellionlength&#x27;, &#x27;neckcircumference&#x27;, &#x27;neckcircumferencebase&#x27;, &#x27;overheadfingertipreachsitting&#x27;, &#x27;palmlength&#x27;, &#x27;poplitealheight&#x27;, &#x27;radialestylionlength&#x27;, &#x27;shouldercircumference&#x27;, &#x27;shoulderelbowlength&#x27;, &#x27;shoulderlength&#x27;, &#x27;sittingheight&#x27;, &#x27;sleevelengthspinewrist&#x27;, &#x27;sleeveoutseam&#x27;, &#x27;span&#x27;, &#x27;stature&#x27;, &#x27;suprasternaleheight&#x27;, &#x27;tenthribheight&#x27;, &#x27;thighcircumference&#x27;, &#x27;thighclearance&#x27;, &#x27;thumbtipreach&#x27;, &#x27;tibialheight&#x27;, &#x27;tragiontopofhead&#x27;, &#x27;trochanterionheight&#x27;, &#x27;verticaltrunkcircumferenceusa&#x27;, &#x27;waistbacklength&#x27;, &#x27;waistbreadth&#x27;, &#x27;waistcircumference&#x27;, &#x27;waistdepth&#x27;, &#x27;waistfrontlengthsitting&#x27;, &#x27;waistheightomphalion&#x27;, &#x27;weightkg&#x27;, &#x27;wristcircumference&#x27;, &#x27;wristheight&#x27;, &#x27;Age&#x27;, &#x27;Heightin&#x27;, &#x27;Weightlbs&#x27;]</pre></div></div></div><div class=\"sk-serial\"><div class=\"sk-item\"><div class=\"sk-estimator sk-toggleable\"><input class=\"sk-toggleable__control sk-hidden--visually\" id=\"sk-estimator-id-28\" type=\"checkbox\" ><label for=\"sk-estimator-id-28\" class=\"sk-toggleable__label sk-toggleable__label-arrow\">MinMaxScaler</label><div class=\"sk-toggleable__content\"><pre>MinMaxScaler()</pre></div></div></div></div></div></div></div></div><div class=\"sk-item\"><div class=\"sk-estimator sk-toggleable\"><input class=\"sk-toggleable__control sk-hidden--visually\" id=\"sk-estimator-id-29\" type=\"checkbox\" ><label for=\"sk-estimator-id-29\" class=\"sk-toggleable__label sk-toggleable__label-arrow\">XGBClassifier</label><div class=\"sk-toggleable__content\"><pre>XGBClassifier(base_score=None, booster=None, callbacks=None,\n",
       "              colsample_bylevel=None, colsample_bynode=None,\n",
       "              colsample_bytree=None, early_stopping_rounds=None,\n",
       "              enable_categorical=False, eval_metric=None, feature_types=None,\n",
       "              gamma=None, gpu_id=None, grow_policy=None, importance_type=None,\n",
       "              interaction_constraints=None, learning_rate=None, max_bin=None,\n",
       "              max_cat_threshold=None, max_cat_to_onehot=None,\n",
       "              max_delta_step=None, max_depth=None, max_leaves=None,\n",
       "              min_child_weight=None, missing=nan, monotone_constraints=None,\n",
       "              n_estimators=100, n_jobs=None, num_parallel_tree=None,\n",
       "              predictor=None, random_state=101, ...)</pre></div></div></div></div></div></div></div></div></div></div></div></div>"
      ],
      "text/plain": [
       "GridSearchCV(cv=5,\n",
       "             estimator=Pipeline(steps=[('OrdinalEncoder',\n",
       "                                        ColumnTransformer(remainder=MinMaxScaler(),\n",
       "                                                          transformers=[('onehotencoder',\n",
       "                                                                         OneHotEncoder(handle_unknown='ignore',\n",
       "                                                                                       sparse=False),\n",
       "                                                                         Index(['Gender', 'WritingPreference'], dtype='object'))])),\n",
       "                                       ('xgb_model',\n",
       "                                        XGBClassifier(base_score=None,\n",
       "                                                      booster=None,\n",
       "                                                      callbacks=None,\n",
       "                                                      colsample_bylevel=None,\n",
       "                                                      colsample_b...\n",
       "                                                      n_jobs=None,\n",
       "                                                      num_parallel_tree=None,\n",
       "                                                      predictor=None,\n",
       "                                                      random_state=101, ...))]),\n",
       "             n_jobs=-1,\n",
       "             param_grid={'xgb_model__colsample_bytree': [0.8, 1],\n",
       "                         'xgb_model__learning_rate': [0.03, 0.05],\n",
       "                         'xgb_model__max_depth': [1, 2],\n",
       "                         'xgb_model__n_estimators': [20, 40],\n",
       "                         'xgb_model__subsample': [0.8, 1]},\n",
       "             return_train_score=True,\n",
       "             scoring=make_scorer(recall_score, average=None, labels=[1]))"
      ]
     },
     "execution_count": 31,
     "metadata": {},
     "output_type": "execute_result"
    }
   ],
   "source": [
    "xgb_grid_model.fit(x_train, y_train_xgb, xgb_model__sample_weight=classes_weights)"
   ]
  },
  {
   "cell_type": "code",
   "execution_count": 32,
   "metadata": {},
   "outputs": [
    {
     "data": {
      "text/html": [
       "<style>#sk-container-id-5 {color: black;background-color: white;}#sk-container-id-5 pre{padding: 0;}#sk-container-id-5 div.sk-toggleable {background-color: white;}#sk-container-id-5 label.sk-toggleable__label {cursor: pointer;display: block;width: 100%;margin-bottom: 0;padding: 0.3em;box-sizing: border-box;text-align: center;}#sk-container-id-5 label.sk-toggleable__label-arrow:before {content: \"▸\";float: left;margin-right: 0.25em;color: #696969;}#sk-container-id-5 label.sk-toggleable__label-arrow:hover:before {color: black;}#sk-container-id-5 div.sk-estimator:hover label.sk-toggleable__label-arrow:before {color: black;}#sk-container-id-5 div.sk-toggleable__content {max-height: 0;max-width: 0;overflow: hidden;text-align: left;background-color: #f0f8ff;}#sk-container-id-5 div.sk-toggleable__content pre {margin: 0.2em;color: black;border-radius: 0.25em;background-color: #f0f8ff;}#sk-container-id-5 input.sk-toggleable__control:checked~div.sk-toggleable__content {max-height: 200px;max-width: 100%;overflow: auto;}#sk-container-id-5 input.sk-toggleable__control:checked~label.sk-toggleable__label-arrow:before {content: \"▾\";}#sk-container-id-5 div.sk-estimator input.sk-toggleable__control:checked~label.sk-toggleable__label {background-color: #d4ebff;}#sk-container-id-5 div.sk-label input.sk-toggleable__control:checked~label.sk-toggleable__label {background-color: #d4ebff;}#sk-container-id-5 input.sk-hidden--visually {border: 0;clip: rect(1px 1px 1px 1px);clip: rect(1px, 1px, 1px, 1px);height: 1px;margin: -1px;overflow: hidden;padding: 0;position: absolute;width: 1px;}#sk-container-id-5 div.sk-estimator {font-family: monospace;background-color: #f0f8ff;border: 1px dotted black;border-radius: 0.25em;box-sizing: border-box;margin-bottom: 0.5em;}#sk-container-id-5 div.sk-estimator:hover {background-color: #d4ebff;}#sk-container-id-5 div.sk-parallel-item::after {content: \"\";width: 100%;border-bottom: 1px solid gray;flex-grow: 1;}#sk-container-id-5 div.sk-label:hover label.sk-toggleable__label {background-color: #d4ebff;}#sk-container-id-5 div.sk-serial::before {content: \"\";position: absolute;border-left: 1px solid gray;box-sizing: border-box;top: 0;bottom: 0;left: 50%;z-index: 0;}#sk-container-id-5 div.sk-serial {display: flex;flex-direction: column;align-items: center;background-color: white;padding-right: 0.2em;padding-left: 0.2em;position: relative;}#sk-container-id-5 div.sk-item {position: relative;z-index: 1;}#sk-container-id-5 div.sk-parallel {display: flex;align-items: stretch;justify-content: center;background-color: white;position: relative;}#sk-container-id-5 div.sk-item::before, #sk-container-id-5 div.sk-parallel-item::before {content: \"\";position: absolute;border-left: 1px solid gray;box-sizing: border-box;top: 0;bottom: 0;left: 50%;z-index: -1;}#sk-container-id-5 div.sk-parallel-item {display: flex;flex-direction: column;z-index: 1;position: relative;background-color: white;}#sk-container-id-5 div.sk-parallel-item:first-child::after {align-self: flex-end;width: 50%;}#sk-container-id-5 div.sk-parallel-item:last-child::after {align-self: flex-start;width: 50%;}#sk-container-id-5 div.sk-parallel-item:only-child::after {width: 0;}#sk-container-id-5 div.sk-dashed-wrapped {border: 1px dashed gray;margin: 0 0.4em 0.5em 0.4em;box-sizing: border-box;padding-bottom: 0.4em;background-color: white;}#sk-container-id-5 div.sk-label label {font-family: monospace;font-weight: bold;display: inline-block;line-height: 1.2em;}#sk-container-id-5 div.sk-label-container {text-align: center;}#sk-container-id-5 div.sk-container {/* jupyter's `normalize.less` sets `[hidden] { display: none; }` but bootstrap.min.css set `[hidden] { display: none !important; }` so we also need the `!important` here to be able to override the default hidden behavior on the sphinx rendered scikit-learn.org. See: https://github.com/scikit-learn/scikit-learn/issues/21755 */display: inline-block !important;position: relative;}#sk-container-id-5 div.sk-text-repr-fallback {display: none;}</style><div id=\"sk-container-id-5\" class=\"sk-top-container\"><div class=\"sk-text-repr-fallback\"><pre>Pipeline(steps=[(&#x27;OrdinalEncoder&#x27;,\n",
       "                 ColumnTransformer(remainder=MinMaxScaler(),\n",
       "                                   transformers=[(&#x27;onehotencoder&#x27;,\n",
       "                                                  OneHotEncoder(handle_unknown=&#x27;ignore&#x27;,\n",
       "                                                                sparse=False),\n",
       "                                                  Index([&#x27;Gender&#x27;, &#x27;WritingPreference&#x27;], dtype=&#x27;object&#x27;))])),\n",
       "                (&#x27;xgb_model&#x27;,\n",
       "                 XGBClassifier(base_score=None, booster=None, callbacks=None,\n",
       "                               colsample_bylevel=None, colsample_bynode=None,\n",
       "                               colsample_bytree=...\n",
       "                               grow_policy=None, importance_type=None,\n",
       "                               interaction_constraints=None, learning_rate=0.05,\n",
       "                               max_bin=None, max_cat_threshold=None,\n",
       "                               max_cat_to_onehot=None, max_delta_step=None,\n",
       "                               max_depth=1, max_leaves=None,\n",
       "                               min_child_weight=None, missing=nan,\n",
       "                               monotone_constraints=None, n_estimators=40,\n",
       "                               n_jobs=None, num_parallel_tree=None,\n",
       "                               objective=&#x27;multi:softprob&#x27;, predictor=None, ...))])</pre><b>In a Jupyter environment, please rerun this cell to show the HTML representation or trust the notebook. <br />On GitHub, the HTML representation is unable to render, please try loading this page with nbviewer.org.</b></div><div class=\"sk-container\" hidden><div class=\"sk-item sk-dashed-wrapped\"><div class=\"sk-label-container\"><div class=\"sk-label sk-toggleable\"><input class=\"sk-toggleable__control sk-hidden--visually\" id=\"sk-estimator-id-30\" type=\"checkbox\" ><label for=\"sk-estimator-id-30\" class=\"sk-toggleable__label sk-toggleable__label-arrow\">Pipeline</label><div class=\"sk-toggleable__content\"><pre>Pipeline(steps=[(&#x27;OrdinalEncoder&#x27;,\n",
       "                 ColumnTransformer(remainder=MinMaxScaler(),\n",
       "                                   transformers=[(&#x27;onehotencoder&#x27;,\n",
       "                                                  OneHotEncoder(handle_unknown=&#x27;ignore&#x27;,\n",
       "                                                                sparse=False),\n",
       "                                                  Index([&#x27;Gender&#x27;, &#x27;WritingPreference&#x27;], dtype=&#x27;object&#x27;))])),\n",
       "                (&#x27;xgb_model&#x27;,\n",
       "                 XGBClassifier(base_score=None, booster=None, callbacks=None,\n",
       "                               colsample_bylevel=None, colsample_bynode=None,\n",
       "                               colsample_bytree=...\n",
       "                               grow_policy=None, importance_type=None,\n",
       "                               interaction_constraints=None, learning_rate=0.05,\n",
       "                               max_bin=None, max_cat_threshold=None,\n",
       "                               max_cat_to_onehot=None, max_delta_step=None,\n",
       "                               max_depth=1, max_leaves=None,\n",
       "                               min_child_weight=None, missing=nan,\n",
       "                               monotone_constraints=None, n_estimators=40,\n",
       "                               n_jobs=None, num_parallel_tree=None,\n",
       "                               objective=&#x27;multi:softprob&#x27;, predictor=None, ...))])</pre></div></div></div><div class=\"sk-serial\"><div class=\"sk-item sk-dashed-wrapped\"><div class=\"sk-label-container\"><div class=\"sk-label sk-toggleable\"><input class=\"sk-toggleable__control sk-hidden--visually\" id=\"sk-estimator-id-31\" type=\"checkbox\" ><label for=\"sk-estimator-id-31\" class=\"sk-toggleable__label sk-toggleable__label-arrow\">OrdinalEncoder: ColumnTransformer</label><div class=\"sk-toggleable__content\"><pre>ColumnTransformer(remainder=MinMaxScaler(),\n",
       "                  transformers=[(&#x27;onehotencoder&#x27;,\n",
       "                                 OneHotEncoder(handle_unknown=&#x27;ignore&#x27;,\n",
       "                                               sparse=False),\n",
       "                                 Index([&#x27;Gender&#x27;, &#x27;WritingPreference&#x27;], dtype=&#x27;object&#x27;))])</pre></div></div></div><div class=\"sk-parallel\"><div class=\"sk-parallel-item\"><div class=\"sk-item\"><div class=\"sk-label-container\"><div class=\"sk-label sk-toggleable\"><input class=\"sk-toggleable__control sk-hidden--visually\" id=\"sk-estimator-id-32\" type=\"checkbox\" ><label for=\"sk-estimator-id-32\" class=\"sk-toggleable__label sk-toggleable__label-arrow\">onehotencoder</label><div class=\"sk-toggleable__content\"><pre>Index([&#x27;Gender&#x27;, &#x27;WritingPreference&#x27;], dtype=&#x27;object&#x27;)</pre></div></div></div><div class=\"sk-serial\"><div class=\"sk-item\"><div class=\"sk-estimator sk-toggleable\"><input class=\"sk-toggleable__control sk-hidden--visually\" id=\"sk-estimator-id-33\" type=\"checkbox\" ><label for=\"sk-estimator-id-33\" class=\"sk-toggleable__label sk-toggleable__label-arrow\">OneHotEncoder</label><div class=\"sk-toggleable__content\"><pre>OneHotEncoder(handle_unknown=&#x27;ignore&#x27;, sparse=False)</pre></div></div></div></div></div></div><div class=\"sk-parallel-item\"><div class=\"sk-item\"><div class=\"sk-label-container\"><div class=\"sk-label sk-toggleable\"><input class=\"sk-toggleable__control sk-hidden--visually\" id=\"sk-estimator-id-34\" type=\"checkbox\" ><label for=\"sk-estimator-id-34\" class=\"sk-toggleable__label sk-toggleable__label-arrow\">remainder</label><div class=\"sk-toggleable__content\"><pre>[&#x27;abdominalextensiondepthsitting&#x27;, &#x27;acromialheight&#x27;, &#x27;acromionradialelength&#x27;, &#x27;anklecircumference&#x27;, &#x27;axillaheight&#x27;, &#x27;balloffootcircumference&#x27;, &#x27;balloffootlength&#x27;, &#x27;biacromialbreadth&#x27;, &#x27;bicepscircumferenceflexed&#x27;, &#x27;bicristalbreadth&#x27;, &#x27;bideltoidbreadth&#x27;, &#x27;bimalleolarbreadth&#x27;, &#x27;bitragionchinarc&#x27;, &#x27;bitragionsubmandibulararc&#x27;, &#x27;bizygomaticbreadth&#x27;, &#x27;buttockcircumference&#x27;, &#x27;buttockdepth&#x27;, &#x27;buttockheight&#x27;, &#x27;buttockkneelength&#x27;, &#x27;buttockpopliteallength&#x27;, &#x27;calfcircumference&#x27;, &#x27;cervicaleheight&#x27;, &#x27;chestbreadth&#x27;, &#x27;chestcircumference&#x27;, &#x27;chestdepth&#x27;, &#x27;chestheight&#x27;, &#x27;crotchheight&#x27;, &#x27;crotchlengthomphalion&#x27;, &#x27;crotchlengthposterioromphalion&#x27;, &#x27;earbreadth&#x27;, &#x27;earlength&#x27;, &#x27;earprotrusion&#x27;, &#x27;elbowrestheight&#x27;, &#x27;eyeheightsitting&#x27;, &#x27;footbreadthhorizontal&#x27;, &#x27;footlength&#x27;, &#x27;forearmcenterofgriplength&#x27;, &#x27;forearmcircumferenceflexed&#x27;, &#x27;forearmforearmbreadth&#x27;, &#x27;forearmhandlength&#x27;, &#x27;functionalleglength&#x27;, &#x27;handbreadth&#x27;, &#x27;handcircumference&#x27;, &#x27;handlength&#x27;, &#x27;headbreadth&#x27;, &#x27;headcircumference&#x27;, &#x27;headlength&#x27;, &#x27;heelanklecircumference&#x27;, &#x27;heelbreadth&#x27;, &#x27;hipbreadth&#x27;, &#x27;hipbreadthsitting&#x27;, &#x27;iliocristaleheight&#x27;, &#x27;interpupillarybreadth&#x27;, &#x27;interscyei&#x27;, &#x27;interscyeii&#x27;, &#x27;kneeheightmidpatella&#x27;, &#x27;kneeheightsitting&#x27;, &#x27;lateralfemoralepicondyleheight&#x27;, &#x27;lateralmalleolusheight&#x27;, &#x27;lowerthighcircumference&#x27;, &#x27;mentonsellionlength&#x27;, &#x27;neckcircumference&#x27;, &#x27;neckcircumferencebase&#x27;, &#x27;overheadfingertipreachsitting&#x27;, &#x27;palmlength&#x27;, &#x27;poplitealheight&#x27;, &#x27;radialestylionlength&#x27;, &#x27;shouldercircumference&#x27;, &#x27;shoulderelbowlength&#x27;, &#x27;shoulderlength&#x27;, &#x27;sittingheight&#x27;, &#x27;sleevelengthspinewrist&#x27;, &#x27;sleeveoutseam&#x27;, &#x27;span&#x27;, &#x27;stature&#x27;, &#x27;suprasternaleheight&#x27;, &#x27;tenthribheight&#x27;, &#x27;thighcircumference&#x27;, &#x27;thighclearance&#x27;, &#x27;thumbtipreach&#x27;, &#x27;tibialheight&#x27;, &#x27;tragiontopofhead&#x27;, &#x27;trochanterionheight&#x27;, &#x27;verticaltrunkcircumferenceusa&#x27;, &#x27;waistbacklength&#x27;, &#x27;waistbreadth&#x27;, &#x27;waistcircumference&#x27;, &#x27;waistdepth&#x27;, &#x27;waistfrontlengthsitting&#x27;, &#x27;waistheightomphalion&#x27;, &#x27;weightkg&#x27;, &#x27;wristcircumference&#x27;, &#x27;wristheight&#x27;, &#x27;Age&#x27;, &#x27;Heightin&#x27;, &#x27;Weightlbs&#x27;]</pre></div></div></div><div class=\"sk-serial\"><div class=\"sk-item\"><div class=\"sk-estimator sk-toggleable\"><input class=\"sk-toggleable__control sk-hidden--visually\" id=\"sk-estimator-id-35\" type=\"checkbox\" ><label for=\"sk-estimator-id-35\" class=\"sk-toggleable__label sk-toggleable__label-arrow\">MinMaxScaler</label><div class=\"sk-toggleable__content\"><pre>MinMaxScaler()</pre></div></div></div></div></div></div></div></div><div class=\"sk-item\"><div class=\"sk-estimator sk-toggleable\"><input class=\"sk-toggleable__control sk-hidden--visually\" id=\"sk-estimator-id-36\" type=\"checkbox\" ><label for=\"sk-estimator-id-36\" class=\"sk-toggleable__label sk-toggleable__label-arrow\">XGBClassifier</label><div class=\"sk-toggleable__content\"><pre>XGBClassifier(base_score=None, booster=None, callbacks=None,\n",
       "              colsample_bylevel=None, colsample_bynode=None,\n",
       "              colsample_bytree=0.8, early_stopping_rounds=None,\n",
       "              enable_categorical=False, eval_metric=None, feature_types=None,\n",
       "              gamma=None, gpu_id=None, grow_policy=None, importance_type=None,\n",
       "              interaction_constraints=None, learning_rate=0.05, max_bin=None,\n",
       "              max_cat_threshold=None, max_cat_to_onehot=None,\n",
       "              max_delta_step=None, max_depth=1, max_leaves=None,\n",
       "              min_child_weight=None, missing=nan, monotone_constraints=None,\n",
       "              n_estimators=40, n_jobs=None, num_parallel_tree=None,\n",
       "              objective=&#x27;multi:softprob&#x27;, predictor=None, ...)</pre></div></div></div></div></div></div></div>"
      ],
      "text/plain": [
       "Pipeline(steps=[('OrdinalEncoder',\n",
       "                 ColumnTransformer(remainder=MinMaxScaler(),\n",
       "                                   transformers=[('onehotencoder',\n",
       "                                                  OneHotEncoder(handle_unknown='ignore',\n",
       "                                                                sparse=False),\n",
       "                                                  Index(['Gender', 'WritingPreference'], dtype='object'))])),\n",
       "                ('xgb_model',\n",
       "                 XGBClassifier(base_score=None, booster=None, callbacks=None,\n",
       "                               colsample_bylevel=None, colsample_bynode=None,\n",
       "                               colsample_bytree=...\n",
       "                               grow_policy=None, importance_type=None,\n",
       "                               interaction_constraints=None, learning_rate=0.05,\n",
       "                               max_bin=None, max_cat_threshold=None,\n",
       "                               max_cat_to_onehot=None, max_delta_step=None,\n",
       "                               max_depth=1, max_leaves=None,\n",
       "                               min_child_weight=None, missing=nan,\n",
       "                               monotone_constraints=None, n_estimators=40,\n",
       "                               n_jobs=None, num_parallel_tree=None,\n",
       "                               objective='multi:softprob', predictor=None, ...))])"
      ]
     },
     "execution_count": 32,
     "metadata": {},
     "output_type": "execute_result"
    }
   ],
   "source": [
    "xgb_grid_model.best_estimator_"
   ]
  },
  {
   "cell_type": "code",
   "execution_count": 33,
   "metadata": {},
   "outputs": [
    {
     "data": {
      "text/plain": [
       "{'xgb_model__colsample_bytree': 0.8,\n",
       " 'xgb_model__learning_rate': 0.05,\n",
       " 'xgb_model__max_depth': 1,\n",
       " 'xgb_model__n_estimators': 40,\n",
       " 'xgb_model__subsample': 0.8}"
      ]
     },
     "execution_count": 33,
     "metadata": {},
     "output_type": "execute_result"
    }
   ],
   "source": [
    "xgb_grid_model.best_params_"
   ]
  },
  {
   "cell_type": "code",
   "execution_count": 34,
   "metadata": {},
   "outputs": [
    {
     "data": {
      "text/plain": [
       "mean_test_score     0.563592\n",
       "mean_train_score    0.587463\n",
       "Name: 10, dtype: object"
      ]
     },
     "execution_count": 34,
     "metadata": {},
     "output_type": "execute_result"
    }
   ],
   "source": [
    "pd.DataFrame(xgb_grid_model.cv_results_).loc[\n",
    "    xgb_grid_model.best_index_, [\"mean_test_score\", \"mean_train_score\"]\n",
    "]"
   ]
  },
  {
   "cell_type": "code",
   "execution_count": 35,
   "metadata": {},
   "outputs": [
    {
     "data": {
      "text/plain": [
       "0.5635915732246006"
      ]
     },
     "execution_count": 35,
     "metadata": {},
     "output_type": "execute_result"
    }
   ],
   "source": [
    "xgb_grid_model.best_score_"
   ]
  },
  {
   "cell_type": "code",
   "execution_count": 36,
   "metadata": {},
   "outputs": [
    {
     "name": "stdout",
     "output_type": "stream",
     "text": [
      "Test_Set\n",
      "[[167  56  37]\n",
      " [ 27  71  38]\n",
      " [ 93 266 399]]\n",
      "              precision    recall  f1-score   support\n",
      "\n",
      "           0       0.58      0.64      0.61       260\n",
      "           1       0.18      0.52      0.27       136\n",
      "           2       0.84      0.53      0.65       758\n",
      "\n",
      "    accuracy                           0.55      1154\n",
      "   macro avg       0.53      0.56      0.51      1154\n",
      "weighted avg       0.71      0.55      0.59      1154\n",
      "\n",
      "\n",
      "Train_Set\n",
      "[[ 666  198  174]\n",
      " [  83  322  138]\n",
      " [ 325  967 1742]]\n",
      "              precision    recall  f1-score   support\n",
      "\n",
      "           0       0.62      0.64      0.63      1038\n",
      "           1       0.22      0.59      0.32       543\n",
      "           2       0.85      0.57      0.68      3034\n",
      "\n",
      "    accuracy                           0.59      4615\n",
      "   macro avg       0.56      0.60      0.54      4615\n",
      "weighted avg       0.72      0.59      0.63      4615\n",
      "\n"
     ]
    }
   ],
   "source": [
    "eval_matric(xgb_grid_model, x_train, y_train_xgb, x_test, y_test_xgb)"
   ]
  },
  {
   "cell_type": "code",
   "execution_count": 40,
   "metadata": {},
   "outputs": [
    {
     "name": "stderr",
     "output_type": "stream",
     "text": [
      "c:\\Python310\\lib\\site-packages\\sklearn\\preprocessing\\_encoders.py:868: FutureWarning: `sparse` was renamed to `sparse_output` in version 1.2 and will be removed in 1.4. `sparse_output` is ignored unless you leave `sparse` to its default value.\n",
      "  warnings.warn(\n"
     ]
    },
    {
     "data": {
      "image/png": "[encoded data removed]",
      "text/plain": [
       "<Figure size 640x480 with 1 Axes>"
      ]
     },
     "metadata": {},
     "output_type": "display_data"
    }
   ],
   "source": [
    "from matplotlib import pyplot as plt\n",
    "from scikitplot.metrics import plot_roc, precision_recall_curve ,plot_precision_recall\n",
    "operations_xgb = [\n",
    "    (\"OrdinalEncoder\", col_trans),\n",
    "    (\n",
    "        \"xgb_model\",\n",
    "        XGBClassifier(\n",
    "            colsample_bytree=0.8,\n",
    "            learning_rate=0.05,\n",
    "            max_depth=2,\n",
    "            n_estimators=40,\n",
    "            subsample=1,\n",
    "            random_state=101,\n",
    "        ),\n",
    "    ),\n",
    "]\n",
    "\n",
    "model = Pipeline(steps=operations_xgb)\n",
    "\n",
    "model.fit(x_train, y_train_xgb, xgb_model__sample_weight=classes_weights)\n",
    "\n",
    "y_pred_proba = model.predict_proba(x_test)\n",
    "\n",
    "plot_precision_recall(y_test_xgb, y_pred_proba)\n",
    "plt.show()"
   ]
  },
  {
   "cell_type": "code",
   "execution_count": 41,
   "metadata": {},
   "outputs": [],
   "source": [
    "y_test_xgb_dummies = pd.get_dummies(y_test_xgb).values"
   ]
  },
  {
   "cell_type": "code",
   "execution_count": 44,
   "metadata": {},
   "outputs": [
    {
     "data": {
      "text/plain": [
       "0.28969524484938647"
      ]
     },
     "execution_count": 44,
     "metadata": {},
     "output_type": "execute_result"
    }
   ],
   "source": [
    "from sklearn.metrics import average_precision_score\n",
    "\n",
    "average_precision_score(y_test_xgb_dummies[:, 1], y_pred_proba[:, 1])"
   ]
  },
  {
   "cell_type": "code",
   "execution_count": 45,
   "metadata": {},
   "outputs": [],
   "source": [
    "y_pred = xgb_grid_model.predict(x_test)\n",
    "\n",
    "xgb_AP = average_precision_score(y_test_xgb_dummies[:, 1], y_pred_proba[:, 1])\n",
    "xgb_f1 = f1_score(y_test_xgb, y_pred, average=None, labels=[1])\n",
    "xgb_recall = recall_score(y_test_xgb, y_pred, average=None, labels=[1])"
   ]
  },
  {
   "cell_type": "code",
   "execution_count": 46,
   "metadata": {},
   "outputs": [
    {
     "name": "stdout",
     "output_type": "stream",
     "text": [
      "Stored 'xgb_recall' (ndarray)\n",
      "Stored 'xgb_AP' (float64)\n",
      "Stored 'xgb_f1' (ndarray)\n"
     ]
    }
   ],
   "source": [
    "%store xgb_recall \n",
    "%store xgb_AP\n",
    "%store xgb_f1"
   ]
  },
  {
   "cell_type": "code",
   "execution_count": null,
   "metadata": {},
   "outputs": [],
   "source": []
  }
 ],
 "metadata": {
  "kernelspec": {
   "display_name": "Python 3",
   "language": "python",
   "name": "python3"
  },
  "language_info": {
   "codemirror_mode": {
    "name": "ipython",
    "version": 3
   },
   "file_extension": ".py",
   "mimetype": "text/x-python",
   "name": "python",
   "nbconvert_exporter": "python",
   "pygments_lexer": "ipython3",
   "version": "3.10.2"
  }
 },
 "nbformat": 4,
 "nbformat_minor": 2
}
