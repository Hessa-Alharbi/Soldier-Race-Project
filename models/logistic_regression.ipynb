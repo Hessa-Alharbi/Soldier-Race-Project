{
 "cells": [
  {
   "cell_type": "code",
   "execution_count": 4,
   "metadata": {},
   "outputs": [],
   "source": [
    "\n",
    "\n",
    "%store -r  X\n",
    "%store -r  y\n",
    "\n",
    "%store -r  x_train\n",
    "%store -r  x_test\n",
    "\n",
    "%store -r  y_train\n",
    "%store  -r y_test\n",
    "\n",
    "%store -r col_trans"
   ]
  },
  {
   "cell_type": "code",
   "execution_count": 5,
   "metadata": {},
   "outputs": [],
   "source": [
    "from sklearn.linear_model import LogisticRegression\n",
    "from sklearn.pipeline import Pipeline\n"
   ]
  },
  {
   "cell_type": "code",
   "execution_count": 6,
   "metadata": {},
   "outputs": [],
   "source": [
    "# X.select_dtypes('object')"
   ]
  },
  {
   "cell_type": "code",
   "execution_count": 7,
   "metadata": {},
   "outputs": [],
   "source": [
    "cat = ['Gender', 'WritingPreference']\n"
   ]
  },
  {
   "cell_type": "markdown",
   "metadata": {},
   "source": [
    "## 1. Logistic model\n",
    "### Vanilla Logistic Model"
   ]
  },
  {
   "cell_type": "code",
   "execution_count": 8,
   "metadata": {},
   "outputs": [],
   "source": [
    "opertaions = [('OneHotEncoder', col_trans),('Log',LogisticRegression(class_weight='balanced',max_iter=10000,\n",
    "                                                                          random_state=101))]\n",
    "pip_log_model = Pipeline(steps=opertaions)\n"
   ]
  },
  {
   "cell_type": "code",
   "execution_count": 9,
   "metadata": {},
   "outputs": [
    {
     "data": {
      "text/html": [
       "<style>#sk-container-id-1 {color: black;background-color: white;}#sk-container-id-1 pre{padding: 0;}#sk-container-id-1 div.sk-toggleable {background-color: white;}#sk-container-id-1 label.sk-toggleable__label {cursor: pointer;display: block;width: 100%;margin-bottom: 0;padding: 0.3em;box-sizing: border-box;text-align: center;}#sk-container-id-1 label.sk-toggleable__label-arrow:before {content: \"▸\";float: left;margin-right: 0.25em;color: #696969;}#sk-container-id-1 label.sk-toggleable__label-arrow:hover:before {color: black;}#sk-container-id-1 div.sk-estimator:hover label.sk-toggleable__label-arrow:before {color: black;}#sk-container-id-1 div.sk-toggleable__content {max-height: 0;max-width: 0;overflow: hidden;text-align: left;background-color: #f0f8ff;}#sk-container-id-1 div.sk-toggleable__content pre {margin: 0.2em;color: black;border-radius: 0.25em;background-color: #f0f8ff;}#sk-container-id-1 input.sk-toggleable__control:checked~div.sk-toggleable__content {max-height: 200px;max-width: 100%;overflow: auto;}#sk-container-id-1 input.sk-toggleable__control:checked~label.sk-toggleable__label-arrow:before {content: \"▾\";}#sk-container-id-1 div.sk-estimator input.sk-toggleable__control:checked~label.sk-toggleable__label {background-color: #d4ebff;}#sk-container-id-1 div.sk-label input.sk-toggleable__control:checked~label.sk-toggleable__label {background-color: #d4ebff;}#sk-container-id-1 input.sk-hidden--visually {border: 0;clip: rect(1px 1px 1px 1px);clip: rect(1px, 1px, 1px, 1px);height: 1px;margin: -1px;overflow: hidden;padding: 0;position: absolute;width: 1px;}#sk-container-id-1 div.sk-estimator {font-family: monospace;background-color: #f0f8ff;border: 1px dotted black;border-radius: 0.25em;box-sizing: border-box;margin-bottom: 0.5em;}#sk-container-id-1 div.sk-estimator:hover {background-color: #d4ebff;}#sk-container-id-1 div.sk-parallel-item::after {content: \"\";width: 100%;border-bottom: 1px solid gray;flex-grow: 1;}#sk-container-id-1 div.sk-label:hover label.sk-toggleable__label {background-color: #d4ebff;}#sk-container-id-1 div.sk-serial::before {content: \"\";position: absolute;border-left: 1px solid gray;box-sizing: border-box;top: 0;bottom: 0;left: 50%;z-index: 0;}#sk-container-id-1 div.sk-serial {display: flex;flex-direction: column;align-items: center;background-color: white;padding-right: 0.2em;padding-left: 0.2em;position: relative;}#sk-container-id-1 div.sk-item {position: relative;z-index: 1;}#sk-container-id-1 div.sk-parallel {display: flex;align-items: stretch;justify-content: center;background-color: white;position: relative;}#sk-container-id-1 div.sk-item::before, #sk-container-id-1 div.sk-parallel-item::before {content: \"\";position: absolute;border-left: 1px solid gray;box-sizing: border-box;top: 0;bottom: 0;left: 50%;z-index: -1;}#sk-container-id-1 div.sk-parallel-item {display: flex;flex-direction: column;z-index: 1;position: relative;background-color: white;}#sk-container-id-1 div.sk-parallel-item:first-child::after {align-self: flex-end;width: 50%;}#sk-container-id-1 div.sk-parallel-item:last-child::after {align-self: flex-start;width: 50%;}#sk-container-id-1 div.sk-parallel-item:only-child::after {width: 0;}#sk-container-id-1 div.sk-dashed-wrapped {border: 1px dashed gray;margin: 0 0.4em 0.5em 0.4em;box-sizing: border-box;padding-bottom: 0.4em;background-color: white;}#sk-container-id-1 div.sk-label label {font-family: monospace;font-weight: bold;display: inline-block;line-height: 1.2em;}#sk-container-id-1 div.sk-label-container {text-align: center;}#sk-container-id-1 div.sk-container {/* jupyter's `normalize.less` sets `[hidden] { display: none; }` but bootstrap.min.css set `[hidden] { display: none !important; }` so we also need the `!important` here to be able to override the default hidden behavior on the sphinx rendered scikit-learn.org. See: https://github.com/scikit-learn/scikit-learn/issues/21755 */display: inline-block !important;position: relative;}#sk-container-id-1 div.sk-text-repr-fallback {display: none;}</style><div id=\"sk-container-id-1\" class=\"sk-top-container\"><div class=\"sk-text-repr-fallback\"><pre>Pipeline(steps=[(&#x27;OneHotEncoder&#x27;,\n",
       "                 ColumnTransformer(remainder=MinMaxScaler(),\n",
       "                                   transformers=[(&#x27;onehotencoder&#x27;,\n",
       "                                                  OneHotEncoder(handle_unknown=&#x27;ignore&#x27;,\n",
       "                                                                sparse=False),\n",
       "                                                  Index([&#x27;Gender&#x27;, &#x27;WritingPreference&#x27;], dtype=&#x27;object&#x27;))])),\n",
       "                (&#x27;Log&#x27;,\n",
       "                 LogisticRegression(class_weight=&#x27;balanced&#x27;, max_iter=10000,\n",
       "                                    random_state=101))])</pre><b>In a Jupyter environment, please rerun this cell to show the HTML representation or trust the notebook. <br />On GitHub, the HTML representation is unable to render, please try loading this page with nbviewer.org.</b></div><div class=\"sk-container\" hidden><div class=\"sk-item sk-dashed-wrapped\"><div class=\"sk-label-container\"><div class=\"sk-label sk-toggleable\"><input class=\"sk-toggleable__control sk-hidden--visually\" id=\"sk-estimator-id-1\" type=\"checkbox\" ><label for=\"sk-estimator-id-1\" class=\"sk-toggleable__label sk-toggleable__label-arrow\">Pipeline</label><div class=\"sk-toggleable__content\"><pre>Pipeline(steps=[(&#x27;OneHotEncoder&#x27;,\n",
       "                 ColumnTransformer(remainder=MinMaxScaler(),\n",
       "                                   transformers=[(&#x27;onehotencoder&#x27;,\n",
       "                                                  OneHotEncoder(handle_unknown=&#x27;ignore&#x27;,\n",
       "                                                                sparse=False),\n",
       "                                                  Index([&#x27;Gender&#x27;, &#x27;WritingPreference&#x27;], dtype=&#x27;object&#x27;))])),\n",
       "                (&#x27;Log&#x27;,\n",
       "                 LogisticRegression(class_weight=&#x27;balanced&#x27;, max_iter=10000,\n",
       "                                    random_state=101))])</pre></div></div></div><div class=\"sk-serial\"><div class=\"sk-item sk-dashed-wrapped\"><div class=\"sk-label-container\"><div class=\"sk-label sk-toggleable\"><input class=\"sk-toggleable__control sk-hidden--visually\" id=\"sk-estimator-id-2\" type=\"checkbox\" ><label for=\"sk-estimator-id-2\" class=\"sk-toggleable__label sk-toggleable__label-arrow\">OneHotEncoder: ColumnTransformer</label><div class=\"sk-toggleable__content\"><pre>ColumnTransformer(remainder=MinMaxScaler(),\n",
       "                  transformers=[(&#x27;onehotencoder&#x27;,\n",
       "                                 OneHotEncoder(handle_unknown=&#x27;ignore&#x27;,\n",
       "                                               sparse=False),\n",
       "                                 Index([&#x27;Gender&#x27;, &#x27;WritingPreference&#x27;], dtype=&#x27;object&#x27;))])</pre></div></div></div><div class=\"sk-parallel\"><div class=\"sk-parallel-item\"><div class=\"sk-item\"><div class=\"sk-label-container\"><div class=\"sk-label sk-toggleable\"><input class=\"sk-toggleable__control sk-hidden--visually\" id=\"sk-estimator-id-3\" type=\"checkbox\" ><label for=\"sk-estimator-id-3\" class=\"sk-toggleable__label sk-toggleable__label-arrow\">onehotencoder</label><div class=\"sk-toggleable__content\"><pre>Index([&#x27;Gender&#x27;, &#x27;WritingPreference&#x27;], dtype=&#x27;object&#x27;)</pre></div></div></div><div class=\"sk-serial\"><div class=\"sk-item\"><div class=\"sk-estimator sk-toggleable\"><input class=\"sk-toggleable__control sk-hidden--visually\" id=\"sk-estimator-id-4\" type=\"checkbox\" ><label for=\"sk-estimator-id-4\" class=\"sk-toggleable__label sk-toggleable__label-arrow\">OneHotEncoder</label><div class=\"sk-toggleable__content\"><pre>OneHotEncoder(handle_unknown=&#x27;ignore&#x27;, sparse=False)</pre></div></div></div></div></div></div><div class=\"sk-parallel-item\"><div class=\"sk-item\"><div class=\"sk-label-container\"><div class=\"sk-label sk-toggleable\"><input class=\"sk-toggleable__control sk-hidden--visually\" id=\"sk-estimator-id-5\" type=\"checkbox\" ><label for=\"sk-estimator-id-5\" class=\"sk-toggleable__label sk-toggleable__label-arrow\">remainder</label><div class=\"sk-toggleable__content\"><pre></pre></div></div></div><div class=\"sk-serial\"><div class=\"sk-item\"><div class=\"sk-estimator sk-toggleable\"><input class=\"sk-toggleable__control sk-hidden--visually\" id=\"sk-estimator-id-6\" type=\"checkbox\" ><label for=\"sk-estimator-id-6\" class=\"sk-toggleable__label sk-toggleable__label-arrow\">MinMaxScaler</label><div class=\"sk-toggleable__content\"><pre>MinMaxScaler()</pre></div></div></div></div></div></div></div></div><div class=\"sk-item\"><div class=\"sk-estimator sk-toggleable\"><input class=\"sk-toggleable__control sk-hidden--visually\" id=\"sk-estimator-id-7\" type=\"checkbox\" ><label for=\"sk-estimator-id-7\" class=\"sk-toggleable__label sk-toggleable__label-arrow\">LogisticRegression</label><div class=\"sk-toggleable__content\"><pre>LogisticRegression(class_weight=&#x27;balanced&#x27;, max_iter=10000, random_state=101)</pre></div></div></div></div></div></div></div>"
      ],
      "text/plain": [
       "Pipeline(steps=[('OneHotEncoder',\n",
       "                 ColumnTransformer(remainder=MinMaxScaler(),\n",
       "                                   transformers=[('onehotencoder',\n",
       "                                                  OneHotEncoder(handle_unknown='ignore',\n",
       "                                                                sparse=False),\n",
       "                                                  Index(['Gender', 'WritingPreference'], dtype='object'))])),\n",
       "                ('Log',\n",
       "                 LogisticRegression(class_weight='balanced', max_iter=10000,\n",
       "                                    random_state=101))])"
      ]
     },
     "execution_count": 9,
     "metadata": {},
     "output_type": "execute_result"
    }
   ],
   "source": [
    "pip_log_model"
   ]
  },
  {
   "cell_type": "code",
   "execution_count": 10,
   "metadata": {},
   "outputs": [
    {
     "data": {
      "text/plain": [
       "((4615, 98), (4615,))"
      ]
     },
     "execution_count": 10,
     "metadata": {},
     "output_type": "execute_result"
    }
   ],
   "source": [
    "x_train.shape , y_train.shape"
   ]
  },
  {
   "cell_type": "code",
   "execution_count": 11,
   "metadata": {},
   "outputs": [
    {
     "name": "stderr",
     "output_type": "stream",
     "text": [
      "c:\\Python310\\lib\\site-packages\\sklearn\\preprocessing\\_encoders.py:868: FutureWarning: `sparse` was renamed to `sparse_output` in version 1.2 and will be removed in 1.4. `sparse_output` is ignored unless you leave `sparse` to its default value.\n",
      "  warnings.warn(\n"
     ]
    },
    {
     "data": {
      "text/html": [
       "<style>#sk-container-id-2 {color: black;background-color: white;}#sk-container-id-2 pre{padding: 0;}#sk-container-id-2 div.sk-toggleable {background-color: white;}#sk-container-id-2 label.sk-toggleable__label {cursor: pointer;display: block;width: 100%;margin-bottom: 0;padding: 0.3em;box-sizing: border-box;text-align: center;}#sk-container-id-2 label.sk-toggleable__label-arrow:before {content: \"▸\";float: left;margin-right: 0.25em;color: #696969;}#sk-container-id-2 label.sk-toggleable__label-arrow:hover:before {color: black;}#sk-container-id-2 div.sk-estimator:hover label.sk-toggleable__label-arrow:before {color: black;}#sk-container-id-2 div.sk-toggleable__content {max-height: 0;max-width: 0;overflow: hidden;text-align: left;background-color: #f0f8ff;}#sk-container-id-2 div.sk-toggleable__content pre {margin: 0.2em;color: black;border-radius: 0.25em;background-color: #f0f8ff;}#sk-container-id-2 input.sk-toggleable__control:checked~div.sk-toggleable__content {max-height: 200px;max-width: 100%;overflow: auto;}#sk-container-id-2 input.sk-toggleable__control:checked~label.sk-toggleable__label-arrow:before {content: \"▾\";}#sk-container-id-2 div.sk-estimator input.sk-toggleable__control:checked~label.sk-toggleable__label {background-color: #d4ebff;}#sk-container-id-2 div.sk-label input.sk-toggleable__control:checked~label.sk-toggleable__label {background-color: #d4ebff;}#sk-container-id-2 input.sk-hidden--visually {border: 0;clip: rect(1px 1px 1px 1px);clip: rect(1px, 1px, 1px, 1px);height: 1px;margin: -1px;overflow: hidden;padding: 0;position: absolute;width: 1px;}#sk-container-id-2 div.sk-estimator {font-family: monospace;background-color: #f0f8ff;border: 1px dotted black;border-radius: 0.25em;box-sizing: border-box;margin-bottom: 0.5em;}#sk-container-id-2 div.sk-estimator:hover {background-color: #d4ebff;}#sk-container-id-2 div.sk-parallel-item::after {content: \"\";width: 100%;border-bottom: 1px solid gray;flex-grow: 1;}#sk-container-id-2 div.sk-label:hover label.sk-toggleable__label {background-color: #d4ebff;}#sk-container-id-2 div.sk-serial::before {content: \"\";position: absolute;border-left: 1px solid gray;box-sizing: border-box;top: 0;bottom: 0;left: 50%;z-index: 0;}#sk-container-id-2 div.sk-serial {display: flex;flex-direction: column;align-items: center;background-color: white;padding-right: 0.2em;padding-left: 0.2em;position: relative;}#sk-container-id-2 div.sk-item {position: relative;z-index: 1;}#sk-container-id-2 div.sk-parallel {display: flex;align-items: stretch;justify-content: center;background-color: white;position: relative;}#sk-container-id-2 div.sk-item::before, #sk-container-id-2 div.sk-parallel-item::before {content: \"\";position: absolute;border-left: 1px solid gray;box-sizing: border-box;top: 0;bottom: 0;left: 50%;z-index: -1;}#sk-container-id-2 div.sk-parallel-item {display: flex;flex-direction: column;z-index: 1;position: relative;background-color: white;}#sk-container-id-2 div.sk-parallel-item:first-child::after {align-self: flex-end;width: 50%;}#sk-container-id-2 div.sk-parallel-item:last-child::after {align-self: flex-start;width: 50%;}#sk-container-id-2 div.sk-parallel-item:only-child::after {width: 0;}#sk-container-id-2 div.sk-dashed-wrapped {border: 1px dashed gray;margin: 0 0.4em 0.5em 0.4em;box-sizing: border-box;padding-bottom: 0.4em;background-color: white;}#sk-container-id-2 div.sk-label label {font-family: monospace;font-weight: bold;display: inline-block;line-height: 1.2em;}#sk-container-id-2 div.sk-label-container {text-align: center;}#sk-container-id-2 div.sk-container {/* jupyter's `normalize.less` sets `[hidden] { display: none; }` but bootstrap.min.css set `[hidden] { display: none !important; }` so we also need the `!important` here to be able to override the default hidden behavior on the sphinx rendered scikit-learn.org. See: https://github.com/scikit-learn/scikit-learn/issues/21755 */display: inline-block !important;position: relative;}#sk-container-id-2 div.sk-text-repr-fallback {display: none;}</style><div id=\"sk-container-id-2\" class=\"sk-top-container\"><div class=\"sk-text-repr-fallback\"><pre>Pipeline(steps=[(&#x27;OneHotEncoder&#x27;,\n",
       "                 ColumnTransformer(remainder=MinMaxScaler(),\n",
       "                                   transformers=[(&#x27;onehotencoder&#x27;,\n",
       "                                                  OneHotEncoder(handle_unknown=&#x27;ignore&#x27;,\n",
       "                                                                sparse=False),\n",
       "                                                  Index([&#x27;Gender&#x27;, &#x27;WritingPreference&#x27;], dtype=&#x27;object&#x27;))])),\n",
       "                (&#x27;Log&#x27;,\n",
       "                 LogisticRegression(class_weight=&#x27;balanced&#x27;, max_iter=10000,\n",
       "                                    random_state=101))])</pre><b>In a Jupyter environment, please rerun this cell to show the HTML representation or trust the notebook. <br />On GitHub, the HTML representation is unable to render, please try loading this page with nbviewer.org.</b></div><div class=\"sk-container\" hidden><div class=\"sk-item sk-dashed-wrapped\"><div class=\"sk-label-container\"><div class=\"sk-label sk-toggleable\"><input class=\"sk-toggleable__control sk-hidden--visually\" id=\"sk-estimator-id-8\" type=\"checkbox\" ><label for=\"sk-estimator-id-8\" class=\"sk-toggleable__label sk-toggleable__label-arrow\">Pipeline</label><div class=\"sk-toggleable__content\"><pre>Pipeline(steps=[(&#x27;OneHotEncoder&#x27;,\n",
       "                 ColumnTransformer(remainder=MinMaxScaler(),\n",
       "                                   transformers=[(&#x27;onehotencoder&#x27;,\n",
       "                                                  OneHotEncoder(handle_unknown=&#x27;ignore&#x27;,\n",
       "                                                                sparse=False),\n",
       "                                                  Index([&#x27;Gender&#x27;, &#x27;WritingPreference&#x27;], dtype=&#x27;object&#x27;))])),\n",
       "                (&#x27;Log&#x27;,\n",
       "                 LogisticRegression(class_weight=&#x27;balanced&#x27;, max_iter=10000,\n",
       "                                    random_state=101))])</pre></div></div></div><div class=\"sk-serial\"><div class=\"sk-item sk-dashed-wrapped\"><div class=\"sk-label-container\"><div class=\"sk-label sk-toggleable\"><input class=\"sk-toggleable__control sk-hidden--visually\" id=\"sk-estimator-id-9\" type=\"checkbox\" ><label for=\"sk-estimator-id-9\" class=\"sk-toggleable__label sk-toggleable__label-arrow\">OneHotEncoder: ColumnTransformer</label><div class=\"sk-toggleable__content\"><pre>ColumnTransformer(remainder=MinMaxScaler(),\n",
       "                  transformers=[(&#x27;onehotencoder&#x27;,\n",
       "                                 OneHotEncoder(handle_unknown=&#x27;ignore&#x27;,\n",
       "                                               sparse=False),\n",
       "                                 Index([&#x27;Gender&#x27;, &#x27;WritingPreference&#x27;], dtype=&#x27;object&#x27;))])</pre></div></div></div><div class=\"sk-parallel\"><div class=\"sk-parallel-item\"><div class=\"sk-item\"><div class=\"sk-label-container\"><div class=\"sk-label sk-toggleable\"><input class=\"sk-toggleable__control sk-hidden--visually\" id=\"sk-estimator-id-10\" type=\"checkbox\" ><label for=\"sk-estimator-id-10\" class=\"sk-toggleable__label sk-toggleable__label-arrow\">onehotencoder</label><div class=\"sk-toggleable__content\"><pre>Index([&#x27;Gender&#x27;, &#x27;WritingPreference&#x27;], dtype=&#x27;object&#x27;)</pre></div></div></div><div class=\"sk-serial\"><div class=\"sk-item\"><div class=\"sk-estimator sk-toggleable\"><input class=\"sk-toggleable__control sk-hidden--visually\" id=\"sk-estimator-id-11\" type=\"checkbox\" ><label for=\"sk-estimator-id-11\" class=\"sk-toggleable__label sk-toggleable__label-arrow\">OneHotEncoder</label><div class=\"sk-toggleable__content\"><pre>OneHotEncoder(handle_unknown=&#x27;ignore&#x27;, sparse=False)</pre></div></div></div></div></div></div><div class=\"sk-parallel-item\"><div class=\"sk-item\"><div class=\"sk-label-container\"><div class=\"sk-label sk-toggleable\"><input class=\"sk-toggleable__control sk-hidden--visually\" id=\"sk-estimator-id-12\" type=\"checkbox\" ><label for=\"sk-estimator-id-12\" class=\"sk-toggleable__label sk-toggleable__label-arrow\">remainder</label><div class=\"sk-toggleable__content\"><pre>[&#x27;abdominalextensiondepthsitting&#x27;, &#x27;acromialheight&#x27;, &#x27;acromionradialelength&#x27;, &#x27;anklecircumference&#x27;, &#x27;axillaheight&#x27;, &#x27;balloffootcircumference&#x27;, &#x27;balloffootlength&#x27;, &#x27;biacromialbreadth&#x27;, &#x27;bicepscircumferenceflexed&#x27;, &#x27;bicristalbreadth&#x27;, &#x27;bideltoidbreadth&#x27;, &#x27;bimalleolarbreadth&#x27;, &#x27;bitragionchinarc&#x27;, &#x27;bitragionsubmandibulararc&#x27;, &#x27;bizygomaticbreadth&#x27;, &#x27;buttockcircumference&#x27;, &#x27;buttockdepth&#x27;, &#x27;buttockheight&#x27;, &#x27;buttockkneelength&#x27;, &#x27;buttockpopliteallength&#x27;, &#x27;calfcircumference&#x27;, &#x27;cervicaleheight&#x27;, &#x27;chestbreadth&#x27;, &#x27;chestcircumference&#x27;, &#x27;chestdepth&#x27;, &#x27;chestheight&#x27;, &#x27;crotchheight&#x27;, &#x27;crotchlengthomphalion&#x27;, &#x27;crotchlengthposterioromphalion&#x27;, &#x27;earbreadth&#x27;, &#x27;earlength&#x27;, &#x27;earprotrusion&#x27;, &#x27;elbowrestheight&#x27;, &#x27;eyeheightsitting&#x27;, &#x27;footbreadthhorizontal&#x27;, &#x27;footlength&#x27;, &#x27;forearmcenterofgriplength&#x27;, &#x27;forearmcircumferenceflexed&#x27;, &#x27;forearmforearmbreadth&#x27;, &#x27;forearmhandlength&#x27;, &#x27;functionalleglength&#x27;, &#x27;handbreadth&#x27;, &#x27;handcircumference&#x27;, &#x27;handlength&#x27;, &#x27;headbreadth&#x27;, &#x27;headcircumference&#x27;, &#x27;headlength&#x27;, &#x27;heelanklecircumference&#x27;, &#x27;heelbreadth&#x27;, &#x27;hipbreadth&#x27;, &#x27;hipbreadthsitting&#x27;, &#x27;iliocristaleheight&#x27;, &#x27;interpupillarybreadth&#x27;, &#x27;interscyei&#x27;, &#x27;interscyeii&#x27;, &#x27;kneeheightmidpatella&#x27;, &#x27;kneeheightsitting&#x27;, &#x27;lateralfemoralepicondyleheight&#x27;, &#x27;lateralmalleolusheight&#x27;, &#x27;lowerthighcircumference&#x27;, &#x27;mentonsellionlength&#x27;, &#x27;neckcircumference&#x27;, &#x27;neckcircumferencebase&#x27;, &#x27;overheadfingertipreachsitting&#x27;, &#x27;palmlength&#x27;, &#x27;poplitealheight&#x27;, &#x27;radialestylionlength&#x27;, &#x27;shouldercircumference&#x27;, &#x27;shoulderelbowlength&#x27;, &#x27;shoulderlength&#x27;, &#x27;sittingheight&#x27;, &#x27;sleevelengthspinewrist&#x27;, &#x27;sleeveoutseam&#x27;, &#x27;span&#x27;, &#x27;stature&#x27;, &#x27;suprasternaleheight&#x27;, &#x27;tenthribheight&#x27;, &#x27;thighcircumference&#x27;, &#x27;thighclearance&#x27;, &#x27;thumbtipreach&#x27;, &#x27;tibialheight&#x27;, &#x27;tragiontopofhead&#x27;, &#x27;trochanterionheight&#x27;, &#x27;verticaltrunkcircumferenceusa&#x27;, &#x27;waistbacklength&#x27;, &#x27;waistbreadth&#x27;, &#x27;waistcircumference&#x27;, &#x27;waistdepth&#x27;, &#x27;waistfrontlengthsitting&#x27;, &#x27;waistheightomphalion&#x27;, &#x27;weightkg&#x27;, &#x27;wristcircumference&#x27;, &#x27;wristheight&#x27;, &#x27;Age&#x27;, &#x27;Heightin&#x27;, &#x27;Weightlbs&#x27;]</pre></div></div></div><div class=\"sk-serial\"><div class=\"sk-item\"><div class=\"sk-estimator sk-toggleable\"><input class=\"sk-toggleable__control sk-hidden--visually\" id=\"sk-estimator-id-13\" type=\"checkbox\" ><label for=\"sk-estimator-id-13\" class=\"sk-toggleable__label sk-toggleable__label-arrow\">MinMaxScaler</label><div class=\"sk-toggleable__content\"><pre>MinMaxScaler()</pre></div></div></div></div></div></div></div></div><div class=\"sk-item\"><div class=\"sk-estimator sk-toggleable\"><input class=\"sk-toggleable__control sk-hidden--visually\" id=\"sk-estimator-id-14\" type=\"checkbox\" ><label for=\"sk-estimator-id-14\" class=\"sk-toggleable__label sk-toggleable__label-arrow\">LogisticRegression</label><div class=\"sk-toggleable__content\"><pre>LogisticRegression(class_weight=&#x27;balanced&#x27;, max_iter=10000, random_state=101)</pre></div></div></div></div></div></div></div>"
      ],
      "text/plain": [
       "Pipeline(steps=[('OneHotEncoder',\n",
       "                 ColumnTransformer(remainder=MinMaxScaler(),\n",
       "                                   transformers=[('onehotencoder',\n",
       "                                                  OneHotEncoder(handle_unknown='ignore',\n",
       "                                                                sparse=False),\n",
       "                                                  Index(['Gender', 'WritingPreference'], dtype='object'))])),\n",
       "                ('Log',\n",
       "                 LogisticRegression(class_weight='balanced', max_iter=10000,\n",
       "                                    random_state=101))])"
      ]
     },
     "execution_count": 11,
     "metadata": {},
     "output_type": "execute_result"
    }
   ],
   "source": [
    "pip_log_model.fit(x_train,y_train)\n"
   ]
  },
  {
   "cell_type": "code",
   "execution_count": 12,
   "metadata": {},
   "outputs": [],
   "source": [
    "from sklearn.metrics import classification_report, confusion_matrix\n",
    "\n",
    "\n",
    "def eval (model, x_train, y_train,x_test, y_test):\n",
    "    y_train_pred = model.predict(x_train)\n",
    "    y_pred = model.predict(x_test)\n",
    "\n",
    "    print(\"Test_Set\")\n",
    "    print(confusion_matrix(y_test, y_pred))\n",
    "    print(classification_report(y_test, y_pred))\n",
    "    print()\n",
    "    print(\"Train_Set\")\n",
    "    print(confusion_matrix(y_train, y_train_pred))\n",
    "    print(classification_report(y_train, y_train_pred))"
   ]
  },
  {
   "cell_type": "code",
   "execution_count": 13,
   "metadata": {},
   "outputs": [
    {
     "name": "stdout",
     "output_type": "stream",
     "text": [
      "Test_Set\n",
      "[[232  25   3]\n",
      " [ 12  93  31]\n",
      " [ 13 151 594]]\n",
      "              precision    recall  f1-score   support\n",
      "\n",
      "       Black       0.90      0.89      0.90       260\n",
      "    Hispanic       0.35      0.68      0.46       136\n",
      "       White       0.95      0.78      0.86       758\n",
      "\n",
      "    accuracy                           0.80      1154\n",
      "   macro avg       0.73      0.79      0.74      1154\n",
      "weighted avg       0.87      0.80      0.82      1154\n",
      "\n",
      "\n",
      "Train_Set\n",
      "[[ 946   62   30]\n",
      " [  47  393  103]\n",
      " [  63  516 2455]]\n",
      "              precision    recall  f1-score   support\n",
      "\n",
      "       Black       0.90      0.91      0.90      1038\n",
      "    Hispanic       0.40      0.72      0.52       543\n",
      "       White       0.95      0.81      0.87      3034\n",
      "\n",
      "    accuracy                           0.82      4615\n",
      "   macro avg       0.75      0.81      0.77      4615\n",
      "weighted avg       0.87      0.82      0.84      4615\n",
      "\n"
     ]
    }
   ],
   "source": [
    "eval(pip_log_model, x_train ,y_train, x_test, y_test)"
   ]
  },
  {
   "cell_type": "code",
   "execution_count": 14,
   "metadata": {},
   "outputs": [],
   "source": [
    "# we see here the scores of Hispanic class is lower than other classes\n",
    "# we get the insigh there is no overfitting ."
   ]
  },
  {
   "cell_type": "markdown",
   "metadata": {},
   "source": [
    "## Cross Validation"
   ]
  },
  {
   "cell_type": "code",
   "execution_count": 15,
   "metadata": {},
   "outputs": [],
   "source": [
    "from sklearn.model_selection import cross_validate"
   ]
  },
  {
   "cell_type": "code",
   "execution_count": 16,
   "metadata": {},
   "outputs": [],
   "source": [
    "from sklearn.metrics import f1_score, make_scorer, precision_score, recall_score\n",
    "\n",
    "\n",
    "scoring = {\"precision_Hispanic\" : make_scorer(precision_score, average=None, labels=[\"Hispanic\"]),\n",
    "           \"f1_Hispanic\" : make_scorer(f1_score, average=None, labels=[\"Hispanic\"]),\n",
    "           \"recall_Hispanic\" : make_scorer(recall_score, average = None, labels=[\"Hispanic\"])}\n"
   ]
  },
  {
   "cell_type": "code",
   "execution_count": 17,
   "metadata": {},
   "outputs": [
    {
     "name": "stderr",
     "output_type": "stream",
     "text": [
      "c:\\Python310\\lib\\site-packages\\sklearn\\preprocessing\\_encoders.py:868: FutureWarning: `sparse` was renamed to `sparse_output` in version 1.2 and will be removed in 1.4. `sparse_output` is ignored unless you leave `sparse` to its default value.\n",
      "  warnings.warn(\n",
      "c:\\Python310\\lib\\site-packages\\sklearn\\preprocessing\\_encoders.py:868: FutureWarning: `sparse` was renamed to `sparse_output` in version 1.2 and will be removed in 1.4. `sparse_output` is ignored unless you leave `sparse` to its default value.\n",
      "  warnings.warn(\n",
      "c:\\Python310\\lib\\site-packages\\sklearn\\preprocessing\\_encoders.py:868: FutureWarning: `sparse` was renamed to `sparse_output` in version 1.2 and will be removed in 1.4. `sparse_output` is ignored unless you leave `sparse` to its default value.\n",
      "  warnings.warn(\n",
      "c:\\Python310\\lib\\site-packages\\sklearn\\preprocessing\\_encoders.py:868: FutureWarning: `sparse` was renamed to `sparse_output` in version 1.2 and will be removed in 1.4. `sparse_output` is ignored unless you leave `sparse` to its default value.\n",
      "  warnings.warn(\n",
      "c:\\Python310\\lib\\site-packages\\sklearn\\preprocessing\\_encoders.py:868: FutureWarning: `sparse` was renamed to `sparse_output` in version 1.2 and will be removed in 1.4. `sparse_output` is ignored unless you leave `sparse` to its default value.\n",
      "  warnings.warn(\n",
      "c:\\Python310\\lib\\site-packages\\sklearn\\preprocessing\\_encoders.py:868: FutureWarning: `sparse` was renamed to `sparse_output` in version 1.2 and will be removed in 1.4. `sparse_output` is ignored unless you leave `sparse` to its default value.\n",
      "  warnings.warn(\n",
      "c:\\Python310\\lib\\site-packages\\sklearn\\preprocessing\\_encoders.py:868: FutureWarning: `sparse` was renamed to `sparse_output` in version 1.2 and will be removed in 1.4. `sparse_output` is ignored unless you leave `sparse` to its default value.\n",
      "  warnings.warn(\n",
      "c:\\Python310\\lib\\site-packages\\sklearn\\preprocessing\\_encoders.py:868: FutureWarning: `sparse` was renamed to `sparse_output` in version 1.2 and will be removed in 1.4. `sparse_output` is ignored unless you leave `sparse` to its default value.\n",
      "  warnings.warn(\n",
      "c:\\Python310\\lib\\site-packages\\sklearn\\preprocessing\\_encoders.py:868: FutureWarning: `sparse` was renamed to `sparse_output` in version 1.2 and will be removed in 1.4. `sparse_output` is ignored unless you leave `sparse` to its default value.\n",
      "  warnings.warn(\n",
      "c:\\Python310\\lib\\site-packages\\sklearn\\preprocessing\\_encoders.py:868: FutureWarning: `sparse` was renamed to `sparse_output` in version 1.2 and will be removed in 1.4. `sparse_output` is ignored unless you leave `sparse` to its default value.\n",
      "  warnings.warn(\n"
     ]
    },
    {
     "data": {
      "text/plain": [
       "test_precision_Hispanic    0.371533\n",
       "test_f1_Hispanic           0.477876\n",
       "test_recall_Hispanic       0.672155\n",
       "dtype: float64"
      ]
     },
     "execution_count": 17,
     "metadata": {},
     "output_type": "execute_result"
    }
   ],
   "source": [
    "import pandas as pd\n",
    "\n",
    "\n",
    "opertaions = [('OneHotEncoder', col_trans),('Log',LogisticRegression(class_weight='balanced',max_iter=10000,\n",
    "                                                                          random_state=101))]\n",
    "model = Pipeline(steps=opertaions)\n",
    "\n",
    "scores = cross_validate(model, x_train, y_train, scoring=scoring, cv=10)\n",
    "df_scores = pd.DataFrame(scores, index=range(1,11))\n",
    "df_scores.mean()[2:]\n"
   ]
  },
  {
   "cell_type": "code",
   "execution_count": 18,
   "metadata": {},
   "outputs": [],
   "source": [
    "import pandas as pd\n",
    "pd.set_option('display.max_rows', None)\n"
   ]
  },
  {
   "cell_type": "markdown",
   "metadata": {},
   "source": [
    "### Logistic Model GridsearchCV"
   ]
  },
  {
   "cell_type": "code",
   "execution_count": 19,
   "metadata": {},
   "outputs": [
    {
     "data": {
      "text/plain": [
       "{'memory': None,\n",
       " 'steps': [('OneHotEncoder',\n",
       "   ColumnTransformer(remainder=MinMaxScaler(),\n",
       "                     transformers=[('onehotencoder',\n",
       "                                    OneHotEncoder(handle_unknown='ignore',\n",
       "                                                  sparse=False),\n",
       "                                    Index(['Gender', 'WritingPreference'], dtype='object'))])),\n",
       "  ('Log',\n",
       "   LogisticRegression(class_weight='balanced', max_iter=10000, random_state=101))],\n",
       " 'verbose': False,\n",
       " 'OneHotEncoder': ColumnTransformer(remainder=MinMaxScaler(),\n",
       "                   transformers=[('onehotencoder',\n",
       "                                  OneHotEncoder(handle_unknown='ignore',\n",
       "                                                sparse=False),\n",
       "                                  Index(['Gender', 'WritingPreference'], dtype='object'))]),\n",
       " 'Log': LogisticRegression(class_weight='balanced', max_iter=10000, random_state=101),\n",
       " 'OneHotEncoder__n_jobs': None,\n",
       " 'OneHotEncoder__remainder__clip': False,\n",
       " 'OneHotEncoder__remainder__copy': True,\n",
       " 'OneHotEncoder__remainder__feature_range': (0, 1),\n",
       " 'OneHotEncoder__remainder': MinMaxScaler(),\n",
       " 'OneHotEncoder__sparse_threshold': 0.3,\n",
       " 'OneHotEncoder__transformer_weights': None,\n",
       " 'OneHotEncoder__transformers': [('onehotencoder',\n",
       "   OneHotEncoder(handle_unknown='ignore', sparse=False),\n",
       "   Index(['Gender', 'WritingPreference'], dtype='object'))],\n",
       " 'OneHotEncoder__verbose': False,\n",
       " 'OneHotEncoder__verbose_feature_names_out': True,\n",
       " 'OneHotEncoder__onehotencoder': OneHotEncoder(handle_unknown='ignore', sparse=False),\n",
       " 'OneHotEncoder__onehotencoder__categories': 'auto',\n",
       " 'OneHotEncoder__onehotencoder__drop': None,\n",
       " 'OneHotEncoder__onehotencoder__dtype': numpy.float64,\n",
       " 'OneHotEncoder__onehotencoder__handle_unknown': 'ignore',\n",
       " 'OneHotEncoder__onehotencoder__max_categories': None,\n",
       " 'OneHotEncoder__onehotencoder__min_frequency': None,\n",
       " 'OneHotEncoder__onehotencoder__sparse': False,\n",
       " 'OneHotEncoder__onehotencoder__sparse_output': True,\n",
       " 'Log__C': 1.0,\n",
       " 'Log__class_weight': 'balanced',\n",
       " 'Log__dual': False,\n",
       " 'Log__fit_intercept': True,\n",
       " 'Log__intercept_scaling': 1,\n",
       " 'Log__l1_ratio': None,\n",
       " 'Log__max_iter': 10000,\n",
       " 'Log__multi_class': 'auto',\n",
       " 'Log__n_jobs': None,\n",
       " 'Log__penalty': 'l2',\n",
       " 'Log__random_state': 101,\n",
       " 'Log__solver': 'lbfgs',\n",
       " 'Log__tol': 0.0001,\n",
       " 'Log__verbose': 0,\n",
       " 'Log__warm_start': False}"
      ]
     },
     "execution_count": 19,
     "metadata": {},
     "output_type": "execute_result"
    }
   ],
   "source": [
    "pd.set_option('display.max_columns', None)\n",
    "\n",
    "pip_log_model.get_params()"
   ]
  },
  {
   "cell_type": "code",
   "execution_count": 20,
   "metadata": {},
   "outputs": [],
   "source": [
    "from sklearn.model_selection import GridSearchCV\n",
    "# operations = [(\"scaler\", StandardScaler()), (\"logistic\", LogisticRegression())]\n",
    "\n",
    "opertaions = [('OneHotEncoder', col_trans),\n",
    "              ('Log',LogisticRegression(class_weight='balanced',max_iter=10000,\n",
    "                                                                          random_state=101))]\n",
    "\n",
    "model = Pipeline(steps=opertaions)\n",
    "\n",
    "penality = [ 'l2']\n",
    "C = [1, 5, 10]\n",
    "solver = ['liblinear', 'lbfgs']\n",
    "class_weight = [\"balanced\", None]\n",
    "\n",
    "\n",
    "#I got tow error here when i set parameters \n",
    "# ValueError: Solver lbfgs supports only 'l2' or 'none' penalties, got l1 penalty.\n",
    "# sklearn.utils._param_validation.InvalidParameterError: The 'penalty' parameter of LogisticRegression must be a str among {'elasticnet', 'l2', 'l1', 'none' (deprecated)} or None. Got 'None' instead.\n",
    "\n",
    "# ValueError: penalty='none' is not supported for the liblinear solver\n"
   ]
  },
  {
   "cell_type": "code",
   "execution_count": 21,
   "metadata": {},
   "outputs": [],
   "source": [
    "recall_Hispanic =  make_scorer(recall_score, average=None, labels=[\"Hispanic\"])\n",
    "\n",
    "\n",
    "param_grid = {\"Log__penalty\" :penality ,\n",
    "              \"Log__C\" : C,\n",
    "              \"Log__solver\" : solver, \n",
    "              'Log__class_weight':class_weight }\n"
   ]
  },
  {
   "cell_type": "code",
   "execution_count": 22,
   "metadata": {},
   "outputs": [],
   "source": [
    "grid_model1 = GridSearchCV(model,\n",
    "                          param_grid,\n",
    "                          cv=10,\n",
    "                          scoring=recall_Hispanic,\n",
    "                          n_jobs=-1,\n",
    "                          return_train_score=True)"
   ]
  },
  {
   "cell_type": "code",
   "execution_count": 23,
   "metadata": {},
   "outputs": [
    {
     "name": "stderr",
     "output_type": "stream",
     "text": [
      "c:\\Python310\\lib\\site-packages\\sklearn\\preprocessing\\_encoders.py:868: FutureWarning: `sparse` was renamed to `sparse_output` in version 1.2 and will be removed in 1.4. `sparse_output` is ignored unless you leave `sparse` to its default value.\n",
      "  warnings.warn(\n"
     ]
    },
    {
     "data": {
      "text/html": [
       "<style>#sk-container-id-3 {color: black;background-color: white;}#sk-container-id-3 pre{padding: 0;}#sk-container-id-3 div.sk-toggleable {background-color: white;}#sk-container-id-3 label.sk-toggleable__label {cursor: pointer;display: block;width: 100%;margin-bottom: 0;padding: 0.3em;box-sizing: border-box;text-align: center;}#sk-container-id-3 label.sk-toggleable__label-arrow:before {content: \"▸\";float: left;margin-right: 0.25em;color: #696969;}#sk-container-id-3 label.sk-toggleable__label-arrow:hover:before {color: black;}#sk-container-id-3 div.sk-estimator:hover label.sk-toggleable__label-arrow:before {color: black;}#sk-container-id-3 div.sk-toggleable__content {max-height: 0;max-width: 0;overflow: hidden;text-align: left;background-color: #f0f8ff;}#sk-container-id-3 div.sk-toggleable__content pre {margin: 0.2em;color: black;border-radius: 0.25em;background-color: #f0f8ff;}#sk-container-id-3 input.sk-toggleable__control:checked~div.sk-toggleable__content {max-height: 200px;max-width: 100%;overflow: auto;}#sk-container-id-3 input.sk-toggleable__control:checked~label.sk-toggleable__label-arrow:before {content: \"▾\";}#sk-container-id-3 div.sk-estimator input.sk-toggleable__control:checked~label.sk-toggleable__label {background-color: #d4ebff;}#sk-container-id-3 div.sk-label input.sk-toggleable__control:checked~label.sk-toggleable__label {background-color: #d4ebff;}#sk-container-id-3 input.sk-hidden--visually {border: 0;clip: rect(1px 1px 1px 1px);clip: rect(1px, 1px, 1px, 1px);height: 1px;margin: -1px;overflow: hidden;padding: 0;position: absolute;width: 1px;}#sk-container-id-3 div.sk-estimator {font-family: monospace;background-color: #f0f8ff;border: 1px dotted black;border-radius: 0.25em;box-sizing: border-box;margin-bottom: 0.5em;}#sk-container-id-3 div.sk-estimator:hover {background-color: #d4ebff;}#sk-container-id-3 div.sk-parallel-item::after {content: \"\";width: 100%;border-bottom: 1px solid gray;flex-grow: 1;}#sk-container-id-3 div.sk-label:hover label.sk-toggleable__label {background-color: #d4ebff;}#sk-container-id-3 div.sk-serial::before {content: \"\";position: absolute;border-left: 1px solid gray;box-sizing: border-box;top: 0;bottom: 0;left: 50%;z-index: 0;}#sk-container-id-3 div.sk-serial {display: flex;flex-direction: column;align-items: center;background-color: white;padding-right: 0.2em;padding-left: 0.2em;position: relative;}#sk-container-id-3 div.sk-item {position: relative;z-index: 1;}#sk-container-id-3 div.sk-parallel {display: flex;align-items: stretch;justify-content: center;background-color: white;position: relative;}#sk-container-id-3 div.sk-item::before, #sk-container-id-3 div.sk-parallel-item::before {content: \"\";position: absolute;border-left: 1px solid gray;box-sizing: border-box;top: 0;bottom: 0;left: 50%;z-index: -1;}#sk-container-id-3 div.sk-parallel-item {display: flex;flex-direction: column;z-index: 1;position: relative;background-color: white;}#sk-container-id-3 div.sk-parallel-item:first-child::after {align-self: flex-end;width: 50%;}#sk-container-id-3 div.sk-parallel-item:last-child::after {align-self: flex-start;width: 50%;}#sk-container-id-3 div.sk-parallel-item:only-child::after {width: 0;}#sk-container-id-3 div.sk-dashed-wrapped {border: 1px dashed gray;margin: 0 0.4em 0.5em 0.4em;box-sizing: border-box;padding-bottom: 0.4em;background-color: white;}#sk-container-id-3 div.sk-label label {font-family: monospace;font-weight: bold;display: inline-block;line-height: 1.2em;}#sk-container-id-3 div.sk-label-container {text-align: center;}#sk-container-id-3 div.sk-container {/* jupyter's `normalize.less` sets `[hidden] { display: none; }` but bootstrap.min.css set `[hidden] { display: none !important; }` so we also need the `!important` here to be able to override the default hidden behavior on the sphinx rendered scikit-learn.org. See: https://github.com/scikit-learn/scikit-learn/issues/21755 */display: inline-block !important;position: relative;}#sk-container-id-3 div.sk-text-repr-fallback {display: none;}</style><div id=\"sk-container-id-3\" class=\"sk-top-container\"><div class=\"sk-text-repr-fallback\"><pre>GridSearchCV(cv=10,\n",
       "             estimator=Pipeline(steps=[(&#x27;OneHotEncoder&#x27;,\n",
       "                                        ColumnTransformer(remainder=MinMaxScaler(),\n",
       "                                                          transformers=[(&#x27;onehotencoder&#x27;,\n",
       "                                                                         OneHotEncoder(handle_unknown=&#x27;ignore&#x27;,\n",
       "                                                                                       sparse=False),\n",
       "                                                                         Index([&#x27;Gender&#x27;, &#x27;WritingPreference&#x27;], dtype=&#x27;object&#x27;))])),\n",
       "                                       (&#x27;Log&#x27;,\n",
       "                                        LogisticRegression(class_weight=&#x27;balanced&#x27;,\n",
       "                                                           max_iter=10000,\n",
       "                                                           random_state=101))]),\n",
       "             n_jobs=-1,\n",
       "             param_grid={&#x27;Log__C&#x27;: [1, 5, 10],\n",
       "                         &#x27;Log__class_weight&#x27;: [&#x27;balanced&#x27;, None],\n",
       "                         &#x27;Log__penalty&#x27;: [&#x27;l2&#x27;],\n",
       "                         &#x27;Log__solver&#x27;: [&#x27;liblinear&#x27;, &#x27;lbfgs&#x27;]},\n",
       "             return_train_score=True,\n",
       "             scoring=make_scorer(recall_score, average=None, labels=[&#x27;Hispanic&#x27;]))</pre><b>In a Jupyter environment, please rerun this cell to show the HTML representation or trust the notebook. <br />On GitHub, the HTML representation is unable to render, please try loading this page with nbviewer.org.</b></div><div class=\"sk-container\" hidden><div class=\"sk-item sk-dashed-wrapped\"><div class=\"sk-label-container\"><div class=\"sk-label sk-toggleable\"><input class=\"sk-toggleable__control sk-hidden--visually\" id=\"sk-estimator-id-15\" type=\"checkbox\" ><label for=\"sk-estimator-id-15\" class=\"sk-toggleable__label sk-toggleable__label-arrow\">GridSearchCV</label><div class=\"sk-toggleable__content\"><pre>GridSearchCV(cv=10,\n",
       "             estimator=Pipeline(steps=[(&#x27;OneHotEncoder&#x27;,\n",
       "                                        ColumnTransformer(remainder=MinMaxScaler(),\n",
       "                                                          transformers=[(&#x27;onehotencoder&#x27;,\n",
       "                                                                         OneHotEncoder(handle_unknown=&#x27;ignore&#x27;,\n",
       "                                                                                       sparse=False),\n",
       "                                                                         Index([&#x27;Gender&#x27;, &#x27;WritingPreference&#x27;], dtype=&#x27;object&#x27;))])),\n",
       "                                       (&#x27;Log&#x27;,\n",
       "                                        LogisticRegression(class_weight=&#x27;balanced&#x27;,\n",
       "                                                           max_iter=10000,\n",
       "                                                           random_state=101))]),\n",
       "             n_jobs=-1,\n",
       "             param_grid={&#x27;Log__C&#x27;: [1, 5, 10],\n",
       "                         &#x27;Log__class_weight&#x27;: [&#x27;balanced&#x27;, None],\n",
       "                         &#x27;Log__penalty&#x27;: [&#x27;l2&#x27;],\n",
       "                         &#x27;Log__solver&#x27;: [&#x27;liblinear&#x27;, &#x27;lbfgs&#x27;]},\n",
       "             return_train_score=True,\n",
       "             scoring=make_scorer(recall_score, average=None, labels=[&#x27;Hispanic&#x27;]))</pre></div></div></div><div class=\"sk-parallel\"><div class=\"sk-parallel-item\"><div class=\"sk-item\"><div class=\"sk-label-container\"><div class=\"sk-label sk-toggleable\"><input class=\"sk-toggleable__control sk-hidden--visually\" id=\"sk-estimator-id-16\" type=\"checkbox\" ><label for=\"sk-estimator-id-16\" class=\"sk-toggleable__label sk-toggleable__label-arrow\">estimator: Pipeline</label><div class=\"sk-toggleable__content\"><pre>Pipeline(steps=[(&#x27;OneHotEncoder&#x27;,\n",
       "                 ColumnTransformer(remainder=MinMaxScaler(),\n",
       "                                   transformers=[(&#x27;onehotencoder&#x27;,\n",
       "                                                  OneHotEncoder(handle_unknown=&#x27;ignore&#x27;,\n",
       "                                                                sparse=False),\n",
       "                                                  Index([&#x27;Gender&#x27;, &#x27;WritingPreference&#x27;], dtype=&#x27;object&#x27;))])),\n",
       "                (&#x27;Log&#x27;,\n",
       "                 LogisticRegression(class_weight=&#x27;balanced&#x27;, max_iter=10000,\n",
       "                                    random_state=101))])</pre></div></div></div><div class=\"sk-serial\"><div class=\"sk-item\"><div class=\"sk-serial\"><div class=\"sk-item sk-dashed-wrapped\"><div class=\"sk-label-container\"><div class=\"sk-label sk-toggleable\"><input class=\"sk-toggleable__control sk-hidden--visually\" id=\"sk-estimator-id-17\" type=\"checkbox\" ><label for=\"sk-estimator-id-17\" class=\"sk-toggleable__label sk-toggleable__label-arrow\">OneHotEncoder: ColumnTransformer</label><div class=\"sk-toggleable__content\"><pre>ColumnTransformer(remainder=MinMaxScaler(),\n",
       "                  transformers=[(&#x27;onehotencoder&#x27;,\n",
       "                                 OneHotEncoder(handle_unknown=&#x27;ignore&#x27;,\n",
       "                                               sparse=False),\n",
       "                                 Index([&#x27;Gender&#x27;, &#x27;WritingPreference&#x27;], dtype=&#x27;object&#x27;))])</pre></div></div></div><div class=\"sk-parallel\"><div class=\"sk-parallel-item\"><div class=\"sk-item\"><div class=\"sk-label-container\"><div class=\"sk-label sk-toggleable\"><input class=\"sk-toggleable__control sk-hidden--visually\" id=\"sk-estimator-id-18\" type=\"checkbox\" ><label for=\"sk-estimator-id-18\" class=\"sk-toggleable__label sk-toggleable__label-arrow\">onehotencoder</label><div class=\"sk-toggleable__content\"><pre>Index([&#x27;Gender&#x27;, &#x27;WritingPreference&#x27;], dtype=&#x27;object&#x27;)</pre></div></div></div><div class=\"sk-serial\"><div class=\"sk-item\"><div class=\"sk-estimator sk-toggleable\"><input class=\"sk-toggleable__control sk-hidden--visually\" id=\"sk-estimator-id-19\" type=\"checkbox\" ><label for=\"sk-estimator-id-19\" class=\"sk-toggleable__label sk-toggleable__label-arrow\">OneHotEncoder</label><div class=\"sk-toggleable__content\"><pre>OneHotEncoder(handle_unknown=&#x27;ignore&#x27;, sparse=False)</pre></div></div></div></div></div></div><div class=\"sk-parallel-item\"><div class=\"sk-item\"><div class=\"sk-label-container\"><div class=\"sk-label sk-toggleable\"><input class=\"sk-toggleable__control sk-hidden--visually\" id=\"sk-estimator-id-20\" type=\"checkbox\" ><label for=\"sk-estimator-id-20\" class=\"sk-toggleable__label sk-toggleable__label-arrow\">remainder</label><div class=\"sk-toggleable__content\"><pre>[&#x27;abdominalextensiondepthsitting&#x27;, &#x27;acromialheight&#x27;, &#x27;acromionradialelength&#x27;, &#x27;anklecircumference&#x27;, &#x27;axillaheight&#x27;, &#x27;balloffootcircumference&#x27;, &#x27;balloffootlength&#x27;, &#x27;biacromialbreadth&#x27;, &#x27;bicepscircumferenceflexed&#x27;, &#x27;bicristalbreadth&#x27;, &#x27;bideltoidbreadth&#x27;, &#x27;bimalleolarbreadth&#x27;, &#x27;bitragionchinarc&#x27;, &#x27;bitragionsubmandibulararc&#x27;, &#x27;bizygomaticbreadth&#x27;, &#x27;buttockcircumference&#x27;, &#x27;buttockdepth&#x27;, &#x27;buttockheight&#x27;, &#x27;buttockkneelength&#x27;, &#x27;buttockpopliteallength&#x27;, &#x27;calfcircumference&#x27;, &#x27;cervicaleheight&#x27;, &#x27;chestbreadth&#x27;, &#x27;chestcircumference&#x27;, &#x27;chestdepth&#x27;, &#x27;chestheight&#x27;, &#x27;crotchheight&#x27;, &#x27;crotchlengthomphalion&#x27;, &#x27;crotchlengthposterioromphalion&#x27;, &#x27;earbreadth&#x27;, &#x27;earlength&#x27;, &#x27;earprotrusion&#x27;, &#x27;elbowrestheight&#x27;, &#x27;eyeheightsitting&#x27;, &#x27;footbreadthhorizontal&#x27;, &#x27;footlength&#x27;, &#x27;forearmcenterofgriplength&#x27;, &#x27;forearmcircumferenceflexed&#x27;, &#x27;forearmforearmbreadth&#x27;, &#x27;forearmhandlength&#x27;, &#x27;functionalleglength&#x27;, &#x27;handbreadth&#x27;, &#x27;handcircumference&#x27;, &#x27;handlength&#x27;, &#x27;headbreadth&#x27;, &#x27;headcircumference&#x27;, &#x27;headlength&#x27;, &#x27;heelanklecircumference&#x27;, &#x27;heelbreadth&#x27;, &#x27;hipbreadth&#x27;, &#x27;hipbreadthsitting&#x27;, &#x27;iliocristaleheight&#x27;, &#x27;interpupillarybreadth&#x27;, &#x27;interscyei&#x27;, &#x27;interscyeii&#x27;, &#x27;kneeheightmidpatella&#x27;, &#x27;kneeheightsitting&#x27;, &#x27;lateralfemoralepicondyleheight&#x27;, &#x27;lateralmalleolusheight&#x27;, &#x27;lowerthighcircumference&#x27;, &#x27;mentonsellionlength&#x27;, &#x27;neckcircumference&#x27;, &#x27;neckcircumferencebase&#x27;, &#x27;overheadfingertipreachsitting&#x27;, &#x27;palmlength&#x27;, &#x27;poplitealheight&#x27;, &#x27;radialestylionlength&#x27;, &#x27;shouldercircumference&#x27;, &#x27;shoulderelbowlength&#x27;, &#x27;shoulderlength&#x27;, &#x27;sittingheight&#x27;, &#x27;sleevelengthspinewrist&#x27;, &#x27;sleeveoutseam&#x27;, &#x27;span&#x27;, &#x27;stature&#x27;, &#x27;suprasternaleheight&#x27;, &#x27;tenthribheight&#x27;, &#x27;thighcircumference&#x27;, &#x27;thighclearance&#x27;, &#x27;thumbtipreach&#x27;, &#x27;tibialheight&#x27;, &#x27;tragiontopofhead&#x27;, &#x27;trochanterionheight&#x27;, &#x27;verticaltrunkcircumferenceusa&#x27;, &#x27;waistbacklength&#x27;, &#x27;waistbreadth&#x27;, &#x27;waistcircumference&#x27;, &#x27;waistdepth&#x27;, &#x27;waistfrontlengthsitting&#x27;, &#x27;waistheightomphalion&#x27;, &#x27;weightkg&#x27;, &#x27;wristcircumference&#x27;, &#x27;wristheight&#x27;, &#x27;Age&#x27;, &#x27;Heightin&#x27;, &#x27;Weightlbs&#x27;]</pre></div></div></div><div class=\"sk-serial\"><div class=\"sk-item\"><div class=\"sk-estimator sk-toggleable\"><input class=\"sk-toggleable__control sk-hidden--visually\" id=\"sk-estimator-id-21\" type=\"checkbox\" ><label for=\"sk-estimator-id-21\" class=\"sk-toggleable__label sk-toggleable__label-arrow\">MinMaxScaler</label><div class=\"sk-toggleable__content\"><pre>MinMaxScaler()</pre></div></div></div></div></div></div></div></div><div class=\"sk-item\"><div class=\"sk-estimator sk-toggleable\"><input class=\"sk-toggleable__control sk-hidden--visually\" id=\"sk-estimator-id-22\" type=\"checkbox\" ><label for=\"sk-estimator-id-22\" class=\"sk-toggleable__label sk-toggleable__label-arrow\">LogisticRegression</label><div class=\"sk-toggleable__content\"><pre>LogisticRegression(class_weight=&#x27;balanced&#x27;, max_iter=10000, random_state=101)</pre></div></div></div></div></div></div></div></div></div></div></div></div>"
      ],
      "text/plain": [
       "GridSearchCV(cv=10,\n",
       "             estimator=Pipeline(steps=[('OneHotEncoder',\n",
       "                                        ColumnTransformer(remainder=MinMaxScaler(),\n",
       "                                                          transformers=[('onehotencoder',\n",
       "                                                                         OneHotEncoder(handle_unknown='ignore',\n",
       "                                                                                       sparse=False),\n",
       "                                                                         Index(['Gender', 'WritingPreference'], dtype='object'))])),\n",
       "                                       ('Log',\n",
       "                                        LogisticRegression(class_weight='balanced',\n",
       "                                                           max_iter=10000,\n",
       "                                                           random_state=101))]),\n",
       "             n_jobs=-1,\n",
       "             param_grid={'Log__C': [1, 5, 10],\n",
       "                         'Log__class_weight': ['balanced', None],\n",
       "                         'Log__penalty': ['l2'],\n",
       "                         'Log__solver': ['liblinear', 'lbfgs']},\n",
       "             return_train_score=True,\n",
       "             scoring=make_scorer(recall_score, average=None, labels=['Hispanic']))"
      ]
     },
     "execution_count": 23,
     "metadata": {},
     "output_type": "execute_result"
    }
   ],
   "source": [
    "grid_model1.fit(x_train, y_train)"
   ]
  },
  {
   "cell_type": "code",
   "execution_count": 24,
   "metadata": {},
   "outputs": [
    {
     "data": {
      "text/html": [
       "<style>#sk-container-id-4 {color: black;background-color: white;}#sk-container-id-4 pre{padding: 0;}#sk-container-id-4 div.sk-toggleable {background-color: white;}#sk-container-id-4 label.sk-toggleable__label {cursor: pointer;display: block;width: 100%;margin-bottom: 0;padding: 0.3em;box-sizing: border-box;text-align: center;}#sk-container-id-4 label.sk-toggleable__label-arrow:before {content: \"▸\";float: left;margin-right: 0.25em;color: #696969;}#sk-container-id-4 label.sk-toggleable__label-arrow:hover:before {color: black;}#sk-container-id-4 div.sk-estimator:hover label.sk-toggleable__label-arrow:before {color: black;}#sk-container-id-4 div.sk-toggleable__content {max-height: 0;max-width: 0;overflow: hidden;text-align: left;background-color: #f0f8ff;}#sk-container-id-4 div.sk-toggleable__content pre {margin: 0.2em;color: black;border-radius: 0.25em;background-color: #f0f8ff;}#sk-container-id-4 input.sk-toggleable__control:checked~div.sk-toggleable__content {max-height: 200px;max-width: 100%;overflow: auto;}#sk-container-id-4 input.sk-toggleable__control:checked~label.sk-toggleable__label-arrow:before {content: \"▾\";}#sk-container-id-4 div.sk-estimator input.sk-toggleable__control:checked~label.sk-toggleable__label {background-color: #d4ebff;}#sk-container-id-4 div.sk-label input.sk-toggleable__control:checked~label.sk-toggleable__label {background-color: #d4ebff;}#sk-container-id-4 input.sk-hidden--visually {border: 0;clip: rect(1px 1px 1px 1px);clip: rect(1px, 1px, 1px, 1px);height: 1px;margin: -1px;overflow: hidden;padding: 0;position: absolute;width: 1px;}#sk-container-id-4 div.sk-estimator {font-family: monospace;background-color: #f0f8ff;border: 1px dotted black;border-radius: 0.25em;box-sizing: border-box;margin-bottom: 0.5em;}#sk-container-id-4 div.sk-estimator:hover {background-color: #d4ebff;}#sk-container-id-4 div.sk-parallel-item::after {content: \"\";width: 100%;border-bottom: 1px solid gray;flex-grow: 1;}#sk-container-id-4 div.sk-label:hover label.sk-toggleable__label {background-color: #d4ebff;}#sk-container-id-4 div.sk-serial::before {content: \"\";position: absolute;border-left: 1px solid gray;box-sizing: border-box;top: 0;bottom: 0;left: 50%;z-index: 0;}#sk-container-id-4 div.sk-serial {display: flex;flex-direction: column;align-items: center;background-color: white;padding-right: 0.2em;padding-left: 0.2em;position: relative;}#sk-container-id-4 div.sk-item {position: relative;z-index: 1;}#sk-container-id-4 div.sk-parallel {display: flex;align-items: stretch;justify-content: center;background-color: white;position: relative;}#sk-container-id-4 div.sk-item::before, #sk-container-id-4 div.sk-parallel-item::before {content: \"\";position: absolute;border-left: 1px solid gray;box-sizing: border-box;top: 0;bottom: 0;left: 50%;z-index: -1;}#sk-container-id-4 div.sk-parallel-item {display: flex;flex-direction: column;z-index: 1;position: relative;background-color: white;}#sk-container-id-4 div.sk-parallel-item:first-child::after {align-self: flex-end;width: 50%;}#sk-container-id-4 div.sk-parallel-item:last-child::after {align-self: flex-start;width: 50%;}#sk-container-id-4 div.sk-parallel-item:only-child::after {width: 0;}#sk-container-id-4 div.sk-dashed-wrapped {border: 1px dashed gray;margin: 0 0.4em 0.5em 0.4em;box-sizing: border-box;padding-bottom: 0.4em;background-color: white;}#sk-container-id-4 div.sk-label label {font-family: monospace;font-weight: bold;display: inline-block;line-height: 1.2em;}#sk-container-id-4 div.sk-label-container {text-align: center;}#sk-container-id-4 div.sk-container {/* jupyter's `normalize.less` sets `[hidden] { display: none; }` but bootstrap.min.css set `[hidden] { display: none !important; }` so we also need the `!important` here to be able to override the default hidden behavior on the sphinx rendered scikit-learn.org. See: https://github.com/scikit-learn/scikit-learn/issues/21755 */display: inline-block !important;position: relative;}#sk-container-id-4 div.sk-text-repr-fallback {display: none;}</style><div id=\"sk-container-id-4\" class=\"sk-top-container\"><div class=\"sk-text-repr-fallback\"><pre>Pipeline(steps=[(&#x27;OneHotEncoder&#x27;,\n",
       "                 ColumnTransformer(remainder=MinMaxScaler(),\n",
       "                                   transformers=[(&#x27;onehotencoder&#x27;,\n",
       "                                                  OneHotEncoder(handle_unknown=&#x27;ignore&#x27;,\n",
       "                                                                sparse=False),\n",
       "                                                  Index([&#x27;Gender&#x27;, &#x27;WritingPreference&#x27;], dtype=&#x27;object&#x27;))])),\n",
       "                (&#x27;Log&#x27;,\n",
       "                 LogisticRegression(C=1, class_weight=&#x27;balanced&#x27;,\n",
       "                                    max_iter=10000, random_state=101))])</pre><b>In a Jupyter environment, please rerun this cell to show the HTML representation or trust the notebook. <br />On GitHub, the HTML representation is unable to render, please try loading this page with nbviewer.org.</b></div><div class=\"sk-container\" hidden><div class=\"sk-item sk-dashed-wrapped\"><div class=\"sk-label-container\"><div class=\"sk-label sk-toggleable\"><input class=\"sk-toggleable__control sk-hidden--visually\" id=\"sk-estimator-id-23\" type=\"checkbox\" ><label for=\"sk-estimator-id-23\" class=\"sk-toggleable__label sk-toggleable__label-arrow\">Pipeline</label><div class=\"sk-toggleable__content\"><pre>Pipeline(steps=[(&#x27;OneHotEncoder&#x27;,\n",
       "                 ColumnTransformer(remainder=MinMaxScaler(),\n",
       "                                   transformers=[(&#x27;onehotencoder&#x27;,\n",
       "                                                  OneHotEncoder(handle_unknown=&#x27;ignore&#x27;,\n",
       "                                                                sparse=False),\n",
       "                                                  Index([&#x27;Gender&#x27;, &#x27;WritingPreference&#x27;], dtype=&#x27;object&#x27;))])),\n",
       "                (&#x27;Log&#x27;,\n",
       "                 LogisticRegression(C=1, class_weight=&#x27;balanced&#x27;,\n",
       "                                    max_iter=10000, random_state=101))])</pre></div></div></div><div class=\"sk-serial\"><div class=\"sk-item sk-dashed-wrapped\"><div class=\"sk-label-container\"><div class=\"sk-label sk-toggleable\"><input class=\"sk-toggleable__control sk-hidden--visually\" id=\"sk-estimator-id-24\" type=\"checkbox\" ><label for=\"sk-estimator-id-24\" class=\"sk-toggleable__label sk-toggleable__label-arrow\">OneHotEncoder: ColumnTransformer</label><div class=\"sk-toggleable__content\"><pre>ColumnTransformer(remainder=MinMaxScaler(),\n",
       "                  transformers=[(&#x27;onehotencoder&#x27;,\n",
       "                                 OneHotEncoder(handle_unknown=&#x27;ignore&#x27;,\n",
       "                                               sparse=False),\n",
       "                                 Index([&#x27;Gender&#x27;, &#x27;WritingPreference&#x27;], dtype=&#x27;object&#x27;))])</pre></div></div></div><div class=\"sk-parallel\"><div class=\"sk-parallel-item\"><div class=\"sk-item\"><div class=\"sk-label-container\"><div class=\"sk-label sk-toggleable\"><input class=\"sk-toggleable__control sk-hidden--visually\" id=\"sk-estimator-id-25\" type=\"checkbox\" ><label for=\"sk-estimator-id-25\" class=\"sk-toggleable__label sk-toggleable__label-arrow\">onehotencoder</label><div class=\"sk-toggleable__content\"><pre>Index([&#x27;Gender&#x27;, &#x27;WritingPreference&#x27;], dtype=&#x27;object&#x27;)</pre></div></div></div><div class=\"sk-serial\"><div class=\"sk-item\"><div class=\"sk-estimator sk-toggleable\"><input class=\"sk-toggleable__control sk-hidden--visually\" id=\"sk-estimator-id-26\" type=\"checkbox\" ><label for=\"sk-estimator-id-26\" class=\"sk-toggleable__label sk-toggleable__label-arrow\">OneHotEncoder</label><div class=\"sk-toggleable__content\"><pre>OneHotEncoder(handle_unknown=&#x27;ignore&#x27;, sparse=False)</pre></div></div></div></div></div></div><div class=\"sk-parallel-item\"><div class=\"sk-item\"><div class=\"sk-label-container\"><div class=\"sk-label sk-toggleable\"><input class=\"sk-toggleable__control sk-hidden--visually\" id=\"sk-estimator-id-27\" type=\"checkbox\" ><label for=\"sk-estimator-id-27\" class=\"sk-toggleable__label sk-toggleable__label-arrow\">remainder</label><div class=\"sk-toggleable__content\"><pre>[&#x27;abdominalextensiondepthsitting&#x27;, &#x27;acromialheight&#x27;, &#x27;acromionradialelength&#x27;, &#x27;anklecircumference&#x27;, &#x27;axillaheight&#x27;, &#x27;balloffootcircumference&#x27;, &#x27;balloffootlength&#x27;, &#x27;biacromialbreadth&#x27;, &#x27;bicepscircumferenceflexed&#x27;, &#x27;bicristalbreadth&#x27;, &#x27;bideltoidbreadth&#x27;, &#x27;bimalleolarbreadth&#x27;, &#x27;bitragionchinarc&#x27;, &#x27;bitragionsubmandibulararc&#x27;, &#x27;bizygomaticbreadth&#x27;, &#x27;buttockcircumference&#x27;, &#x27;buttockdepth&#x27;, &#x27;buttockheight&#x27;, &#x27;buttockkneelength&#x27;, &#x27;buttockpopliteallength&#x27;, &#x27;calfcircumference&#x27;, &#x27;cervicaleheight&#x27;, &#x27;chestbreadth&#x27;, &#x27;chestcircumference&#x27;, &#x27;chestdepth&#x27;, &#x27;chestheight&#x27;, &#x27;crotchheight&#x27;, &#x27;crotchlengthomphalion&#x27;, &#x27;crotchlengthposterioromphalion&#x27;, &#x27;earbreadth&#x27;, &#x27;earlength&#x27;, &#x27;earprotrusion&#x27;, &#x27;elbowrestheight&#x27;, &#x27;eyeheightsitting&#x27;, &#x27;footbreadthhorizontal&#x27;, &#x27;footlength&#x27;, &#x27;forearmcenterofgriplength&#x27;, &#x27;forearmcircumferenceflexed&#x27;, &#x27;forearmforearmbreadth&#x27;, &#x27;forearmhandlength&#x27;, &#x27;functionalleglength&#x27;, &#x27;handbreadth&#x27;, &#x27;handcircumference&#x27;, &#x27;handlength&#x27;, &#x27;headbreadth&#x27;, &#x27;headcircumference&#x27;, &#x27;headlength&#x27;, &#x27;heelanklecircumference&#x27;, &#x27;heelbreadth&#x27;, &#x27;hipbreadth&#x27;, &#x27;hipbreadthsitting&#x27;, &#x27;iliocristaleheight&#x27;, &#x27;interpupillarybreadth&#x27;, &#x27;interscyei&#x27;, &#x27;interscyeii&#x27;, &#x27;kneeheightmidpatella&#x27;, &#x27;kneeheightsitting&#x27;, &#x27;lateralfemoralepicondyleheight&#x27;, &#x27;lateralmalleolusheight&#x27;, &#x27;lowerthighcircumference&#x27;, &#x27;mentonsellionlength&#x27;, &#x27;neckcircumference&#x27;, &#x27;neckcircumferencebase&#x27;, &#x27;overheadfingertipreachsitting&#x27;, &#x27;palmlength&#x27;, &#x27;poplitealheight&#x27;, &#x27;radialestylionlength&#x27;, &#x27;shouldercircumference&#x27;, &#x27;shoulderelbowlength&#x27;, &#x27;shoulderlength&#x27;, &#x27;sittingheight&#x27;, &#x27;sleevelengthspinewrist&#x27;, &#x27;sleeveoutseam&#x27;, &#x27;span&#x27;, &#x27;stature&#x27;, &#x27;suprasternaleheight&#x27;, &#x27;tenthribheight&#x27;, &#x27;thighcircumference&#x27;, &#x27;thighclearance&#x27;, &#x27;thumbtipreach&#x27;, &#x27;tibialheight&#x27;, &#x27;tragiontopofhead&#x27;, &#x27;trochanterionheight&#x27;, &#x27;verticaltrunkcircumferenceusa&#x27;, &#x27;waistbacklength&#x27;, &#x27;waistbreadth&#x27;, &#x27;waistcircumference&#x27;, &#x27;waistdepth&#x27;, &#x27;waistfrontlengthsitting&#x27;, &#x27;waistheightomphalion&#x27;, &#x27;weightkg&#x27;, &#x27;wristcircumference&#x27;, &#x27;wristheight&#x27;, &#x27;Age&#x27;, &#x27;Heightin&#x27;, &#x27;Weightlbs&#x27;]</pre></div></div></div><div class=\"sk-serial\"><div class=\"sk-item\"><div class=\"sk-estimator sk-toggleable\"><input class=\"sk-toggleable__control sk-hidden--visually\" id=\"sk-estimator-id-28\" type=\"checkbox\" ><label for=\"sk-estimator-id-28\" class=\"sk-toggleable__label sk-toggleable__label-arrow\">MinMaxScaler</label><div class=\"sk-toggleable__content\"><pre>MinMaxScaler()</pre></div></div></div></div></div></div></div></div><div class=\"sk-item\"><div class=\"sk-estimator sk-toggleable\"><input class=\"sk-toggleable__control sk-hidden--visually\" id=\"sk-estimator-id-29\" type=\"checkbox\" ><label for=\"sk-estimator-id-29\" class=\"sk-toggleable__label sk-toggleable__label-arrow\">LogisticRegression</label><div class=\"sk-toggleable__content\"><pre>LogisticRegression(C=1, class_weight=&#x27;balanced&#x27;, max_iter=10000,\n",
       "                   random_state=101)</pre></div></div></div></div></div></div></div>"
      ],
      "text/plain": [
       "Pipeline(steps=[('OneHotEncoder',\n",
       "                 ColumnTransformer(remainder=MinMaxScaler(),\n",
       "                                   transformers=[('onehotencoder',\n",
       "                                                  OneHotEncoder(handle_unknown='ignore',\n",
       "                                                                sparse=False),\n",
       "                                                  Index(['Gender', 'WritingPreference'], dtype='object'))])),\n",
       "                ('Log',\n",
       "                 LogisticRegression(C=1, class_weight='balanced',\n",
       "                                    max_iter=10000, random_state=101))])"
      ]
     },
     "execution_count": 24,
     "metadata": {},
     "output_type": "execute_result"
    }
   ],
   "source": [
    "grid_model1.best_estimator_"
   ]
  },
  {
   "cell_type": "code",
   "execution_count": 25,
   "metadata": {},
   "outputs": [
    {
     "data": {
      "text/plain": [
       "{'Log__C': 1,\n",
       " 'Log__class_weight': 'balanced',\n",
       " 'Log__penalty': 'l2',\n",
       " 'Log__solver': 'lbfgs'}"
      ]
     },
     "execution_count": 25,
     "metadata": {},
     "output_type": "execute_result"
    }
   ],
   "source": [
    "grid_model1.best_params_\n"
   ]
  },
  {
   "cell_type": "code",
   "execution_count": 26,
   "metadata": {},
   "outputs": [
    {
     "data": {
      "text/html": [
       "<div>\n",
       "<style scoped>\n",
       "    .dataframe tbody tr th:only-of-type {\n",
       "        vertical-align: middle;\n",
       "    }\n",
       "\n",
       "    .dataframe tbody tr th {\n",
       "        vertical-align: top;\n",
       "    }\n",
       "\n",
       "    .dataframe thead th {\n",
       "        text-align: right;\n",
       "    }\n",
       "</style>\n",
       "<table border=\"1\" class=\"dataframe\">\n",
       "  <thead>\n",
       "    <tr style=\"text-align: right;\">\n",
       "      <th></th>\n",
       "      <th>mean_test_score</th>\n",
       "      <th>mean_train_score</th>\n",
       "      <th>params</th>\n",
       "    </tr>\n",
       "  </thead>\n",
       "  <tbody>\n",
       "    <tr>\n",
       "      <th>0</th>\n",
       "      <td>0.466027</td>\n",
       "      <td>0.499078</td>\n",
       "      <td>{'Log__C': 1, 'Log__class_weight': 'balanced',...</td>\n",
       "    </tr>\n",
       "    <tr>\n",
       "      <th>1</th>\n",
       "      <td>0.672155</td>\n",
       "      <td>0.721710</td>\n",
       "      <td>{'Log__C': 1, 'Log__class_weight': 'balanced',...</td>\n",
       "    </tr>\n",
       "    <tr>\n",
       "      <th>2</th>\n",
       "      <td>0.233838</td>\n",
       "      <td>0.243094</td>\n",
       "      <td>{'Log__C': 1, 'Log__class_weight': None, 'Log_...</td>\n",
       "    </tr>\n",
       "    <tr>\n",
       "      <th>3</th>\n",
       "      <td>0.307441</td>\n",
       "      <td>0.321055</td>\n",
       "      <td>{'Log__C': 1, 'Log__class_weight': None, 'Log_...</td>\n",
       "    </tr>\n",
       "    <tr>\n",
       "      <th>4</th>\n",
       "      <td>0.495421</td>\n",
       "      <td>0.537139</td>\n",
       "      <td>{'Log__C': 5, 'Log__class_weight': 'balanced',...</td>\n",
       "    </tr>\n",
       "    <tr>\n",
       "      <th>5</th>\n",
       "      <td>0.662963</td>\n",
       "      <td>0.724577</td>\n",
       "      <td>{'Log__C': 5, 'Log__class_weight': 'balanced',...</td>\n",
       "    </tr>\n",
       "    <tr>\n",
       "      <th>6</th>\n",
       "      <td>0.281717</td>\n",
       "      <td>0.309802</td>\n",
       "      <td>{'Log__C': 5, 'Log__class_weight': None, 'Log_...</td>\n",
       "    </tr>\n",
       "    <tr>\n",
       "      <th>7</th>\n",
       "      <td>0.347980</td>\n",
       "      <td>0.385102</td>\n",
       "      <td>{'Log__C': 5, 'Log__class_weight': None, 'Log_...</td>\n",
       "    </tr>\n",
       "    <tr>\n",
       "      <th>8</th>\n",
       "      <td>0.499125</td>\n",
       "      <td>0.548804</td>\n",
       "      <td>{'Log__C': 10, 'Log__class_weight': 'balanced'...</td>\n",
       "    </tr>\n",
       "    <tr>\n",
       "      <th>9</th>\n",
       "      <td>0.662963</td>\n",
       "      <td>0.727033</td>\n",
       "      <td>{'Log__C': 10, 'Log__class_weight': 'balanced'...</td>\n",
       "    </tr>\n",
       "    <tr>\n",
       "      <th>10</th>\n",
       "      <td>0.303805</td>\n",
       "      <td>0.331697</td>\n",
       "      <td>{'Log__C': 10, 'Log__class_weight': None, 'Log...</td>\n",
       "    </tr>\n",
       "    <tr>\n",
       "      <th>11</th>\n",
       "      <td>0.364512</td>\n",
       "      <td>0.398809</td>\n",
       "      <td>{'Log__C': 10, 'Log__class_weight': None, 'Log...</td>\n",
       "    </tr>\n",
       "  </tbody>\n",
       "</table>\n",
       "</div>"
      ],
      "text/plain": [
       "    mean_test_score  mean_train_score  \\\n",
       "0          0.466027          0.499078   \n",
       "1          0.672155          0.721710   \n",
       "2          0.233838          0.243094   \n",
       "3          0.307441          0.321055   \n",
       "4          0.495421          0.537139   \n",
       "5          0.662963          0.724577   \n",
       "6          0.281717          0.309802   \n",
       "7          0.347980          0.385102   \n",
       "8          0.499125          0.548804   \n",
       "9          0.662963          0.727033   \n",
       "10         0.303805          0.331697   \n",
       "11         0.364512          0.398809   \n",
       "\n",
       "                                               params  \n",
       "0   {'Log__C': 1, 'Log__class_weight': 'balanced',...  \n",
       "1   {'Log__C': 1, 'Log__class_weight': 'balanced',...  \n",
       "2   {'Log__C': 1, 'Log__class_weight': None, 'Log_...  \n",
       "3   {'Log__C': 1, 'Log__class_weight': None, 'Log_...  \n",
       "4   {'Log__C': 5, 'Log__class_weight': 'balanced',...  \n",
       "5   {'Log__C': 5, 'Log__class_weight': 'balanced',...  \n",
       "6   {'Log__C': 5, 'Log__class_weight': None, 'Log_...  \n",
       "7   {'Log__C': 5, 'Log__class_weight': None, 'Log_...  \n",
       "8   {'Log__C': 10, 'Log__class_weight': 'balanced'...  \n",
       "9   {'Log__C': 10, 'Log__class_weight': 'balanced'...  \n",
       "10  {'Log__C': 10, 'Log__class_weight': None, 'Log...  \n",
       "11  {'Log__C': 10, 'Log__class_weight': None, 'Log...  "
      ]
     },
     "execution_count": 26,
     "metadata": {},
     "output_type": "execute_result"
    }
   ],
   "source": [
    "pd.DataFrame(grid_model1.cv_results_)[[\"mean_test_score\", \"mean_train_score\",\"params\"]]"
   ]
  },
  {
   "cell_type": "code",
   "execution_count": 27,
   "metadata": {},
   "outputs": [
    {
     "data": {
      "text/plain": [
       "mean_test_score     0.672155\n",
       "mean_train_score     0.72171\n",
       "Name: 1, dtype: object"
      ]
     },
     "execution_count": 27,
     "metadata": {},
     "output_type": "execute_result"
    }
   ],
   "source": [
    "pd.DataFrame(grid_model1.cv_results_).loc[grid_model1.best_index_,[\"mean_test_score\", \"mean_train_score\"]]"
   ]
  },
  {
   "cell_type": "code",
   "execution_count": 28,
   "metadata": {},
   "outputs": [
    {
     "data": {
      "text/plain": [
       "0.6721548821548822"
      ]
     },
     "execution_count": 28,
     "metadata": {},
     "output_type": "execute_result"
    }
   ],
   "source": [
    "grid_model1.best_score_"
   ]
  },
  {
   "cell_type": "code",
   "execution_count": 29,
   "metadata": {},
   "outputs": [
    {
     "name": "stdout",
     "output_type": "stream",
     "text": [
      "Test_Set\n",
      "[[232  25   3]\n",
      " [ 12  93  31]\n",
      " [ 13 151 594]]\n",
      "              precision    recall  f1-score   support\n",
      "\n",
      "       Black       0.90      0.89      0.90       260\n",
      "    Hispanic       0.35      0.68      0.46       136\n",
      "       White       0.95      0.78      0.86       758\n",
      "\n",
      "    accuracy                           0.80      1154\n",
      "   macro avg       0.73      0.79      0.74      1154\n",
      "weighted avg       0.87      0.80      0.82      1154\n",
      "\n",
      "\n",
      "Train_Set\n",
      "[[ 946   62   30]\n",
      " [  47  393  103]\n",
      " [  63  516 2455]]\n",
      "              precision    recall  f1-score   support\n",
      "\n",
      "       Black       0.90      0.91      0.90      1038\n",
      "    Hispanic       0.40      0.72      0.52       543\n",
      "       White       0.95      0.81      0.87      3034\n",
      "\n",
      "    accuracy                           0.82      4615\n",
      "   macro avg       0.75      0.81      0.77      4615\n",
      "weighted avg       0.87      0.82      0.84      4615\n",
      "\n"
     ]
    }
   ],
   "source": [
    "eval(grid_model1,x_train, y_train, x_test, y_test)"
   ]
  },
  {
   "cell_type": "code",
   "execution_count": 40,
   "metadata": {},
   "outputs": [
    {
     "name": "stderr",
     "output_type": "stream",
     "text": [
      "c:\\Python310\\lib\\site-packages\\sklearn\\preprocessing\\_encoders.py:868: FutureWarning: `sparse` was renamed to `sparse_output` in version 1.2 and will be removed in 1.4. `sparse_output` is ignored unless you leave `sparse` to its default value.\n",
      "  warnings.warn(\n"
     ]
    },
    {
     "data": {
      "image/png": "[encoded data removed]",
      "text/plain": [
       "<Figure size 640x480 with 1 Axes>"
      ]
     },
     "metadata": {},
     "output_type": "display_data"
    }
   ],
   "source": [
    "from matplotlib import pyplot as plt\n",
    "from scikitplot.metrics import plot_roc, plot_precision_recall\n",
    "opertaions = [('OneHotEncoder', col_trans),\n",
    "              ('Log',LogisticRegression(class_weight='balanced',max_iter=10000,\n",
    "                                                                          random_state=101))]\n",
    "\n",
    "model = Pipeline(steps=opertaions)\n",
    "model.fit(x_train, y_train)\n",
    "\n",
    "\n",
    "y_pred_proba = model.predict_proba(x_test)\n",
    "\n",
    "plot_precision_recall(y_test, y_pred_proba, cmap='Set1')\n",
    "plt.show();"
   ]
  },
  {
   "cell_type": "code",
   "execution_count": 31,
   "metadata": {},
   "outputs": [],
   "source": [
    "opertaions = [('OneHotEncoder', col_trans),\n",
    "              ('Log',LogisticRegression(class_weight='balanced',\n",
    "                                         max_iter=10000,\n",
    "                                         random_state=101,\n",
    "                                         solver=\"liblinear\",\n",
    "                                         penalty=\"l1\"))]\n",
    "\n",
    "pip_log_model_libl = Pipeline(steps=opertaions)"
   ]
  },
  {
   "cell_type": "code",
   "execution_count": 32,
   "metadata": {},
   "outputs": [
    {
     "name": "stderr",
     "output_type": "stream",
     "text": [
      "c:\\Python310\\lib\\site-packages\\sklearn\\preprocessing\\_encoders.py:868: FutureWarning: `sparse` was renamed to `sparse_output` in version 1.2 and will be removed in 1.4. `sparse_output` is ignored unless you leave `sparse` to its default value.\n",
      "  warnings.warn(\n"
     ]
    },
    {
     "data": {
      "text/html": [
       "<style>#sk-container-id-5 {color: black;background-color: white;}#sk-container-id-5 pre{padding: 0;}#sk-container-id-5 div.sk-toggleable {background-color: white;}#sk-container-id-5 label.sk-toggleable__label {cursor: pointer;display: block;width: 100%;margin-bottom: 0;padding: 0.3em;box-sizing: border-box;text-align: center;}#sk-container-id-5 label.sk-toggleable__label-arrow:before {content: \"▸\";float: left;margin-right: 0.25em;color: #696969;}#sk-container-id-5 label.sk-toggleable__label-arrow:hover:before {color: black;}#sk-container-id-5 div.sk-estimator:hover label.sk-toggleable__label-arrow:before {color: black;}#sk-container-id-5 div.sk-toggleable__content {max-height: 0;max-width: 0;overflow: hidden;text-align: left;background-color: #f0f8ff;}#sk-container-id-5 div.sk-toggleable__content pre {margin: 0.2em;color: black;border-radius: 0.25em;background-color: #f0f8ff;}#sk-container-id-5 input.sk-toggleable__control:checked~div.sk-toggleable__content {max-height: 200px;max-width: 100%;overflow: auto;}#sk-container-id-5 input.sk-toggleable__control:checked~label.sk-toggleable__label-arrow:before {content: \"▾\";}#sk-container-id-5 div.sk-estimator input.sk-toggleable__control:checked~label.sk-toggleable__label {background-color: #d4ebff;}#sk-container-id-5 div.sk-label input.sk-toggleable__control:checked~label.sk-toggleable__label {background-color: #d4ebff;}#sk-container-id-5 input.sk-hidden--visually {border: 0;clip: rect(1px 1px 1px 1px);clip: rect(1px, 1px, 1px, 1px);height: 1px;margin: -1px;overflow: hidden;padding: 0;position: absolute;width: 1px;}#sk-container-id-5 div.sk-estimator {font-family: monospace;background-color: #f0f8ff;border: 1px dotted black;border-radius: 0.25em;box-sizing: border-box;margin-bottom: 0.5em;}#sk-container-id-5 div.sk-estimator:hover {background-color: #d4ebff;}#sk-container-id-5 div.sk-parallel-item::after {content: \"\";width: 100%;border-bottom: 1px solid gray;flex-grow: 1;}#sk-container-id-5 div.sk-label:hover label.sk-toggleable__label {background-color: #d4ebff;}#sk-container-id-5 div.sk-serial::before {content: \"\";position: absolute;border-left: 1px solid gray;box-sizing: border-box;top: 0;bottom: 0;left: 50%;z-index: 0;}#sk-container-id-5 div.sk-serial {display: flex;flex-direction: column;align-items: center;background-color: white;padding-right: 0.2em;padding-left: 0.2em;position: relative;}#sk-container-id-5 div.sk-item {position: relative;z-index: 1;}#sk-container-id-5 div.sk-parallel {display: flex;align-items: stretch;justify-content: center;background-color: white;position: relative;}#sk-container-id-5 div.sk-item::before, #sk-container-id-5 div.sk-parallel-item::before {content: \"\";position: absolute;border-left: 1px solid gray;box-sizing: border-box;top: 0;bottom: 0;left: 50%;z-index: -1;}#sk-container-id-5 div.sk-parallel-item {display: flex;flex-direction: column;z-index: 1;position: relative;background-color: white;}#sk-container-id-5 div.sk-parallel-item:first-child::after {align-self: flex-end;width: 50%;}#sk-container-id-5 div.sk-parallel-item:last-child::after {align-self: flex-start;width: 50%;}#sk-container-id-5 div.sk-parallel-item:only-child::after {width: 0;}#sk-container-id-5 div.sk-dashed-wrapped {border: 1px dashed gray;margin: 0 0.4em 0.5em 0.4em;box-sizing: border-box;padding-bottom: 0.4em;background-color: white;}#sk-container-id-5 div.sk-label label {font-family: monospace;font-weight: bold;display: inline-block;line-height: 1.2em;}#sk-container-id-5 div.sk-label-container {text-align: center;}#sk-container-id-5 div.sk-container {/* jupyter's `normalize.less` sets `[hidden] { display: none; }` but bootstrap.min.css set `[hidden] { display: none !important; }` so we also need the `!important` here to be able to override the default hidden behavior on the sphinx rendered scikit-learn.org. See: https://github.com/scikit-learn/scikit-learn/issues/21755 */display: inline-block !important;position: relative;}#sk-container-id-5 div.sk-text-repr-fallback {display: none;}</style><div id=\"sk-container-id-5\" class=\"sk-top-container\"><div class=\"sk-text-repr-fallback\"><pre>Pipeline(steps=[(&#x27;OneHotEncoder&#x27;,\n",
       "                 ColumnTransformer(remainder=MinMaxScaler(),\n",
       "                                   transformers=[(&#x27;onehotencoder&#x27;,\n",
       "                                                  OneHotEncoder(handle_unknown=&#x27;ignore&#x27;,\n",
       "                                                                sparse=False),\n",
       "                                                  Index([&#x27;Gender&#x27;, &#x27;WritingPreference&#x27;], dtype=&#x27;object&#x27;))])),\n",
       "                (&#x27;Log&#x27;,\n",
       "                 LogisticRegression(class_weight=&#x27;balanced&#x27;, max_iter=10000,\n",
       "                                    penalty=&#x27;l1&#x27;, random_state=101,\n",
       "                                    solver=&#x27;liblinear&#x27;))])</pre><b>In a Jupyter environment, please rerun this cell to show the HTML representation or trust the notebook. <br />On GitHub, the HTML representation is unable to render, please try loading this page with nbviewer.org.</b></div><div class=\"sk-container\" hidden><div class=\"sk-item sk-dashed-wrapped\"><div class=\"sk-label-container\"><div class=\"sk-label sk-toggleable\"><input class=\"sk-toggleable__control sk-hidden--visually\" id=\"sk-estimator-id-30\" type=\"checkbox\" ><label for=\"sk-estimator-id-30\" class=\"sk-toggleable__label sk-toggleable__label-arrow\">Pipeline</label><div class=\"sk-toggleable__content\"><pre>Pipeline(steps=[(&#x27;OneHotEncoder&#x27;,\n",
       "                 ColumnTransformer(remainder=MinMaxScaler(),\n",
       "                                   transformers=[(&#x27;onehotencoder&#x27;,\n",
       "                                                  OneHotEncoder(handle_unknown=&#x27;ignore&#x27;,\n",
       "                                                                sparse=False),\n",
       "                                                  Index([&#x27;Gender&#x27;, &#x27;WritingPreference&#x27;], dtype=&#x27;object&#x27;))])),\n",
       "                (&#x27;Log&#x27;,\n",
       "                 LogisticRegression(class_weight=&#x27;balanced&#x27;, max_iter=10000,\n",
       "                                    penalty=&#x27;l1&#x27;, random_state=101,\n",
       "                                    solver=&#x27;liblinear&#x27;))])</pre></div></div></div><div class=\"sk-serial\"><div class=\"sk-item sk-dashed-wrapped\"><div class=\"sk-label-container\"><div class=\"sk-label sk-toggleable\"><input class=\"sk-toggleable__control sk-hidden--visually\" id=\"sk-estimator-id-31\" type=\"checkbox\" ><label for=\"sk-estimator-id-31\" class=\"sk-toggleable__label sk-toggleable__label-arrow\">OneHotEncoder: ColumnTransformer</label><div class=\"sk-toggleable__content\"><pre>ColumnTransformer(remainder=MinMaxScaler(),\n",
       "                  transformers=[(&#x27;onehotencoder&#x27;,\n",
       "                                 OneHotEncoder(handle_unknown=&#x27;ignore&#x27;,\n",
       "                                               sparse=False),\n",
       "                                 Index([&#x27;Gender&#x27;, &#x27;WritingPreference&#x27;], dtype=&#x27;object&#x27;))])</pre></div></div></div><div class=\"sk-parallel\"><div class=\"sk-parallel-item\"><div class=\"sk-item\"><div class=\"sk-label-container\"><div class=\"sk-label sk-toggleable\"><input class=\"sk-toggleable__control sk-hidden--visually\" id=\"sk-estimator-id-32\" type=\"checkbox\" ><label for=\"sk-estimator-id-32\" class=\"sk-toggleable__label sk-toggleable__label-arrow\">onehotencoder</label><div class=\"sk-toggleable__content\"><pre>Index([&#x27;Gender&#x27;, &#x27;WritingPreference&#x27;], dtype=&#x27;object&#x27;)</pre></div></div></div><div class=\"sk-serial\"><div class=\"sk-item\"><div class=\"sk-estimator sk-toggleable\"><input class=\"sk-toggleable__control sk-hidden--visually\" id=\"sk-estimator-id-33\" type=\"checkbox\" ><label for=\"sk-estimator-id-33\" class=\"sk-toggleable__label sk-toggleable__label-arrow\">OneHotEncoder</label><div class=\"sk-toggleable__content\"><pre>OneHotEncoder(handle_unknown=&#x27;ignore&#x27;, sparse=False)</pre></div></div></div></div></div></div><div class=\"sk-parallel-item\"><div class=\"sk-item\"><div class=\"sk-label-container\"><div class=\"sk-label sk-toggleable\"><input class=\"sk-toggleable__control sk-hidden--visually\" id=\"sk-estimator-id-34\" type=\"checkbox\" ><label for=\"sk-estimator-id-34\" class=\"sk-toggleable__label sk-toggleable__label-arrow\">remainder</label><div class=\"sk-toggleable__content\"><pre>[&#x27;abdominalextensiondepthsitting&#x27;, &#x27;acromialheight&#x27;, &#x27;acromionradialelength&#x27;, &#x27;anklecircumference&#x27;, &#x27;axillaheight&#x27;, &#x27;balloffootcircumference&#x27;, &#x27;balloffootlength&#x27;, &#x27;biacromialbreadth&#x27;, &#x27;bicepscircumferenceflexed&#x27;, &#x27;bicristalbreadth&#x27;, &#x27;bideltoidbreadth&#x27;, &#x27;bimalleolarbreadth&#x27;, &#x27;bitragionchinarc&#x27;, &#x27;bitragionsubmandibulararc&#x27;, &#x27;bizygomaticbreadth&#x27;, &#x27;buttockcircumference&#x27;, &#x27;buttockdepth&#x27;, &#x27;buttockheight&#x27;, &#x27;buttockkneelength&#x27;, &#x27;buttockpopliteallength&#x27;, &#x27;calfcircumference&#x27;, &#x27;cervicaleheight&#x27;, &#x27;chestbreadth&#x27;, &#x27;chestcircumference&#x27;, &#x27;chestdepth&#x27;, &#x27;chestheight&#x27;, &#x27;crotchheight&#x27;, &#x27;crotchlengthomphalion&#x27;, &#x27;crotchlengthposterioromphalion&#x27;, &#x27;earbreadth&#x27;, &#x27;earlength&#x27;, &#x27;earprotrusion&#x27;, &#x27;elbowrestheight&#x27;, &#x27;eyeheightsitting&#x27;, &#x27;footbreadthhorizontal&#x27;, &#x27;footlength&#x27;, &#x27;forearmcenterofgriplength&#x27;, &#x27;forearmcircumferenceflexed&#x27;, &#x27;forearmforearmbreadth&#x27;, &#x27;forearmhandlength&#x27;, &#x27;functionalleglength&#x27;, &#x27;handbreadth&#x27;, &#x27;handcircumference&#x27;, &#x27;handlength&#x27;, &#x27;headbreadth&#x27;, &#x27;headcircumference&#x27;, &#x27;headlength&#x27;, &#x27;heelanklecircumference&#x27;, &#x27;heelbreadth&#x27;, &#x27;hipbreadth&#x27;, &#x27;hipbreadthsitting&#x27;, &#x27;iliocristaleheight&#x27;, &#x27;interpupillarybreadth&#x27;, &#x27;interscyei&#x27;, &#x27;interscyeii&#x27;, &#x27;kneeheightmidpatella&#x27;, &#x27;kneeheightsitting&#x27;, &#x27;lateralfemoralepicondyleheight&#x27;, &#x27;lateralmalleolusheight&#x27;, &#x27;lowerthighcircumference&#x27;, &#x27;mentonsellionlength&#x27;, &#x27;neckcircumference&#x27;, &#x27;neckcircumferencebase&#x27;, &#x27;overheadfingertipreachsitting&#x27;, &#x27;palmlength&#x27;, &#x27;poplitealheight&#x27;, &#x27;radialestylionlength&#x27;, &#x27;shouldercircumference&#x27;, &#x27;shoulderelbowlength&#x27;, &#x27;shoulderlength&#x27;, &#x27;sittingheight&#x27;, &#x27;sleevelengthspinewrist&#x27;, &#x27;sleeveoutseam&#x27;, &#x27;span&#x27;, &#x27;stature&#x27;, &#x27;suprasternaleheight&#x27;, &#x27;tenthribheight&#x27;, &#x27;thighcircumference&#x27;, &#x27;thighclearance&#x27;, &#x27;thumbtipreach&#x27;, &#x27;tibialheight&#x27;, &#x27;tragiontopofhead&#x27;, &#x27;trochanterionheight&#x27;, &#x27;verticaltrunkcircumferenceusa&#x27;, &#x27;waistbacklength&#x27;, &#x27;waistbreadth&#x27;, &#x27;waistcircumference&#x27;, &#x27;waistdepth&#x27;, &#x27;waistfrontlengthsitting&#x27;, &#x27;waistheightomphalion&#x27;, &#x27;weightkg&#x27;, &#x27;wristcircumference&#x27;, &#x27;wristheight&#x27;, &#x27;Age&#x27;, &#x27;Heightin&#x27;, &#x27;Weightlbs&#x27;]</pre></div></div></div><div class=\"sk-serial\"><div class=\"sk-item\"><div class=\"sk-estimator sk-toggleable\"><input class=\"sk-toggleable__control sk-hidden--visually\" id=\"sk-estimator-id-35\" type=\"checkbox\" ><label for=\"sk-estimator-id-35\" class=\"sk-toggleable__label sk-toggleable__label-arrow\">MinMaxScaler</label><div class=\"sk-toggleable__content\"><pre>MinMaxScaler()</pre></div></div></div></div></div></div></div></div><div class=\"sk-item\"><div class=\"sk-estimator sk-toggleable\"><input class=\"sk-toggleable__control sk-hidden--visually\" id=\"sk-estimator-id-36\" type=\"checkbox\" ><label for=\"sk-estimator-id-36\" class=\"sk-toggleable__label sk-toggleable__label-arrow\">LogisticRegression</label><div class=\"sk-toggleable__content\"><pre>LogisticRegression(class_weight=&#x27;balanced&#x27;, max_iter=10000, penalty=&#x27;l1&#x27;,\n",
       "                   random_state=101, solver=&#x27;liblinear&#x27;)</pre></div></div></div></div></div></div></div>"
      ],
      "text/plain": [
       "Pipeline(steps=[('OneHotEncoder',\n",
       "                 ColumnTransformer(remainder=MinMaxScaler(),\n",
       "                                   transformers=[('onehotencoder',\n",
       "                                                  OneHotEncoder(handle_unknown='ignore',\n",
       "                                                                sparse=False),\n",
       "                                                  Index(['Gender', 'WritingPreference'], dtype='object'))])),\n",
       "                ('Log',\n",
       "                 LogisticRegression(class_weight='balanced', max_iter=10000,\n",
       "                                    penalty='l1', random_state=101,\n",
       "                                    solver='liblinear'))])"
      ]
     },
     "execution_count": 32,
     "metadata": {},
     "output_type": "execute_result"
    }
   ],
   "source": [
    "pip_log_model_libl.fit(x_train,y_train)"
   ]
  },
  {
   "cell_type": "code",
   "execution_count": 33,
   "metadata": {},
   "outputs": [
    {
     "name": "stdout",
     "output_type": "stream",
     "text": [
      "Test_Set\n",
      "[[237  14   9]\n",
      " [ 15  74  47]\n",
      " [ 14  50 694]]\n",
      "              precision    recall  f1-score   support\n",
      "\n",
      "       Black       0.89      0.91      0.90       260\n",
      "    Hispanic       0.54      0.54      0.54       136\n",
      "       White       0.93      0.92      0.92       758\n",
      "\n",
      "    accuracy                           0.87      1154\n",
      "   macro avg       0.78      0.79      0.79      1154\n",
      "weighted avg       0.87      0.87      0.87      1154\n",
      "\n",
      "\n",
      "Train_Set\n",
      "[[ 965   22   51]\n",
      " [  63  278  202]\n",
      " [  60  180 2794]]\n",
      "              precision    recall  f1-score   support\n",
      "\n",
      "       Black       0.89      0.93      0.91      1038\n",
      "    Hispanic       0.58      0.51      0.54       543\n",
      "       White       0.92      0.92      0.92      3034\n",
      "\n",
      "    accuracy                           0.87      4615\n",
      "   macro avg       0.79      0.79      0.79      4615\n",
      "weighted avg       0.87      0.87      0.87      4615\n",
      "\n"
     ]
    }
   ],
   "source": [
    "eval(pip_log_model_libl,x_train, y_train, x_test, y_test)"
   ]
  },
  {
   "cell_type": "code",
   "execution_count": 34,
   "metadata": {},
   "outputs": [
    {
     "data": {
      "text/plain": [
       "test_precision_Hispanic     0.549307\n",
       "train_precision_Hispanic    0.586907\n",
       "test_f1_Hispanic            0.506369\n",
       "train_f1_Hispanic           0.550322\n",
       "test_recall_Hispanic        0.473333\n",
       "train_recall_Hispanic       0.518109\n",
       "dtype: float64"
      ]
     },
     "execution_count": 34,
     "metadata": {},
     "output_type": "execute_result"
    }
   ],
   "source": [
    "opertaions = [\n",
    "    (\"OneHotEncode\", col_trans), \n",
    "    (\n",
    "        \"Log\",\n",
    "        LogisticRegression(\n",
    "            class_weight=\"balanced\",\n",
    "            max_iter=10000,\n",
    "            random_state=101,\n",
    "            solver=\"liblinear\",\n",
    "            penalty=\"l1\",\n",
    "        ),\n",
    "    ),\n",
    "\n",
    "]\n",
    "model = Pipeline(steps=opertaions)\n",
    "\n",
    "\n",
    "\n",
    "scores = cross_validate(model, x_train, y_train, scoring=scoring, cv=10, n_jobs=-1,return_train_score=True)\n",
    "\n",
    "df_scores = pd.DataFrame(scores, index=range(1, 11))\n",
    "df_scores.mean()[2:]"
   ]
  },
  {
   "cell_type": "code",
   "execution_count": 39,
   "metadata": {},
   "outputs": [
    {
     "name": "stdout",
     "output_type": "stream",
     "text": [
      "Stored 'scoring' (dict)\n"
     ]
    }
   ],
   "source": [
    "%store scoring"
   ]
  },
  {
   "cell_type": "code",
   "execution_count": 41,
   "metadata": {},
   "outputs": [
    {
     "data": {
      "text/plain": [
       "0.5121503748261105"
      ]
     },
     "execution_count": 41,
     "metadata": {},
     "output_type": "execute_result"
    }
   ],
   "source": [
    "# we can't use the average_precision_score function with the y_test variable because it's not a binary\n",
    "from sklearn.metrics import average_precision_score\n",
    "\n",
    "y_test_dummies = pd.get_dummies(y_test).values  # we do that for the sake of the average_precision_score function.\n",
    "\n",
    "average_precision_score(y_test_dummies[:, 1], y_pred_proba[:, 1])\n",
    "\n",
    "# Returns 0 black, 1 hispanic, 2 white scores.\n",
    "# We got hispanic scores by specifying 1 here."
   ]
  },
  {
   "cell_type": "code",
   "execution_count": 42,
   "metadata": {},
   "outputs": [],
   "source": [
    "y_pred = grid_model1.predict(x_test)\n",
    "\n",
    "log_AP = average_precision_score(y_test_dummies[:, 1], y_pred_proba[:, 1])\n",
    "log_f1 = f1_score(y_test, y_pred, average=None, labels=[\"Hispanic\"])\n",
    "log_recall = recall_score(y_test, y_pred, average=None, labels=[\"Hispanic\"])\n",
    "\n",
    "# Since we will compare the scores we got from all models in the table below,\n",
    "# we assign model scores to the variables."
   ]
  },
  {
   "cell_type": "code",
   "execution_count": 46,
   "metadata": {},
   "outputs": [
    {
     "name": "stdout",
     "output_type": "stream",
     "text": [
      "Stored 'log_recall' (ndarray)\n",
      "Stored 'log_AP' (float64)\n",
      "Stored 'log_f1' (ndarray)\n"
     ]
    }
   ],
   "source": [
    "%store log_recall \n",
    "%store log_AP\n",
    "%store log_f1"
   ]
  },
  {
   "cell_type": "code",
   "execution_count": null,
   "metadata": {},
   "outputs": [],
   "source": []
  }
 ],
 "metadata": {
  "kernelspec": {
   "display_name": "Python 3",
   "language": "python",
   "name": "python3"
  },
  "language_info": {
   "codemirror_mode": {
    "name": "ipython",
    "version": 3
   },
   "file_extension": ".py",
   "mimetype": "text/x-python",
   "name": "python",
   "nbconvert_exporter": "python",
   "pygments_lexer": "ipython3",
   "version": "3.10.2"
  }
 },
 "nbformat": 4,
 "nbformat_minor": 2
}
